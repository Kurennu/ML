{
 "cells": [
  {
   "cell_type": "markdown",
   "metadata": {
    "vscode": {
     "languageId": "plaintext"
    }
   },
   "source": [
    "Обучение без учителя"
   ]
  },
  {
   "cell_type": "markdown",
   "metadata": {},
   "source": [
    "Предобработка"
   ]
  },
  {
   "cell_type": "code",
   "execution_count": 16,
   "metadata": {},
   "outputs": [],
   "source": [
    "import pandas as pd\n",
    "import numpy as np\n",
    "import matplotlib.pyplot as plt\n",
    "import seaborn as sns\n",
    "\n",
    "from sklearn.preprocessing import MinMaxScaler\n",
    "from sklearn.model_selection import train_test_split\n",
    "from sklearn.preprocessing import StandardScaler\n",
    "from sklearn.linear_model import LogisticRegression\n",
    "from sklearn.metrics import classification_report, confusion_matrix, accuracy_score\n",
    "\n",
    "\n",
    "df = pd.read_csv('heart_disease.csv')\n",
    "\n",
    "df.columns = df.columns.str.strip()\n",
    "df['sex'] = df['sex'].astype(\"category\")\n",
    "df['chest pain type'] = df['chest pain type'].astype(\"category\")\n",
    "df['fasting blood sugar > 120 mg/dl'] = df['fasting blood sugar > 120 mg/dl'].astype(\"category\")\n",
    "df['resting electrocardiographic results'] = df['resting electrocardiographic results'].astype('category')\n",
    "df['exercise induced angina'] = df['exercise induced angina'].astype('category')\n",
    "df['slope of peak'] = df['slope of peak'].astype('category')\n",
    "df['Disease'] = df['Disease'].astype('category')\n",
    "\n",
    "# Округление до ближайшего целого\n",
    "\n",
    "# Округление до ближайшего целого\n",
    "df['oldpeak'] = df['oldpeak'].astype('int64')\n",
    "# df = df.select_dtypes(include=['float']).round().astype(int)"
   ]
  },
  {
   "cell_type": "code",
   "execution_count": 17,
   "metadata": {},
   "outputs": [
    {
     "name": "stdout",
     "output_type": "stream",
     "text": [
      "<class 'pandas.core.frame.DataFrame'>\n",
      "RangeIndex: 270 entries, 0 to 269\n",
      "Data columns (total 14 columns):\n",
      " #   Column                                Non-Null Count  Dtype   \n",
      "---  ------                                --------------  -----   \n",
      " 0   age                                   270 non-null    int64   \n",
      " 1   sex                                   270 non-null    category\n",
      " 2   chest pain type                       270 non-null    category\n",
      " 3   resting blood pressure                270 non-null    int64   \n",
      " 4   serum cholestoral in mg/dl            270 non-null    int64   \n",
      " 5   fasting blood sugar > 120 mg/dl       270 non-null    category\n",
      " 6   resting electrocardiographic results  270 non-null    category\n",
      " 7   maximum heart rate achieved           270 non-null    int64   \n",
      " 8   exercise induced angina               270 non-null    category\n",
      " 9   oldpeak                               270 non-null    int64   \n",
      " 10  slope of peak                         270 non-null    category\n",
      " 11  number of major vessels               270 non-null    int64   \n",
      " 12  thal                                  270 non-null    int64   \n",
      " 13  Disease                               270 non-null    category\n",
      "dtypes: category(7), int64(7)\n",
      "memory usage: 17.7 KB\n"
     ]
    }
   ],
   "source": [
    "df.info()"
   ]
  },
  {
   "cell_type": "markdown",
   "metadata": {},
   "source": [
    "\n",
    "Преобразование категориальных фич"
   ]
  },
  {
   "cell_type": "code",
   "execution_count": 18,
   "metadata": {},
   "outputs": [
    {
     "data": {
      "text/plain": [
       "Index(['sex', 'chest pain type', 'fasting blood sugar > 120 mg/dl',\n",
       "       'resting electrocardiographic results', 'exercise induced angina',\n",
       "       'slope of peak', 'Disease'],\n",
       "      dtype='object')"
      ]
     },
     "execution_count": 18,
     "metadata": {},
     "output_type": "execute_result"
    }
   ],
   "source": [
    "category_columns: list[str] = df.select_dtypes(include=['category']).columns \n",
    "df = pd.get_dummies(df, columns=category_columns, drop_first=True)\n",
    "category_columns"
   ]
  },
  {
   "cell_type": "markdown",
   "metadata": {},
   "source": [
    "\n",
    "Преобразование непрерывных фич\n"
   ]
  },
  {
   "cell_type": "code",
   "execution_count": 19,
   "metadata": {},
   "outputs": [
    {
     "data": {
      "text/plain": [
       "['age',\n",
       " 'resting blood pressure',\n",
       " 'serum cholestoral in mg/dl',\n",
       " 'maximum heart rate achieved',\n",
       " 'oldpeak',\n",
       " 'number of major vessels',\n",
       " 'thal']"
      ]
     },
     "execution_count": 19,
     "metadata": {},
     "output_type": "execute_result"
    }
   ],
   "source": [
    "from sklearn.preprocessing import MinMaxScaler\n",
    "numeric_features = df.select_dtypes(include=['float64', 'int64']).columns.tolist()\n",
    "\n",
    "scaler = MinMaxScaler()\n",
    "\n",
    "df[numeric_features] = scaler.fit_transform(df[numeric_features])\n",
    "numeric_features"
   ]
  },
  {
   "cell_type": "code",
   "execution_count": 20,
   "metadata": {},
   "outputs": [
    {
     "data": {
      "text/html": [
       "<div>\n",
       "<style scoped>\n",
       "    .dataframe tbody tr th:only-of-type {\n",
       "        vertical-align: middle;\n",
       "    }\n",
       "\n",
       "    .dataframe tbody tr th {\n",
       "        vertical-align: top;\n",
       "    }\n",
       "\n",
       "    .dataframe thead th {\n",
       "        text-align: right;\n",
       "    }\n",
       "</style>\n",
       "<table border=\"1\" class=\"dataframe\">\n",
       "  <thead>\n",
       "    <tr style=\"text-align: right;\">\n",
       "      <th></th>\n",
       "      <th>age</th>\n",
       "      <th>resting blood pressure</th>\n",
       "      <th>serum cholestoral in mg/dl</th>\n",
       "      <th>maximum heart rate achieved</th>\n",
       "      <th>oldpeak</th>\n",
       "      <th>number of major vessels</th>\n",
       "      <th>thal</th>\n",
       "      <th>sex_1</th>\n",
       "      <th>chest pain type_2</th>\n",
       "      <th>chest pain type_3</th>\n",
       "      <th>chest pain type_4</th>\n",
       "      <th>fasting blood sugar &gt; 120 mg/dl_1</th>\n",
       "      <th>resting electrocardiographic results_1</th>\n",
       "      <th>resting electrocardiographic results_2</th>\n",
       "      <th>exercise induced angina_1</th>\n",
       "      <th>slope of peak_2</th>\n",
       "      <th>slope of peak_3</th>\n",
       "      <th>Disease_1</th>\n",
       "    </tr>\n",
       "  </thead>\n",
       "  <tbody>\n",
       "    <tr>\n",
       "      <th>0</th>\n",
       "      <td>0.854167</td>\n",
       "      <td>0.339623</td>\n",
       "      <td>0.447489</td>\n",
       "      <td>0.290076</td>\n",
       "      <td>0.333333</td>\n",
       "      <td>1.000000</td>\n",
       "      <td>0.00</td>\n",
       "      <td>True</td>\n",
       "      <td>False</td>\n",
       "      <td>False</td>\n",
       "      <td>True</td>\n",
       "      <td>False</td>\n",
       "      <td>False</td>\n",
       "      <td>True</td>\n",
       "      <td>False</td>\n",
       "      <td>True</td>\n",
       "      <td>False</td>\n",
       "      <td>True</td>\n",
       "    </tr>\n",
       "    <tr>\n",
       "      <th>1</th>\n",
       "      <td>0.791667</td>\n",
       "      <td>0.198113</td>\n",
       "      <td>1.000000</td>\n",
       "      <td>0.679389</td>\n",
       "      <td>0.166667</td>\n",
       "      <td>0.000000</td>\n",
       "      <td>1.00</td>\n",
       "      <td>False</td>\n",
       "      <td>False</td>\n",
       "      <td>True</td>\n",
       "      <td>False</td>\n",
       "      <td>False</td>\n",
       "      <td>False</td>\n",
       "      <td>True</td>\n",
       "      <td>False</td>\n",
       "      <td>True</td>\n",
       "      <td>False</td>\n",
       "      <td>False</td>\n",
       "    </tr>\n",
       "    <tr>\n",
       "      <th>2</th>\n",
       "      <td>0.583333</td>\n",
       "      <td>0.283019</td>\n",
       "      <td>0.308219</td>\n",
       "      <td>0.534351</td>\n",
       "      <td>0.000000</td>\n",
       "      <td>0.000000</td>\n",
       "      <td>1.00</td>\n",
       "      <td>True</td>\n",
       "      <td>True</td>\n",
       "      <td>False</td>\n",
       "      <td>False</td>\n",
       "      <td>False</td>\n",
       "      <td>False</td>\n",
       "      <td>False</td>\n",
       "      <td>False</td>\n",
       "      <td>False</td>\n",
       "      <td>False</td>\n",
       "      <td>True</td>\n",
       "    </tr>\n",
       "    <tr>\n",
       "      <th>3</th>\n",
       "      <td>0.729167</td>\n",
       "      <td>0.320755</td>\n",
       "      <td>0.312785</td>\n",
       "      <td>0.259542</td>\n",
       "      <td>0.000000</td>\n",
       "      <td>0.333333</td>\n",
       "      <td>1.00</td>\n",
       "      <td>True</td>\n",
       "      <td>False</td>\n",
       "      <td>False</td>\n",
       "      <td>True</td>\n",
       "      <td>False</td>\n",
       "      <td>False</td>\n",
       "      <td>False</td>\n",
       "      <td>True</td>\n",
       "      <td>True</td>\n",
       "      <td>False</td>\n",
       "      <td>False</td>\n",
       "    </tr>\n",
       "    <tr>\n",
       "      <th>4</th>\n",
       "      <td>0.937500</td>\n",
       "      <td>0.245283</td>\n",
       "      <td>0.326484</td>\n",
       "      <td>0.381679</td>\n",
       "      <td>0.000000</td>\n",
       "      <td>0.333333</td>\n",
       "      <td>0.00</td>\n",
       "      <td>False</td>\n",
       "      <td>True</td>\n",
       "      <td>False</td>\n",
       "      <td>False</td>\n",
       "      <td>False</td>\n",
       "      <td>False</td>\n",
       "      <td>True</td>\n",
       "      <td>True</td>\n",
       "      <td>False</td>\n",
       "      <td>False</td>\n",
       "      <td>False</td>\n",
       "    </tr>\n",
       "    <tr>\n",
       "      <th>...</th>\n",
       "      <td>...</td>\n",
       "      <td>...</td>\n",
       "      <td>...</td>\n",
       "      <td>...</td>\n",
       "      <td>...</td>\n",
       "      <td>...</td>\n",
       "      <td>...</td>\n",
       "      <td>...</td>\n",
       "      <td>...</td>\n",
       "      <td>...</td>\n",
       "      <td>...</td>\n",
       "      <td>...</td>\n",
       "      <td>...</td>\n",
       "      <td>...</td>\n",
       "      <td>...</td>\n",
       "      <td>...</td>\n",
       "      <td>...</td>\n",
       "      <td>...</td>\n",
       "    </tr>\n",
       "    <tr>\n",
       "      <th>265</th>\n",
       "      <td>0.479167</td>\n",
       "      <td>0.735849</td>\n",
       "      <td>0.166667</td>\n",
       "      <td>0.694656</td>\n",
       "      <td>0.000000</td>\n",
       "      <td>0.000000</td>\n",
       "      <td>1.00</td>\n",
       "      <td>True</td>\n",
       "      <td>False</td>\n",
       "      <td>True</td>\n",
       "      <td>False</td>\n",
       "      <td>True</td>\n",
       "      <td>False</td>\n",
       "      <td>False</td>\n",
       "      <td>False</td>\n",
       "      <td>False</td>\n",
       "      <td>False</td>\n",
       "      <td>False</td>\n",
       "    </tr>\n",
       "    <tr>\n",
       "      <th>266</th>\n",
       "      <td>0.312500</td>\n",
       "      <td>0.245283</td>\n",
       "      <td>0.312785</td>\n",
       "      <td>0.778626</td>\n",
       "      <td>0.000000</td>\n",
       "      <td>0.000000</td>\n",
       "      <td>1.00</td>\n",
       "      <td>True</td>\n",
       "      <td>True</td>\n",
       "      <td>False</td>\n",
       "      <td>False</td>\n",
       "      <td>False</td>\n",
       "      <td>False</td>\n",
       "      <td>False</td>\n",
       "      <td>False</td>\n",
       "      <td>False</td>\n",
       "      <td>False</td>\n",
       "      <td>False</td>\n",
       "    </tr>\n",
       "    <tr>\n",
       "      <th>267</th>\n",
       "      <td>0.562500</td>\n",
       "      <td>0.433962</td>\n",
       "      <td>0.383562</td>\n",
       "      <td>0.625954</td>\n",
       "      <td>0.166667</td>\n",
       "      <td>0.000000</td>\n",
       "      <td>0.00</td>\n",
       "      <td>False</td>\n",
       "      <td>True</td>\n",
       "      <td>False</td>\n",
       "      <td>False</td>\n",
       "      <td>False</td>\n",
       "      <td>False</td>\n",
       "      <td>True</td>\n",
       "      <td>False</td>\n",
       "      <td>True</td>\n",
       "      <td>False</td>\n",
       "      <td>False</td>\n",
       "    </tr>\n",
       "    <tr>\n",
       "      <th>268</th>\n",
       "      <td>0.583333</td>\n",
       "      <td>0.433962</td>\n",
       "      <td>0.150685</td>\n",
       "      <td>0.587786</td>\n",
       "      <td>0.000000</td>\n",
       "      <td>0.000000</td>\n",
       "      <td>0.75</td>\n",
       "      <td>True</td>\n",
       "      <td>False</td>\n",
       "      <td>False</td>\n",
       "      <td>True</td>\n",
       "      <td>False</td>\n",
       "      <td>False</td>\n",
       "      <td>False</td>\n",
       "      <td>False</td>\n",
       "      <td>True</td>\n",
       "      <td>False</td>\n",
       "      <td>False</td>\n",
       "    </tr>\n",
       "    <tr>\n",
       "      <th>269</th>\n",
       "      <td>0.791667</td>\n",
       "      <td>0.622642</td>\n",
       "      <td>0.365297</td>\n",
       "      <td>0.282443</td>\n",
       "      <td>0.166667</td>\n",
       "      <td>1.000000</td>\n",
       "      <td>0.00</td>\n",
       "      <td>True</td>\n",
       "      <td>False</td>\n",
       "      <td>False</td>\n",
       "      <td>True</td>\n",
       "      <td>False</td>\n",
       "      <td>False</td>\n",
       "      <td>True</td>\n",
       "      <td>True</td>\n",
       "      <td>True</td>\n",
       "      <td>False</td>\n",
       "      <td>True</td>\n",
       "    </tr>\n",
       "  </tbody>\n",
       "</table>\n",
       "<p>270 rows × 18 columns</p>\n",
       "</div>"
      ],
      "text/plain": [
       "          age  resting blood pressure  serum cholestoral in mg/dl  \\\n",
       "0    0.854167                0.339623                    0.447489   \n",
       "1    0.791667                0.198113                    1.000000   \n",
       "2    0.583333                0.283019                    0.308219   \n",
       "3    0.729167                0.320755                    0.312785   \n",
       "4    0.937500                0.245283                    0.326484   \n",
       "..        ...                     ...                         ...   \n",
       "265  0.479167                0.735849                    0.166667   \n",
       "266  0.312500                0.245283                    0.312785   \n",
       "267  0.562500                0.433962                    0.383562   \n",
       "268  0.583333                0.433962                    0.150685   \n",
       "269  0.791667                0.622642                    0.365297   \n",
       "\n",
       "     maximum heart rate achieved   oldpeak  number of major vessels  thal  \\\n",
       "0                       0.290076  0.333333                 1.000000  0.00   \n",
       "1                       0.679389  0.166667                 0.000000  1.00   \n",
       "2                       0.534351  0.000000                 0.000000  1.00   \n",
       "3                       0.259542  0.000000                 0.333333  1.00   \n",
       "4                       0.381679  0.000000                 0.333333  0.00   \n",
       "..                           ...       ...                      ...   ...   \n",
       "265                     0.694656  0.000000                 0.000000  1.00   \n",
       "266                     0.778626  0.000000                 0.000000  1.00   \n",
       "267                     0.625954  0.166667                 0.000000  0.00   \n",
       "268                     0.587786  0.000000                 0.000000  0.75   \n",
       "269                     0.282443  0.166667                 1.000000  0.00   \n",
       "\n",
       "     sex_1  chest pain type_2  chest pain type_3  chest pain type_4  \\\n",
       "0     True              False              False               True   \n",
       "1    False              False               True              False   \n",
       "2     True               True              False              False   \n",
       "3     True              False              False               True   \n",
       "4    False               True              False              False   \n",
       "..     ...                ...                ...                ...   \n",
       "265   True              False               True              False   \n",
       "266   True               True              False              False   \n",
       "267  False               True              False              False   \n",
       "268   True              False              False               True   \n",
       "269   True              False              False               True   \n",
       "\n",
       "     fasting blood sugar > 120 mg/dl_1  \\\n",
       "0                                False   \n",
       "1                                False   \n",
       "2                                False   \n",
       "3                                False   \n",
       "4                                False   \n",
       "..                                 ...   \n",
       "265                               True   \n",
       "266                              False   \n",
       "267                              False   \n",
       "268                              False   \n",
       "269                              False   \n",
       "\n",
       "     resting electrocardiographic results_1  \\\n",
       "0                                     False   \n",
       "1                                     False   \n",
       "2                                     False   \n",
       "3                                     False   \n",
       "4                                     False   \n",
       "..                                      ...   \n",
       "265                                   False   \n",
       "266                                   False   \n",
       "267                                   False   \n",
       "268                                   False   \n",
       "269                                   False   \n",
       "\n",
       "     resting electrocardiographic results_2  exercise induced angina_1  \\\n",
       "0                                      True                      False   \n",
       "1                                      True                      False   \n",
       "2                                     False                      False   \n",
       "3                                     False                       True   \n",
       "4                                      True                       True   \n",
       "..                                      ...                        ...   \n",
       "265                                   False                      False   \n",
       "266                                   False                      False   \n",
       "267                                    True                      False   \n",
       "268                                   False                      False   \n",
       "269                                    True                       True   \n",
       "\n",
       "     slope of peak_2  slope of peak_3  Disease_1  \n",
       "0               True            False       True  \n",
       "1               True            False      False  \n",
       "2              False            False       True  \n",
       "3               True            False      False  \n",
       "4              False            False      False  \n",
       "..               ...              ...        ...  \n",
       "265            False            False      False  \n",
       "266            False            False      False  \n",
       "267             True            False      False  \n",
       "268             True            False      False  \n",
       "269             True            False       True  \n",
       "\n",
       "[270 rows x 18 columns]"
      ]
     },
     "execution_count": 20,
     "metadata": {},
     "output_type": "execute_result"
    }
   ],
   "source": [
    "df"
   ]
  },
  {
   "cell_type": "markdown",
   "metadata": {},
   "source": [
    "\n",
    "K-means\n"
   ]
  },
  {
   "cell_type": "code",
   "execution_count": 21,
   "metadata": {},
   "outputs": [
    {
     "data": {
      "application/vnd.jupyter.widget-view+json": {
       "model_id": "4f5ec0459f2546ae9e4207a14a3e7ab6",
       "version_major": 2,
       "version_minor": 0
      },
      "text/plain": [
       "interactive(children=(IntSlider(value=3, description='Clusters (k):', max=10, min=2), IntSlider(value=10, desc…"
      ]
     },
     "metadata": {},
     "output_type": "display_data"
    }
   ],
   "source": [
    "import numpy as np\n",
    "import pandas as pd\n",
    "import matplotlib.pyplot as plt\n",
    "import ipywidgets as widgets\n",
    "from IPython.display import display, clear_output\n",
    "\n",
    "def interactive_kmeans_visualization(X, max_clusters=10, max_iterations=50):\n",
    "    if isinstance(X, pd.DataFrame):\n",
    "        X = X.values.astype(float)\n",
    "    \n",
    "    def plot_kmeans_iteration(X, centroids, labels=None, step=0):\n",
    "        clear_output(wait=True)\n",
    "        plt.figure(figsize=(8, 6))\n",
    "        if labels is not None:\n",
    "            plt.scatter(X[:, 0], X[:, 1], c=labels, cmap='viridis', s=30, alpha=0.6)\n",
    "        else:\n",
    "            plt.scatter(X[:, 0], X[:, 1], s=30, alpha=0.6)\n",
    "        plt.scatter(centroids[:, 0], centroids[:, 1], c='red', marker='x', s=100, label='Centroids')\n",
    "        plt.title(f'K-means Iteration {step}')\n",
    "        plt.legend()\n",
    "        plt.show()\n",
    "    \n",
    "    def k_means_interactive(X, k, max_iters):\n",
    "        np.random.seed(42)\n",
    "        centroids = X[np.random.choice(X.shape[0], k, replace=False)]\n",
    "        \n",
    "        for step in range(max_iters):\n",
    "            #ручное вычисление евклидова расстояния\n",
    "            distances = np.sqrt(np.sum((X[:, np.newaxis] - centroids)**2, axis=2))\n",
    "            labels = np.argmin(distances, axis=1)\n",
    "            \n",
    "            plot_kmeans_iteration(X, centroids, labels, step)\n",
    "            \n",
    "            new_centroids = np.array([X[labels == i].mean(axis=0) for i in range(k)])\n",
    "            \n",
    "            if np.all(centroids == new_centroids):\n",
    "                break\n",
    "            \n",
    "            centroids = new_centroids\n",
    "    \n",
    "    def run_kmeans(k, max_iters):\n",
    "        k_means_interactive(X, k, max_iters)\n",
    "    \n",
    "    k_slider = widgets.IntSlider(value=3, min=2, max=max_clusters, step=1, description='Clusters (k):')\n",
    "    iter_slider = widgets.IntSlider(value=10, min=1, max=max_iterations, step=1, description='Max Iterations:')\n",
    "    \n",
    "    interactive_plot = widgets.interactive(run_kmeans, k=k_slider, max_iters=iter_slider)\n",
    "    display(interactive_plot)\n",
    "\n",
    "interactive_kmeans_visualization(df[:100])"
   ]
  },
  {
   "cell_type": "markdown",
   "metadata": {},
   "source": [
    "K-means через реализацию skelarn"
   ]
  },
  {
   "cell_type": "code",
   "execution_count": 22,
   "metadata": {},
   "outputs": [
    {
     "name": "stdout",
     "output_type": "stream",
     "text": [
      "Статистика по кластерам:\n",
      "\n",
      "Статистика для признака 'age':\n",
      "             mean       std    min       max\n",
      "Cluster                                     \n",
      "0        0.574552  0.170013  0.125  1.000000\n",
      "1        0.493568  0.197641  0.000  0.979167\n",
      "\n",
      "Статистика для признака 'resting blood pressure':\n",
      "             mean       std       min       max\n",
      "Cluster                                        \n",
      "0        0.381101  0.179793  0.056604  1.000000\n",
      "1        0.328922  0.155468  0.000000  0.811321\n",
      "\n",
      "Статистика для признака 'serum cholestoral in mg/dl':\n",
      "             mean       std       min       max\n",
      "Cluster                                        \n",
      "0        0.292313  0.106110  0.086758  0.646119\n",
      "1        0.274218  0.126622  0.000000  1.000000\n",
      "\n",
      "Статистика для признака 'maximum heart rate achieved':\n",
      "             mean       std      min       max\n",
      "Cluster                                       \n",
      "0        0.513785  0.177582  0.00000  0.946565\n",
      "1        0.671090  0.141790  0.19084  1.000000\n",
      "\n",
      "Статистика для признака 'oldpeak':\n",
      "             mean       std  min       max\n",
      "Cluster                                   \n",
      "0        0.203857  0.202402  0.0  1.000000\n",
      "1        0.065996  0.119148  0.0  0.666667\n",
      "\n",
      "Статистика для признака 'number of major vessels':\n",
      "             mean       std  min  max\n",
      "Cluster                              \n",
      "0        0.377410  0.344110  0.0  1.0\n",
      "1        0.098434  0.220916  0.0  1.0\n",
      "\n",
      "Статистика для признака 'thal':\n",
      "             mean       std  min  max\n",
      "Cluster                              \n",
      "0        0.745868  0.417062  0.0  1.0\n",
      "1        0.162752  0.365217  0.0  1.0\n",
      "\n",
      "Статистика для признака 'sex_1':\n",
      "             mean      std    min   max\n",
      "Cluster                                \n",
      "0        0.826446  0.38030  False  True\n",
      "1        0.557047  0.49841  False  True\n",
      "\n",
      "Статистика для признака 'chest pain type_2':\n",
      "             mean       std    min   max\n",
      "Cluster                                 \n",
      "0        0.024793  0.156141  False  True\n",
      "1        0.261745  0.441067  False  True\n",
      "\n",
      "Статистика для признака 'chest pain type_3':\n",
      "             mean       std    min   max\n",
      "Cluster                                 \n",
      "0        0.099174  0.300138  False  True\n",
      "1        0.449664  0.499138  False  True\n",
      "\n",
      "Статистика для признака 'chest pain type_4':\n",
      "             mean       std    min   max\n",
      "Cluster                                 \n",
      "0        0.842975  0.365337  False  True\n",
      "1        0.181208  0.386490  False  True\n",
      "\n",
      "Статистика для признака 'fasting blood sugar > 120 mg/dl_1':\n",
      "             mean       std    min   max\n",
      "Cluster                                 \n",
      "0        0.140496  0.348946  False  True\n",
      "1        0.154362  0.362514  False  True\n",
      "\n",
      "Статистика для признака 'resting electrocardiographic results_1':\n",
      "             mean       std    min   max\n",
      "Cluster                                 \n",
      "0        0.008264  0.090909  False  True\n",
      "1        0.006711  0.081923  False  True\n",
      "\n",
      "Статистика для признака 'resting electrocardiographic results_2':\n",
      "             mean       std    min   max\n",
      "Cluster                                 \n",
      "0        0.603306  0.491246  False  True\n",
      "1        0.429530  0.496679  False  True\n",
      "\n",
      "Статистика для признака 'exercise induced angina_1':\n",
      "             mean       std    min   max\n",
      "Cluster                                 \n",
      "0        0.603306  0.491246  False  True\n",
      "1        0.107383  0.310643  False  True\n",
      "\n",
      "Статистика для признака 'slope of peak_2':\n",
      "             mean       std    min   max\n",
      "Cluster                                 \n",
      "0        0.677686  0.469306  False  True\n",
      "1        0.268456  0.444651  False  True\n",
      "\n",
      "Статистика для признака 'slope of peak_3':\n",
      "             mean       std    min   max\n",
      "Cluster                                 \n",
      "0        0.074380  0.263480  False  True\n",
      "1        0.060403  0.239035  False  True\n",
      "\n",
      "Статистика для признака 'Disease_1':\n",
      "             mean       std    min   max\n",
      "Cluster                                 \n",
      "0        0.909091  0.288675  False  True\n",
      "1        0.067114  0.251063  False  True\n",
      "\n",
      "Коэффициент силуэта для k=2: 0.2174\n"
     ]
    }
   ],
   "source": [
    "import numpy as np\n",
    "import pandas as pd\n",
    "import matplotlib.pyplot as plt\n",
    "from sklearn.cluster import KMeans\n",
    "from sklearn.metrics import silhouette_score\n",
    "\n",
    "# Определяем количество кластеров k\n",
    "k = 2\n",
    "\n",
    "kmeans = KMeans(n_clusters=k, random_state=42)\n",
    "labels = kmeans.fit_predict(df)\n",
    "centroids = kmeans.cluster_centers_\n",
    "\n",
    "df_k_means = df.copy()\n",
    "df_k_means['Cluster'] = labels\n",
    "\n",
    "print(\"Статистика по кластерам:\")\n",
    "for column in df.columns:\n",
    "    print(f\"\\nСтатистика для признака '{column}':\")\n",
    "    cluster_stats = df_k_means.groupby('Cluster')[column].agg(['mean', 'std', 'min', 'max'])\n",
    "    print(cluster_stats)\n",
    "\n",
    "if k > 1:\n",
    "    silhouette_avg = silhouette_score(df, labels)\n",
    "    print(f\"\\nКоэффициент силуэта для k={k}: {silhouette_avg:.4f}\")\n",
    "else:\n",
    "    print(\"\\nКоэффициент силуэта не определен для k=1\")\n"
   ]
  },
  {
   "cell_type": "markdown",
   "metadata": {},
   "source": [
    "Самый лучший силуэт - 0.2174 при двух кластерах\n",
    "\n",
    "Кластер 0:\n",
    "<li>Больше мужчин (В случае если 1 - мужской пол)</li>\n",
    "<li>Высокая депрессия сегмента ST</li>\n",
    "<li>У всех есть заболевания сердца (среднее - 0,9)</li>\n",
    "<li>Часто встречается тип боли в груди 4</li>\n",
    "<li>Высокое значение thal</li>\n",
    "<li>Больше сосудов</li>\n",
    "\n",
    "\n",
    "Кластер 1:\n",
    "<li>Больше женщин</li>\n",
    "<li>Депрессия сегмента ST сильно ниже (всего 0,066)</li>\n",
    "<li>Очень низкий процент больных сердечек (среднее - 0,067)</li>\n",
    "<li>Иногда встречается тип боли в груди 2 и 3</li>\n",
    "<li>Высокое значение thal</li>\n",
    "<li>Очень мало сосудов</li>\n",
    "\n",
    "Что имеем по итогу:\n",
    "Скорее всего в кластере 0 ребята в очень высокой зоне риска сердечных заболеваний. В кластере 1 не самые здоровые, но профилактики будет достаточно"
   ]
  },
  {
   "cell_type": "code",
   "execution_count": 23,
   "metadata": {},
   "outputs": [
    {
     "name": "stdout",
     "output_type": "stream",
     "text": [
      "Индекс Калински-Харабаза для K-means: 82.0750\n",
      "Индекс Дэвиса-Болдина для K-means: 1.7607\n",
      "Коэффициент силуэта для K-means: 0.2174\n"
     ]
    }
   ],
   "source": [
    "from sklearn.metrics  import calinski_harabasz_score, davies_bouldin_score\n",
    "# Кластеризация K-means\n",
    "k = 2\n",
    "kmeans = KMeans(n_clusters=k, random_state=42)\n",
    "labels_kmeans = kmeans.fit_predict(df)\n",
    "\n",
    "# Индекс Калински-Харабаза\n",
    "ch_score_kmeans = calinski_harabasz_score(df, labels_kmeans)\n",
    "print(f\"Индекс Калински-Харабаза для K-means: {ch_score_kmeans:.4f}\")\n",
    "\n",
    "# Индекс Дэвиса-Болдина\n",
    "db_score_kmeans = davies_bouldin_score(df, labels_kmeans)\n",
    "print(f\"Индекс Дэвиса-Болдина для K-means: {db_score_kmeans:.4f}\")\n",
    "\n",
    "# Коэффициент силуэта\n",
    "sh_score_kmeans = silhouette_score(df, labels_kmeans)\n",
    "print(f\"Коэффициент силуэта для K-means: {sh_score_kmeans:.4f}\")"
   ]
  },
  {
   "cell_type": "markdown",
   "metadata": {},
   "source": [
    "DBSSCAN"
   ]
  },
  {
   "cell_type": "code",
   "execution_count": 24,
   "metadata": {},
   "outputs": [
    {
     "data": {
      "application/vnd.jupyter.widget-view+json": {
       "model_id": "dcd141df882f44f896f5b7c04a04459a",
       "version_major": 2,
       "version_minor": 0
      },
      "text/plain": [
       "VBox(children=(FloatSlider(value=0.5, description='eps:', max=1.0, min=0.1, step=0.05), IntSlider(value=5, des…"
      ]
     },
     "metadata": {},
     "output_type": "display_data"
    },
    {
     "data": {
      "application/vnd.jupyter.widget-view+json": {
       "model_id": "486fe13e3f134a1298d085e4bd88cf16",
       "version_major": 2,
       "version_minor": 0
      },
      "text/plain": [
       "Output()"
      ]
     },
     "metadata": {},
     "output_type": "display_data"
    }
   ],
   "source": [
    "import numpy as np\n",
    "import pandas as pd\n",
    "import matplotlib.pyplot as plt\n",
    "from ipywidgets import widgets\n",
    "from IPython.display import display, clear_output\n",
    "from sklearn.cluster import DBSCAN\n",
    "from sklearn.neighbors import NearestNeighbors\n",
    "\n",
    "def interactive_dbscan_visualization(X):\n",
    "    if isinstance(X, pd.DataFrame):\n",
    "        X = X.values\n",
    "\n",
    "    def plot_dbscan(X, labels, core_samples_mask, eps, min_samples, metric):\n",
    "        clear_output(wait=True)\n",
    "        unique_labels = set(labels)\n",
    "        colors = [plt.cm.Spectral(each)\n",
    "                  for each in np.linspace(0, 1, len(unique_labels))]\n",
    "        plt.figure(figsize=(8, 6))\n",
    "        for k, col in zip(unique_labels, colors):\n",
    "            if k == -1:\n",
    "                # Черный цвет для шума\n",
    "                col = [0, 0, 0, 1]\n",
    "\n",
    "            class_member_mask = (labels == k)\n",
    "\n",
    "            xy = X[class_member_mask & core_samples_mask]\n",
    "            plt.plot(xy[:, 0], xy[:, 1], 'o', markerfacecolor=tuple(col),\n",
    "                     markeredgecolor='k', markersize=14)\n",
    "\n",
    "            xy = X[class_member_mask & ~core_samples_mask]\n",
    "            plt.plot(xy[:, 0], xy[:, 1], 'o', markerfacecolor=tuple(col),\n",
    "                     markeredgecolor='k', markersize=6)\n",
    "\n",
    "        plt.title(f'DBSCAN: eps={eps}, min_samples={min_samples}, metric={metric}')\n",
    "        plt.show()\n",
    "\n",
    "    def run_dbscan(eps, min_samples, metric):\n",
    "        # Обучение DBSCAN\n",
    "        db = DBSCAN(eps=eps, min_samples=min_samples, metric=metric)\n",
    "        db.fit(X)\n",
    "        labels = db.labels_\n",
    "        core_samples_mask = np.zeros_like(db.labels_, dtype=bool)\n",
    "        core_samples_mask[db.core_sample_indices_] = True\n",
    "        plot_dbscan(X, labels, core_samples_mask, eps, min_samples, metric)\n",
    "\n",
    "    # Виджеты для настройки параметров\n",
    "    eps_slider = widgets.FloatSlider(value=0.5, min=0.1, max=1.0, step=0.05, description='eps:')\n",
    "    min_samples_slider = widgets.IntSlider(value=5, min=1, max=20, step=1, description='min_samples:')\n",
    "    metric_dropdown = widgets.Dropdown(options=['euclidean', 'manhattan', 'chebyshev', 'minkowski'],\n",
    "                                       value='euclidean', description='metric:')\n",
    "\n",
    "    ui = widgets.VBox([eps_slider, min_samples_slider, metric_dropdown])\n",
    "    out = widgets.interactive_output(run_dbscan, {'eps': eps_slider, 'min_samples': min_samples_slider, 'metric': metric_dropdown})\n",
    "    display(ui, out)\n",
    "\n",
    "# Пример использования\n",
    "interactive_dbscan_visualization(df[:120])"
   ]
  },
  {
   "cell_type": "markdown",
   "metadata": {},
   "source": [
    "DBSSCAN через sklearn"
   ]
  },
  {
   "cell_type": "code",
   "execution_count": 25,
   "metadata": {},
   "outputs": [
    {
     "name": "stdout",
     "output_type": "stream",
     "text": [
      "Количество кластеров: 2\n",
      "Статистика по кластерам:\n",
      "\n",
      "Статистика для признака 'age':\n",
      "             mean       std       min       max  count\n",
      "Cluster                                               \n",
      "0        0.588542  0.116207  0.291667  0.791667     12\n",
      "1        0.414062  0.122210  0.250000  0.562500      8\n",
      "\n",
      "Статистика для признака 'resting blood pressure':\n",
      "             mean       std       min       max  count\n",
      "Cluster                                               \n",
      "0        0.349057  0.132991  0.150943  0.622642     12\n",
      "1        0.273585  0.073422  0.150943  0.377358      8\n",
      "\n",
      "Статистика для признака 'serum cholestoral in mg/dl':\n",
      "             mean       std       min       max  count\n",
      "Cluster                                               \n",
      "0        0.260464  0.086476  0.116438  0.372146     12\n",
      "1        0.294521  0.092828  0.171233  0.454338      8\n",
      "\n",
      "Статистика для признака 'maximum heart rate achieved':\n",
      "             mean       std       min       max  count\n",
      "Cluster                                               \n",
      "0        0.436387  0.105213  0.259542  0.564885     12\n",
      "1        0.716603  0.069538  0.625954  0.816794      8\n",
      "\n",
      "Статистика для признака 'oldpeak':\n",
      "             mean       std  min  max  count\n",
      "Cluster                                     \n",
      "0        0.277778  0.147938  0.0  0.5     12\n",
      "1        0.000000  0.000000  0.0  0.0      8\n",
      "\n",
      "Статистика для признака 'number of major vessels':\n",
      "             mean       std  min       max  count\n",
      "Cluster                                          \n",
      "0        0.472222  0.264320  0.0  1.000000     12\n",
      "1        0.041667  0.117851  0.0  0.333333      8\n",
      "\n",
      "Статистика для признака 'thal':\n",
      "             mean       std   min  max  count\n",
      "Cluster                                      \n",
      "0        0.958333  0.097312  0.75  1.0     12\n",
      "1        0.000000  0.000000  0.00  0.0      8\n",
      "\n",
      "Статистика для признака 'sex_1':\n",
      "         mean  std   min   max  count\n",
      "Cluster                              \n",
      "0         1.0  0.0  True  True     12\n",
      "1         1.0  0.0  True  True      8\n",
      "\n",
      "Статистика для признака 'chest pain type_2':\n",
      "         mean  std    min    max  count\n",
      "Cluster                                \n",
      "0         0.0  0.0  False  False     12\n",
      "1         1.0  0.0   True   True      8\n",
      "\n",
      "Статистика для признака 'chest pain type_3':\n",
      "         mean  std    min    max  count\n",
      "Cluster                                \n",
      "0         0.0  0.0  False  False     12\n",
      "1         0.0  0.0  False  False      8\n",
      "\n",
      "Статистика для признака 'chest pain type_4':\n",
      "         mean  std    min    max  count\n",
      "Cluster                                \n",
      "0         1.0  0.0   True   True     12\n",
      "1         0.0  0.0  False  False      8\n",
      "\n",
      "Статистика для признака 'fasting blood sugar > 120 mg/dl_1':\n",
      "         mean  std    min    max  count\n",
      "Cluster                                \n",
      "0         0.0  0.0  False  False     12\n",
      "1         0.0  0.0  False  False      8\n",
      "\n",
      "Статистика для признака 'resting electrocardiographic results_1':\n",
      "         mean  std    min    max  count\n",
      "Cluster                                \n",
      "0         0.0  0.0  False  False     12\n",
      "1         0.0  0.0  False  False      8\n",
      "\n",
      "Статистика для признака 'resting electrocardiographic results_2':\n",
      "         mean  std    min    max  count\n",
      "Cluster                                \n",
      "0         1.0  0.0   True   True     12\n",
      "1         0.0  0.0  False  False      8\n",
      "\n",
      "Статистика для признака 'exercise induced angina_1':\n",
      "         mean  std    min    max  count\n",
      "Cluster                                \n",
      "0         1.0  0.0   True   True     12\n",
      "1         0.0  0.0  False  False      8\n",
      "\n",
      "Статистика для признака 'slope of peak_2':\n",
      "         mean  std    min    max  count\n",
      "Cluster                                \n",
      "0         1.0  0.0   True   True     12\n",
      "1         0.0  0.0  False  False      8\n",
      "\n",
      "Статистика для признака 'slope of peak_3':\n",
      "         mean  std    min    max  count\n",
      "Cluster                                \n",
      "0         0.0  0.0  False  False     12\n",
      "1         0.0  0.0  False  False      8\n",
      "\n",
      "Статистика для признака 'Disease_1':\n",
      "         mean  std    min    max  count\n",
      "Cluster                                \n",
      "0         1.0  0.0   True   True     12\n",
      "1         0.0  0.0  False  False      8\n",
      "\n",
      "Коэффициент силуэта для DBSCAN: 0.8430\n"
     ]
    },
    {
     "data": {
      "image/png": "[encoded data removed]",
      "text/plain": [
       "<Figure size 800x600 with 1 Axes>"
      ]
     },
     "metadata": {},
     "output_type": "display_data"
    }
   ],
   "source": [
    "import numpy as np\n",
    "import pandas as pd\n",
    "import matplotlib.pyplot as plt\n",
    "from sklearn.cluster import DBSCAN\n",
    "from sklearn.metrics import silhouette_score\n",
    "\n",
    "# Параметры DBSCAN\n",
    "eps = 0.5\n",
    "min_samples = 8\n",
    "metric = 'euclidean'\n",
    "\n",
    "# Обучение модели DBSCAN\n",
    "db = DBSCAN(eps=eps, min_samples=min_samples, metric=metric)\n",
    "labels = db.fit_predict(df)\n",
    "\n",
    "# Добавляем метки кластеров в DataFrame\n",
    "df_dbscan = df.copy()\n",
    "df_dbscan['Cluster'] = labels\n",
    "\n",
    "# Количество кластеров (исключая шум)\n",
    "n_clusters_ = len(set(labels)) - (1 if -1 in labels else 0)\n",
    "print(f\"Количество кластеров: {n_clusters_}\")\n",
    "\n",
    "# Вывод статистики по кластерам\n",
    "print(\"Статистика по кластерам:\")\n",
    "for column in df.columns:\n",
    "    print(f\"\\nСтатистика для признака '{column}':\")\n",
    "    cluster_stats = df_dbscan[df_dbscan['Cluster'] != -1].groupby('Cluster')[column].agg(['mean', 'std', 'min', 'max', 'count'])\n",
    "    print(cluster_stats)\n",
    "\n",
    "# Вычисление коэффициента силуэта\n",
    "if n_clusters_ > 1:\n",
    "    silhouette_avg = silhouette_score(df[df_dbscan['Cluster'] != -1], labels[df_dbscan['Cluster'] != -1])\n",
    "    print(f\"\\nКоэффициент силуэта для DBSCAN: {silhouette_avg:.4f}\")\n",
    "else:\n",
    "    print(\"\\nКоэффициент силуэта не определен, так как найден один кластер или данные являются шумом.\")\n",
    "\n",
    "\n",
    "# Визуализация результатов (с использованием PCA для снижения размерности)\n",
    "from sklearn.decomposition import PCA\n",
    "pca = PCA(n_components=2)\n",
    "principal_components = pca.fit_transform(df)\n",
    "df_pca = pd.DataFrame(data=principal_components, columns=['PC1', 'PC2'])\n",
    "df_pca['Cluster'] = labels\n",
    "\n",
    "plt.figure(figsize=(8, 6))\n",
    "unique_labels = set(labels)\n",
    "colors = [plt.cm.Spectral(each) for each in np.linspace(0, 1, len(unique_labels))]\n",
    "\n",
    "for k, col in zip(unique_labels, colors):\n",
    "    class_member_mask = (labels == k)\n",
    "    if k == -1:\n",
    "        # Черный цвет для шума\n",
    "        col = [0, 0, 0, 1]\n",
    "    plt.plot(df_pca.loc[class_member_mask, 'PC1'],\n",
    "             df_pca.loc[class_member_mask, 'PC2'],\n",
    "             'o', markerfacecolor=tuple(col),\n",
    "             markeredgecolor='k', markersize=6)\n",
    "\n",
    "plt.title(f'DBSCAN: eps={eps}, min_samples={min_samples}, metric={metric}')\n",
    "plt.xlabel('Главная компонента 1')\n",
    "plt.ylabel('Главная компонента 2')\n",
    "plt.show()\n"
   ]
  },
  {
   "cell_type": "code",
   "execution_count": 26,
   "metadata": {},
   "outputs": [
    {
     "name": "stdout",
     "output_type": "stream",
     "text": [
      "Индекс Калински-Харабаза для DBSCAN: 171.4683\n",
      "Индекс Дэвиса-Болдина для DBSCAN: 0.5305\n",
      "Коэффициент силуэта для DBSCAN: 0.6249\n"
     ]
    }
   ],
   "source": [
    "from sklearn.metrics import calinski_harabasz_score, davies_bouldin_score\n",
    "\n",
    "eps = 0.5\n",
    "min_samples = 5\n",
    "\n",
    "dbscan = DBSCAN(eps=eps, min_samples=min_samples)\n",
    "labels_dbscan = dbscan.fit_predict(df)\n",
    "\n",
    "# Исключаем шумовые точки (метки -1)\n",
    "mask = labels_dbscan != -1\n",
    "df_scaled_dbscan = df[mask]\n",
    "labels_dbscan_filtered = labels_dbscan[mask]\n",
    "\n",
    "# Проверяем, есть ли достаточное количество кластеров для расчета метрик\n",
    "if len(set(labels_dbscan_filtered)) > 1:\n",
    "    # Индекс Калински-Харабаза\n",
    "    ch_score_dbscan = calinski_harabasz_score(df_scaled_dbscan, labels_dbscan_filtered)\n",
    "    print(f\"Индекс Калински-Харабаза для DBSCAN: {ch_score_dbscan:.4f}\")\n",
    "\n",
    "    # Индекс Дэвиса-Болдина\n",
    "    db_score_dbscan = davies_bouldin_score(df_scaled_dbscan, labels_dbscan_filtered)\n",
    "    print(f\"Индекс Дэвиса-Болдина для DBSCAN: {db_score_dbscan:.4f}\")\n",
    "\n",
    "    # Коэффициент силуэта\n",
    "    sh_score_dbscan = silhouette_score(df_scaled_dbscan, labels_dbscan_filtered)\n",
    "    print(f\"Коэффициент силуэта для DBSCAN: {sh_score_dbscan:.4f}\")\n",
    "else:\n",
    "    print(\"Недостаточно кластеров для вычисления метрик для DBSCAN.\")\n"
   ]
  },
  {
   "cell_type": "code",
   "execution_count": 27,
   "metadata": {},
   "outputs": [],
   "source": [
    "Y = df['Disease_1']\n",
    "X = df.drop('Disease_1', axis=1)"
   ]
  },
  {
   "cell_type": "code",
   "execution_count": 28,
   "metadata": {},
   "outputs": [],
   "source": [
    "X_processed = X.copy()\n",
    "category_columns: list[str] = X_processed.select_dtypes(include=['category']).columns # собираем колонки помеченные как category\n",
    "X_processed = pd.get_dummies(X_processed, columns=category_columns,drop_first=True)"
   ]
  },
  {
   "cell_type": "code",
   "execution_count": 29,
   "metadata": {},
   "outputs": [],
   "source": [
    "numeric_features = X_processed.select_dtypes(include=['int64', 'float64']).columns.tolist()\n",
    "X_processed[numeric_features] = scaler.fit_transform(X_processed[numeric_features])"
   ]
  },
  {
   "cell_type": "code",
   "execution_count": 30,
   "metadata": {},
   "outputs": [],
   "source": [
    "def remove_outliers_based_on_iqr(X, y, iqr_multiplier=1.5):\n",
    "    # Убедимся, что работаем только с числовыми данными\n",
    "    X_numeric = X.select_dtypes(include=['number'])\n",
    "\n",
    "    # Рассчитываем первый и третий квартили для каждой числовой переменной\n",
    "    Q1 = X_numeric.quantile(0.25)\n",
    "    Q3 = X_numeric.quantile(0.75)\n",
    "\n",
    "    # Вычисляем межквартильный размах (IQR)\n",
    "    IQR = Q3 - Q1\n",
    "\n",
    "    # Оставляем только те значения, которые находятся в диапазоне [Q1 - 1.5*IQR, Q3 + 1.5*IQR]\n",
    "    X_filtered = X_numeric[~((X_numeric < (Q1 - iqr_multiplier * IQR)) | (X_numeric > (Q3 + iqr_multiplier * IQR))).any(axis=1)]\n",
    "\n",
    "    # Синхронизируем y с отфильтрованными X\n",
    "    y_filtered = y.loc[X_filtered.index]\n",
    "\n",
    "    return X_filtered, y_filtered\n",
    "X_iqr, y_iqr = remove_outliers_based_on_iqr(X_processed, Y, iqr_multiplier=3)"
   ]
  },
  {
   "cell_type": "code",
   "execution_count": 31,
   "metadata": {},
   "outputs": [
    {
     "name": "stdout",
     "output_type": "stream",
     "text": [
      "Количество кластеров: 2\n",
      "Статистика по кластерам:\n",
      "\n",
      "Статистика для признака 'age':\n",
      "             mean       std    min       max  count\n",
      "Cluster                                            \n",
      "0        0.544393  0.168331  0.125  0.854167    107\n",
      "1        0.499563  0.200414  0.000  0.979167    143\n",
      "\n",
      "Статистика для признака 'resting blood pressure':\n",
      "             mean       std  min       max  count\n",
      "Cluster                                          \n",
      "0        0.354259  0.158546  0.0  0.811321    107\n",
      "1        0.329133  0.150528  0.0  0.811321    143\n",
      "\n",
      "Статистика для признака 'serum cholestoral in mg/dl':\n",
      "             mean       std       min       max  count\n",
      "Cluster                                               \n",
      "0        0.275210  0.103284  0.000000  0.646119    107\n",
      "1        0.277437  0.107885  0.034247  0.664384    143\n",
      "\n",
      "Статистика для признака 'maximum heart rate achieved':\n",
      "             mean       std       min       max  count\n",
      "Cluster                                               \n",
      "0        0.550688  0.172060  0.129771  0.938931    107\n",
      "1        0.657449  0.159064  0.000000  1.000000    143\n",
      "\n",
      "Статистика для признака 'oldpeak':\n",
      "             mean       std  min  max  count\n",
      "Cluster                                     \n",
      "0        0.158879  0.155916  0.0  0.5    107\n",
      "1        0.071096  0.122713  0.0  0.5    143\n",
      "\n",
      "Статистика для признака 'number of major vessels':\n",
      "            mean       std  min  max  count\n",
      "Cluster                                    \n",
      "0        0.28972  0.320783  0.0  1.0    107\n",
      "1        0.11655  0.217608  0.0  1.0    143\n",
      "\n",
      "Статистика для признака 'thal':\n",
      "             mean      std   min  max  count\n",
      "Cluster                                     \n",
      "0        0.969626  0.08206  0.75  1.0    107\n",
      "1        0.000000  0.00000  0.00  0.0    143\n",
      "\n",
      "Коэффициент силуэта для DBSCAN: 0.5063\n"
     ]
    },
    {
     "data": {
      "image/png": "[encoded data removed]",
      "text/plain": [
       "<Figure size 800x600 with 1 Axes>"
      ]
     },
     "metadata": {},
     "output_type": "display_data"
    }
   ],
   "source": [
    "import numpy as np\n",
    "import pandas as pd\n",
    "import matplotlib.pyplot as plt\n",
    "from sklearn.cluster import DBSCAN\n",
    "from sklearn.metrics import silhouette_score\n",
    "\n",
    "# Параметры DBSCAN\n",
    "eps = 0.4\n",
    "min_samples = 9\n",
    "metric = 'euclidean'\n",
    "\n",
    "# Обучение модели DBSCAN\n",
    "db = DBSCAN(eps=eps, min_samples=min_samples, metric=metric)\n",
    "labels = db.fit_predict(X_iqr)\n",
    "\n",
    "# Добавляем метки кластеров в DataFrame\n",
    "df_dbscan = X_iqr.copy()\n",
    "df_dbscan['Cluster'] = labels\n",
    "\n",
    "# Количество кластеров (исключая шум)\n",
    "n_clusters_ = len(set(labels)) - (1 if -1 in labels else 0)\n",
    "print(f\"Количество кластеров: {n_clusters_}\")\n",
    "\n",
    "# Вывод статистики по кластерам\n",
    "print(\"Статистика по кластерам:\")\n",
    "for column in X_iqr.columns:\n",
    "    print(f\"\\nСтатистика для признака '{column}':\")\n",
    "    cluster_stats = df_dbscan[df_dbscan['Cluster'] != -1].groupby('Cluster')[column].agg(['mean', 'std', 'min', 'max', 'count'])\n",
    "    print(cluster_stats)\n",
    "\n",
    "# Вычисление коэффициента силуэта\n",
    "if n_clusters_ > 1:\n",
    "    silhouette_avg = silhouette_score(X_iqr[df_dbscan['Cluster'] != -1], labels[df_dbscan['Cluster'] != -1])\n",
    "    print(f\"\\nКоэффициент силуэта для DBSCAN: {silhouette_avg:.4f}\")\n",
    "else:\n",
    "    print(\"\\nКоэффициент силуэта не определен, так как найден один кластер или данные являются шумом.\")\n",
    "\n",
    "\n",
    "# Визуализация результатов (с использованием PCA для снижения размерности)\n",
    "from sklearn.decomposition import PCA\n",
    "pca = PCA(n_components=2)\n",
    "principal_components = pca.fit_transform(X_iqr)\n",
    "df_pca = pd.DataFrame(data=principal_components, columns=['PC1', 'PC2'])\n",
    "df_pca['Cluster'] = labels\n",
    "\n",
    "plt.figure(figsize=(8, 6))\n",
    "unique_labels = set(labels)\n",
    "colors = [plt.cm.Spectral(each) for each in np.linspace(0, 1, len(unique_labels))]\n",
    "\n",
    "for k, col in zip(unique_labels, colors):\n",
    "    class_member_mask = (labels == k)\n",
    "    if k == -1:\n",
    "        # Черный цвет для шума\n",
    "        col = [0, 0, 0, 1]\n",
    "    plt.plot(df_pca.loc[class_member_mask, 'PC1'],\n",
    "             df_pca.loc[class_member_mask, 'PC2'],\n",
    "             'o', markerfacecolor=tuple(col),\n",
    "             markeredgecolor='k', markersize=6)\n",
    "\n",
    "plt.title(f'DBSCAN: eps={eps}, min_samples={min_samples}, metric={metric}')\n",
    "plt.xlabel('Главная компонента 1')\n",
    "plt.ylabel('Главная компонента 2')\n",
    "plt.show()"
   ]
  },
  {
   "cell_type": "markdown",
   "metadata": {},
   "source": [
    "В общем, метрики oldpeak, vessels, thal с существинными различиями, и все они совпадают со значениями метрик при использовании K-means"
   ]
  },
  {
   "cell_type": "code",
   "execution_count": 32,
   "metadata": {},
   "outputs": [
    {
     "name": "stdout",
     "output_type": "stream",
     "text": [
      "Индекс Калински-Харабаза для DBSCAN: 319.2216\n",
      "Индекс Дэвиса-Болдина для DBSCAN: 0.8303\n",
      "Коэффициент силуэта для DBSCAN: 0.5063\n"
     ]
    }
   ],
   "source": [
    "from sklearn.metrics import calinski_harabasz_score, davies_bouldin_score\n",
    "\n",
    "eps = 0.4\n",
    "min_samples = 9\n",
    "\n",
    "dbscan = DBSCAN(eps=eps, min_samples=min_samples)\n",
    "labels_dbscan = dbscan.fit_predict(X_iqr)\n",
    "\n",
    "# Исключаем шумовые точки (метки -1)\n",
    "mask = labels_dbscan != -1\n",
    "df_scaled_dbscan = X_iqr[mask]\n",
    "labels_dbscan_filtered = labels_dbscan[mask]\n",
    "\n",
    "# Проверяем, есть ли достаточное количество кластеров для расчета метрик\n",
    "if len(set(labels_dbscan_filtered)) > 1:\n",
    "    # Индекс Калински-Харабаза\n",
    "    ch_score_dbscan = calinski_harabasz_score(df_scaled_dbscan, labels_dbscan_filtered)\n",
    "    print(f\"Индекс Калински-Харабаза для DBSCAN: {ch_score_dbscan:.4f}\")\n",
    "\n",
    "    # Индекс Дэвиса-Болдина\n",
    "    db_score_dbscan = davies_bouldin_score(df_scaled_dbscan, labels_dbscan_filtered)\n",
    "    print(f\"Индекс Дэвиса-Болдина для DBSCAN: {db_score_dbscan:.4f}\")\n",
    "\n",
    "    # Коэффициент силуэта\n",
    "    sh_score_dbscan = silhouette_score(df_scaled_dbscan, labels_dbscan_filtered)\n",
    "    print(f\"Коэффициент силуэта для DBSCAN: {sh_score_dbscan:.4f}\")\n",
    "else:\n",
    "    print(\"Недостаточно кластеров для вычисления метрик для DBSCAN.\")"
   ]
  },
  {
   "cell_type": "code",
   "execution_count": 33,
   "metadata": {},
   "outputs": [
    {
     "data": {
      "image/png": "[encoded data removed]",
      "text/plain": [
       "<Figure size 1800x500 with 3 Axes>"
      ]
     },
     "metadata": {},
     "output_type": "display_data"
    }
   ],
   "source": [
    "# Диапазон значений k\n",
    "k_range = range(2, 13)\n",
    "\n",
    "# Списки для хранения метрик\n",
    "ch_scores = []\n",
    "db_scores = []\n",
    "silhouette_scores = []\n",
    "\n",
    "for k in k_range:\n",
    "    # Создаем и обучаем модель KMeans\n",
    "    kmeans = KMeans(n_clusters=k, random_state=42)\n",
    "    labels = kmeans.fit_predict(df)\n",
    "\n",
    "    # Вычисляем метрики\n",
    "    ch_score = calinski_harabasz_score(df, labels)\n",
    "    db_score = davies_bouldin_score(df, labels)\n",
    "    silhouette_avg = silhouette_score(df, labels)\n",
    "\n",
    "    # Сохраняем метрики\n",
    "    ch_scores.append(ch_score)\n",
    "    db_scores.append(db_score)\n",
    "    silhouette_scores.append(silhouette_avg)\n",
    "\n",
    "# Построение графиков\n",
    "plt.figure(figsize=(18, 5))\n",
    "\n",
    "# График Индекса Калински-Харабаза\n",
    "plt.subplot(1, 3, 1)\n",
    "plt.plot(k_range, ch_scores, marker='o')\n",
    "plt.title('Индекс Калински-Харабаза')\n",
    "plt.xlabel('Количество кластеров k')\n",
    "plt.ylabel('Значение метрики')\n",
    "\n",
    "# График Индекса Дэвиса-Болдина\n",
    "plt.subplot(1, 3, 2)\n",
    "plt.plot(k_range, db_scores, marker='o')\n",
    "plt.title('Индекс Дэвиса-Болдина')\n",
    "plt.xlabel('Количество кластеров k')\n",
    "plt.ylabel('Значение метрики')\n",
    "\n",
    "# График Коэффициента силуэта\n",
    "plt.subplot(1, 3, 3)\n",
    "plt.plot(k_range, silhouette_scores, marker='o')\n",
    "plt.title('Коэффициент силуэта')\n",
    "plt.xlabel('Количество кластеров k')\n",
    "plt.ylabel('Значение метрики')\n",
    "\n",
    "plt.tight_layout()\n",
    "plt.show()"
   ]
  },
  {
   "cell_type": "code",
   "execution_count": 34,
   "metadata": {},
   "outputs": [
    {
     "data": {
      "image/png": "[encoded data removed]",
      "text/plain": [
       "<Figure size 1800x500 with 3 Axes>"
      ]
     },
     "metadata": {},
     "output_type": "display_data"
    }
   ],
   "source": [
    "# Диапазон значений k\n",
    "k_range = range(2, 13)\n",
    "\n",
    "# Списки для хранения метрик\n",
    "ch_scores = []\n",
    "db_scores = []\n",
    "silhouette_scores = []\n",
    "\n",
    "for k in k_range:\n",
    "    # Создаем и обучаем модель KMeans\n",
    "    kmeans = KMeans(n_clusters=k, random_state=42)\n",
    "    labels = kmeans.fit_predict(X_iqr)\n",
    "\n",
    "    # Вычисляем метрики\n",
    "    ch_score = calinski_harabasz_score(X_iqr, labels)\n",
    "    db_score = davies_bouldin_score(X_iqr, labels)\n",
    "    silhouette_avg = silhouette_score(X_iqr, labels)\n",
    "\n",
    "    # Сохраняем метрики\n",
    "    ch_scores.append(ch_score)\n",
    "    db_scores.append(db_score)\n",
    "    silhouette_scores.append(silhouette_avg)\n",
    "\n",
    "# Построение графиков\n",
    "plt.figure(figsize=(18, 5))\n",
    "\n",
    "# График Индекса Калински-Харабаза\n",
    "plt.subplot(1, 3, 1)\n",
    "plt.plot(k_range, ch_scores, marker='o')\n",
    "plt.title('Индекс Калински-Харабаза')\n",
    "plt.xlabel('Количество кластеров k')\n",
    "plt.ylabel('Значение метрики')\n",
    "\n",
    "# График Индекса Дэвиса-Болдина\n",
    "plt.subplot(1, 3, 2)\n",
    "plt.plot(k_range, db_scores, marker='o')\n",
    "plt.title('Индекс Дэвиса-Болдина')\n",
    "plt.xlabel('Количество кластеров k')\n",
    "plt.ylabel('Значение метрики')\n",
    "\n",
    "# График Коэффициента силуэта\n",
    "plt.subplot(1, 3, 3)\n",
    "plt.plot(k_range, silhouette_scores, marker='o')\n",
    "plt.title('Коэффициент силуэта')\n",
    "plt.xlabel('Количество кластеров k')\n",
    "plt.ylabel('Значение метрики')\n",
    "\n",
    "plt.tight_layout()\n",
    "plt.show()"
   ]
  },
  {
   "cell_type": "markdown",
   "metadata": {},
   "source": [
    "Обработка текстовых данных"
   ]
  },
  {
   "cell_type": "code",
   "execution_count": 35,
   "metadata": {},
   "outputs": [
    {
     "name": "stderr",
     "output_type": "stream",
     "text": [
      "[nltk_data] Downloading package stopwords to\n",
      "[nltk_data]     C:\\Users\\User\\AppData\\Roaming\\nltk_data...\n",
      "[nltk_data]   Package stopwords is already up-to-date!\n"
     ]
    }
   ],
   "source": [
    "import numpy as np\n",
    "import pandas as pd\n",
    "import re\n",
    "import nltk\n",
    "nltk.download('stopwords')\n",
    "from nltk.corpus import stopwords\n",
    "import pymorphy2"
   ]
  },
  {
   "cell_type": "code",
   "execution_count": 36,
   "metadata": {},
   "outputs": [
    {
     "name": "stdout",
     "output_type": "stream",
     "text": [
      "Requirement already satisfied: pymorphy3 in c:\\users\\user\\appdata\\local\\packages\\pythonsoftwarefoundation.python.3.11_qbz5n2kfra8p0\\localcache\\local-packages\\python311\\site-packages (2.0.2)\n",
      "Requirement already satisfied: dawg-python>=0.7.1 in c:\\users\\user\\appdata\\local\\packages\\pythonsoftwarefoundation.python.3.11_qbz5n2kfra8p0\\localcache\\local-packages\\python311\\site-packages (from pymorphy3) (0.7.2)\n",
      "Requirement already satisfied: pymorphy3-dicts-ru in c:\\users\\user\\appdata\\local\\packages\\pythonsoftwarefoundation.python.3.11_qbz5n2kfra8p0\\localcache\\local-packages\\python311\\site-packages (from pymorphy3) (2.4.417150.4580142)\n",
      "Note: you may need to restart the kernel to use updated packages.\n"
     ]
    },
    {
     "name": "stderr",
     "output_type": "stream",
     "text": [
      "\n",
      "[notice] A new release of pip is available: 23.2.1 -> 24.3.1\n",
      "[notice] To update, run: C:\\Users\\User\\AppData\\Local\\Microsoft\\WindowsApps\\PythonSoftwareFoundation.Python.3.11_qbz5n2kfra8p0\\python.exe -m pip install --upgrade pip\n"
     ]
    }
   ],
   "source": [
    "pip install pymorphy3"
   ]
  },
  {
   "cell_type": "code",
   "execution_count": 37,
   "metadata": {},
   "outputs": [],
   "source": [
    "import pymorphy3\n",
    "from nltk.corpus import stopwords\n",
    "\n",
    "morph = pymorphy3.MorphAnalyzer()\n",
    "russian_stopwords = stopwords.words('russian')\n",
    "\n",
    "with open('news.txt', 'r', encoding='utf-8') as f:\n",
    "    content = f.read()\n",
    "\n",
    "content = content.replace('\\xa0', ' ')\n",
    "\n",
    "articles_raw = content.split('='*50)\n",
    "\n",
    "titles = []\n",
    "texts = []\n",
    "\n",
    "for article in articles_raw:\n",
    "    article = article.strip()\n",
    "    \n",
    "    if not article:\n",
    "        continue\n",
    "    \n",
    "    lines = article.split('\\n')\n",
    "\n",
    "    if len(lines) >= 2:\n",
    "        title = lines[0]\n",
    "        text = ' '.join(lines[1:])\n",
    "        \n",
    "        titles.append(title)\n",
    "        texts.append(text)\n"
   ]
  },
  {
   "cell_type": "code",
   "execution_count": 38,
   "metadata": {},
   "outputs": [
    {
     "data": {
      "text/plain": [
       "['Строительство сквера с мостом на Кирова отстало от графика уже на месяц, а подрядчик рубит деревья без разрешения',\n",
       " 'Два человека погибли на пожаре в частном доме в Артёме']"
      ]
     },
     "execution_count": 38,
     "metadata": {},
     "output_type": "execute_result"
    }
   ],
   "source": [
    "titles[:2]"
   ]
  },
  {
   "cell_type": "code",
   "execution_count": 39,
   "metadata": {},
   "outputs": [
    {
     "data": {
      "text/plain": [
       "['Пешеходный мост и сквер на Кирова, 116 во Владивостоке через месяц после окончания срока контракта готов не многим больше чем наполовину. С подрядчиком не заключены дополнительные соглашения, а требование по штрафам было предъявлено только одно, и то в октябре. Работа на месте не кипит, хотя некоторые очертания пешеходных троп и часть конструкции моста уже есть. Но сам подрядчик рискует стать фигурантом уголовного дела о незаконной вырубке зелёных насаждений, потому что разрешения на это он не получал. Подрядчика на строительство пешеходного моста в районе Кирова, 116 нашли летом. Контракт с ООО «Союз-Н» почти на 34 млн рублей заключили в августе 2024 года со сроком исполнения до 8 ноября. По проекту территория на Кирова должна стать удобным транзитом между домами, а также комфортным и приятным местом для прогулок. Здесь планировалось обустроить смотровые площадки, провести дополнительное озеленение, установить несколько арт-объектов, скамьи и элемент «Слуховое ухо» для звуков природы, а также провести системы освещения и видеонаблюдения. Приступил подрядчик поздно, а в процессе затянул сроки. Контракт не исполнен до сих пор. На днях корреспондент Новостей VL.ru заглянул на объект, никакого движения там не застав. Часть мостика смонтирована, оформлены будущие тропы. Но вокруг разбросаны стройматериалы, рабочих вокруг не оказалось. Пришли наниматься на работу двое мужчин с вещами, которые с недоумением озирались в поисках кого-нибудь вокруг, похожего на работодателя. Да так никого и не нашли. Сами жители района уже не раз обращались в правоохранительные органы и к депутатам, жалуясь на некорректное проведение работ. В конце августа люди обратились в ОП № 5 с жалобой на незаконный снос зелёных насаждений. Полиция отказала в возбуждении уголовного дела. В октябре поступила аналогичная жалоба с тем же результатом. Оба отказа проверила прокуратура, нашла нарушения и потребовала провести новую проверку. Также проверку проводило и управление охраны окружающей среды и природопользования администрации Владивостока. Они в конце августа обнаружили 29 спиленных без разрешения деревьев, в том числе и занесённых в Красную книгу РФ. Эти данные также были переданы в полицию. В ходе прокурорской проверки 11 октября было установлено, что контракт исполнен наполовину. Также установлено, что работы на объекте выполняются с нарушением графика. Подрядчику объявлены предостережения. В реестре на снос зелёных насаждений по состоянию на 5 ноября нет и не было документов на вырубку деревьев в районе благоустройства, хотя пеньки на месте проведения работ красноречиво выглядывают из-под завалов стройматериала. Оперативно прокомментировать ход исполнения контракта в администрации Владивостока не смогли. Редакция Новостей VL.ru направила в мэрию соответствующий запрос. Напомним, территория стала одним из победителей рейтингового голосования среди горожан в 2023-м и должна быть реализована в этом году. Во время обсуждения концепции весной архитекторы отмечали, что на создание общественного пространства нужно около 70 млн рублей. На торгах начальная максимальная стоимость работ была установлена почти вдвое меньше – 40,4 млн.',\n",
       " 'Пожар произошёл в частном доме в Артёме рано утром в четверг, 31 октября. На месте возгорания обнаружены двое погибших мужчин. Пожар произошёл на улице Бардина-Хуторского, уточнило МЧС Приморья. Его слишком поздно обнаружили и слишком поздно сообщили о нём специалистам. Когда прибыли пожарные, дом был полностью охвачен пламенем, стены и крыша обрушились. В ходе тушения были обнаружены тела двух погибших мужчин. В результате пожара дом полностью уничтожен огнём на площади около 50 квадратных метров. Дознаватели МЧС России проводят проверку по факту пожара для установления причины и всех обстоятельств происшествия.']"
      ]
     },
     "execution_count": 39,
     "metadata": {},
     "output_type": "execute_result"
    }
   ],
   "source": [
    "texts[:2]"
   ]
  },
  {
   "cell_type": "code",
   "execution_count": 40,
   "metadata": {},
   "outputs": [],
   "source": [
    "def preprocess_text(text):\n",
    "    # Приводим к нижнему регистру\n",
    "    text = text.lower()\n",
    "    # Удаляем пунктуацию и цифры\n",
    "    text = re.sub(r'[^а-яё\\s]', '', text)\n",
    "    # Токенизация\n",
    "    words = text.split()\n",
    "    # Удаление стоп-слов и лемматизация\n",
    "    lemmatized = []\n",
    "    for word in words:\n",
    "        if word not in russian_stopwords:\n",
    "            lemma = morph.parse(word)[0].normal_form\n",
    "            lemmatized.append(lemma)\n",
    "    return ' '.join(lemmatized)\n",
    "\n",
    "# Применяем предобработку к каждому тексту\n",
    "texts_preprocessed = [preprocess_text(text) for text in texts]"
   ]
  },
  {
   "cell_type": "code",
   "execution_count": 41,
   "metadata": {},
   "outputs": [
    {
     "data": {
      "text/plain": [
       "['пешеходный мост сквер киров владивосток месяц окончание срок контракт готовый многий наполовину подрядчик заключить дополнительный соглашение требование штраф предъявить один октябрь работа место кипеть хотя некоторый очертание пешеходный троп часть конструкция мост подрядчик рисковать стать фигурант уголовный дело незаконный вырубка зелёный насаждение разрешение это получать подрядчик строительство пешеходный мост район киров наслать лето контракт ооо союзна млн рубль заключить август год срок исполнение ноябрь проект территория киров должный стать удобный транзит дом также комфортный приятный место прогулка планироваться обустроить смотровой площадка провести дополнительный озеленение установить несколько артобъект скамья элемент слуховой ухо звук природа также провести система освещение видеонаблюдение приступить подрядчик поздно процесс затянуть срок контракт исполнить сей пора день корреспондент новость заглянуть объект никакой движение застать часть мостик смонтировать оформить будущий тропа вокруг разбросать стройматериал рабочий вокруг оказаться прислать наниматься работа двое мужчина вещь который недоумение озираться поиск когонибудь вокруг похожий работодатель никто наслать сам житель район обращаться правоохранительный орган депутат жаловаться некорректный проведение работа конец август человек обратиться оп жалоба незаконный снос зелёный насаждение полиция отказать возбуждение уголовный дело октябрь поступить аналогичный жалоба результат оба отказ проверить прокуратура найти нарушение потребовать провести новый проверка также проверка проводить управление охрана окружающий среда природопользование администрация владивосток конец август обнаружить спилить разрешение дерево число занести красный книга рф дать также передать полиция ход прокурорский проверка октябрь установить контракт исполнить наполовину также установить работа объект выполняться нарушение графика подрядчик объявить предостережение реестр снос зелёный насаждение состояние ноябрь документ вырубка дерево район благоустройство хотя пенька место проведение работа красноречивый выглядывать изпод завал стройматериал оперативно прокомментировать ход исполнение контракт администрация владивосток смочь редакция новость направить мэрия соответствовать запрос напомнить территория стать один победитель рейтинговый голосование среди горожанин м должный реализовать год время обсуждение концепция весна архитектор отмечать создание общественный пространство нужно около млн рубль торг начальный максимальный стоимость работа установить вдвое маленький млн',\n",
       " 'пожар произойти частный дом артём рано утром четверг октябрь место возгорание обнаружить двое погибнуть мужчина пожар произойти улица бардинахуторский уточнить мчс приморье слишком поздно обнаружить слишком поздно сообщить он специалист прибыль пожарный дом полностью охватить пламя стена крыша обрушиться ход тушение обнаружить тело два погибнуть мужчина результат пожар дом полностью уничтожить огонь площадь около квадратный метр дознаватель мчс россия проводить проверка факт пожар установление причина обстоятельство происшествие']"
      ]
     },
     "execution_count": 41,
     "metadata": {},
     "output_type": "execute_result"
    }
   ],
   "source": [
    "texts_preprocessed[:2]"
   ]
  },
  {
   "cell_type": "code",
   "execution_count": 42,
   "metadata": {},
   "outputs": [],
   "source": [
    "from sklearn.feature_extraction.text import TfidfVectorizer\n",
    "\n",
    "vectorizer = TfidfVectorizer()\n",
    "X = vectorizer.fit_transform(texts_preprocessed)"
   ]
  },
  {
   "cell_type": "code",
   "execution_count": 57,
   "metadata": {},
   "outputs": [],
   "source": [
    "# Параметры DBSCAN могут требовать подбора\n",
    "dbscan = DBSCAN(eps=0.7, min_samples=3, metric='cosine')\n",
    "labels = dbscan.fit_predict(X)"
   ]
  },
  {
   "cell_type": "code",
   "execution_count": 58,
   "metadata": {},
   "outputs": [
    {
     "name": "stdout",
     "output_type": "stream",
     "text": [
      "Количество кластеров: 25\n",
      "\n",
      "Кластер 0:\n",
      "- Два человека погибли на пожаре в частном доме в Артёме\n",
      "- На Чуркине сгорел заброшенный дом\n",
      "- Во Владивостоке загорелся супермаркет «Светофор» на Чапаева\n",
      "\n",
      "Кластер 1:\n",
      "- Собственную региональную ипотеку могут запустить в Приморье\n",
      "- За пять лет с дальневосточной ипотекой квартиры в новостройках в Приморье обогнали вторичку по стоимости и спросу\n",
      "- Правительство РФ направит почти 450 млрд рублей на субсидирование процентной ставки по льготным ипотекам\n",
      "\n",
      "Кластер 2:\n",
      "- Приморские власти рассматривают место нового мусорного полигона в охранной зоне «Земли леопарда»\n",
      "- Истощённого леопарда под Уссурийском ищут с воздуха, но пока безрезультатно\n",
      "- Первый этой осенью крупный пожар потушили у границ нацпарка «Земля леопарда»\n",
      "\n",
      "Кластер 3:\n",
      "- Водитель машины скорой помощи ответит в суде за аварию в Приморье, стоившую здоровья медику\n",
      "- Две машины и автобус столкнулись в Надеждинском районе\n",
      "- Большегруз сбил на пешеходном переходе в Приморье одиннадцатилетнюю девочку (ОБНОВЛЕНО)\n",
      "\n",
      "Кластер 4:\n",
      "- Полиция опровергла факт нападения тигра на подростка во Врангеле\n",
      "- ДТП с участием тигра произошло в Фокино, пострадавший хищник может быть опасен\n",
      "- Подтвердились выходы тигра к посёлкам Андреевка и Безверхово (ВИДЕО)\n",
      "\n",
      "Кластер 5:\n",
      "- Напавший с ножом на полицейского приморец отправился в СИЗО\n",
      "- За нападение с ножом на полицейского жителю Тавричанки грозит до 20 лет\n",
      "- В Тавричанке прибывший на вызов полицейский получил два ножевых ранения (ВИДЕО)\n",
      "\n",
      "Кластер 6:\n",
      "- Тестовое открытие горнолыжного курорта в Арсеньеве перенесли на конец февраля\n",
      "- Горнолыжный курорт в Арсеньеве пообещали открыть к новому году в тестовом режиме\n",
      "- Приморье может начать производить свои туалеты, а не закупать их по 5 млн рублей\n",
      "\n",
      "Кластер 7:\n",
      "- Прокуратура заинтересовалась прорывом на сетях водоснабжения около детского сада на проспекте 100-летия Владивостока\n",
      "- Прокуратура заинтересовалась отключением отопления на четырёх улицах Ленинского района Владивостока\n",
      "- Холодную воду отключат сегодня на трёх улицах в центре Владивостока\n",
      "\n",
      "Кластер 8:\n",
      "- Во Владивостоке начинает действовать запрет выхода на лёд\n",
      "- В Приморье погиб 14-летний ребёнок, провалившись под тонкий лёд озера\n",
      "- В Приморье ещё нигде нет льда, на который можно выйти без риска провалиться – минГОЧС\n",
      "\n",
      "Кластер 9:\n",
      "- ВК «Динамо» из Владивостока взял реванш у «Северянки», победив в пятисетовом матче Высшей лиги «А»\n",
      "- Приморское «Динамо» разгромило одноклубников из Грозного в выездном матче Суперлиги\n",
      "- Приморское «Динамо» проиграло «Мурому» на старте пятого тура волейбольной Высшей лиги «А» (ФОТО)\n",
      "\n",
      "Кластер 10:\n",
      "- 27 спасений Мишурова позволили «Адмиралу» всухую разгромить минское «Динамо» в завершении домашней серии КХЛ\n",
      "- «Вернули должок»: ХК «Адмирал» взял реванш у «Сочи» и праздновал 15-ю победу в сезоне 2024/25\n",
      "- Приморский «Адмирал» всухую проиграл ярославскому «Локомотиву» в домашнем матче КХЛ\n",
      "\n",
      "Кластер 11:\n",
      "- С прибытием во Владивосток задерживается рейс из Москвы, с вылетом – рейсы в Иркутск, Новосибирск и Дальнегорск\n",
      "- «Аэрофлот» возьмёт в «мокрый» лизинг самолёты для рейсов из Москвы во Владивосток\n",
      "- Открыта продажа билетов на рейсы из Москвы во Владивосток через Красноярск\n",
      "\n",
      "Кластер 12:\n",
      "- Прокуратура заинтересовалась протекающей кровлей котельной в Сибирцево, из-за которой на оборудование льёт дождь\n",
      "- Пожар произошёл в котельной в Лазовском округе, пострадавших нет\n",
      "- В Находке без отопления остались почти 90 домов и 6 социальных объектов из-за остановки котельной\n",
      "\n",
      "Кластер 13:\n",
      "- Золотой и низководный мосты могут закрыть во Владивостоке для транспорта из-за сильного ветра\n",
      "- В центре Владивостока дерево упало на крыши пяти машин\n",
      "- Работодателям Владивостока рекомендовали отпустить людей домой после 14:00 из-за непогоды, в школах сокращают уроки\n",
      "\n",
      "Кластер 14:\n",
      "- Жители острова Путятина снова боятся «оторваться» от материка\n",
      "- Два вместо одного: на остров Путятина будет ходить ещё и самоходный плашкоут «Восток-111»\n",
      "- Жители Путятина снова столкнулись с транспортной проблемой – судно на воздушной подушке не вмещает всех желающих\n",
      "\n",
      "Кластер 15:\n",
      "- Ставки таможенных сборов проиндексируют со следующего года\n",
      "- Ввоз автомобилей из Японии во Владивосток подорожал на 10% с ростом курса валют\n",
      "- В морском порту Владивостока автоматизировали технологию выгрузки с борта судна уже выпущенных таможней товаров\n",
      "\n",
      "Кластер 16:\n",
      "- «Он крепкий, нормально всё»: мост на Русском острове, у которого лопнуло три из пяти балок, до сих пор не починили\n",
      "- На трассе Осиновка – Рудная Пристань организовали объезд аварийного моста\n",
      "- Движение по мосту на трассе Осиновка – Рудная Пристань перекрыли из-за риска обрушения\n",
      "\n",
      "Кластер 17:\n",
      "- В Приморье медведь напал на мужчину, который вышел из машины ночью в лесу (ФОТО 18+; ОБНОВЛЕНО)\n",
      "- Медведя, напавшего на жителя Приморья в Тернейском районе, спугнул автомобильный клаксон (ПОДРОБНОСТИ)\n",
      "- Привлечь медведя к машине с людьми в Тернейском районе могла свалка у реки\n",
      "\n",
      "Кластер 18:\n",
      "- Полиция задержала подростков, напавших с битой на охранника магазина во Владивостоке\n",
      "- В Артёме подростки с дубинками напали на автобус\n",
      "- Двум подросткам, напавшим на охранника во Владивостоке, изберут меру пресечения\n",
      "\n",
      "Кластер 19:\n",
      "- Новогодний городок вырастет на центральной площади Владивостока через три недели (ФОТО)\n",
      "- На центральную площадь Владивостока завезли песок для строительства катка\n",
      "- На центральной площади Владивостока построят отдельную горку для малышей\n",
      "\n",
      "Кластер 20:\n",
      "- Завтра начнётся монтаж лееров на улице Выселковой во Владивостоке\n",
      "- Выселковую разделили леерами – автомобилисты теперь пытаются разворачиваться возле Снеговой Пади (ВИДЕО)\n",
      "- На Выселковой начали устанавливать сплошные леера от Китай-города до Снеговой Пади\n",
      "\n",
      "Кластер 21:\n",
      "- Светофоры на «Изумруде» временно перевели в ручное управление (ВИДЕО)\n",
      "- Сломанный светофор на Красного Знамени второй день создаёт пробки и аварийные ситуации (ВИДЕО)\n",
      "- На улице Сахалинской во Владивостоке устанавливают светофор около детского сада\n",
      "\n",
      "Кластер 22:\n",
      "- Нарядные праздничные «Люстры» зажгутся во Владивостоке (ФОТО)\n",
      "- Новогоднюю иллюминацию начали монтировать во Владивостоке – колокольчики повесили вверх ногами и будут перевешивать (ФОТО)\n",
      "- Половина «люстр» из новогодней иллюминации оказалась нерабочей – электрики выясняют, в чём дело (ФОТО)\n",
      "\n",
      "Кластер 23:\n",
      "- Почти 4 млн рублей штрафа заплатят перевозчики Владивостока за октябрь — в том числе за отсутствие трети автобусов на маршрутах\n",
      "- Новые автобусные маршруты на Русском острове запустят с 1 декабря\n",
      "- Администрация Владивостока в декабре запустит ещё два новых маршрута на Русском острове (СХЕМА)\n",
      "\n",
      "Кластер 24:\n",
      "- Два пустых вагона сошли с рельсов на станции Находка\n",
      "- Поезд Деда Мороза прибыл в Приморье\n",
      "- Дополнительный поезд будет курсировать перед Новым годом между Хабаровском и Находкой\n"
     ]
    }
   ],
   "source": [
    "# Создаем DataFrame с заголовками и метками кластеров\n",
    "df = pd.DataFrame({'title': titles, 'label': labels})\n",
    "\n",
    "# Выводим количество кластеров\n",
    "unique_labels = set(labels)\n",
    "n_clusters = len(unique_labels) - (1 if -1 in labels else 0)\n",
    "print(f'Количество кластеров: {n_clusters}')\n",
    "\n",
    "# Анализируем кластеры\n",
    "for label in unique_labels:\n",
    "    if label == -1:\n",
    "        continue  # Пропускаем шум\n",
    "    cluster_titles = df[df['label'] == label]['title'].head(3)\n",
    "    print(f'\\nКластер {label}:')\n",
    "    for title in cluster_titles:\n",
    "        print(f'- {title}')"
   ]
  },
  {
   "cell_type": "code",
   "execution_count": 59,
   "metadata": {},
   "outputs": [
    {
     "name": "stderr",
     "output_type": "stream",
     "text": [
      "Traceback (most recent call last):\n",
      "  File \"C:\\Users\\User\\anaconda3\\Scripts\\jupyter-nbextension-script.py\", line 6, in <module>\n",
      "    from notebook.nbextensions import main\n",
      "ModuleNotFoundError: No module named 'notebook.nbextensions'\n"
     ]
    }
   ],
   "source": [
    "!jupyter nbextension enable --py widgetsnbextension"
   ]
  },
  {
   "cell_type": "code",
   "execution_count": 60,
   "metadata": {},
   "outputs": [
    {
     "data": {
      "application/vnd.plotly.v1+json": {
       "config": {
        "plotlyServerURL": "https://plot.ly"
       },
       "data": [
        {
         "hovertemplate": "%{text}<extra></extra>",
         "marker": {
          "color": [
           -1,
           0,
           -1,
           -1,
           1,
           -1,
           3,
           -1,
           -1,
           -1,
           -1,
           2,
           -1,
           -1,
           -1,
           3,
           -1,
           -1,
           -1,
           -1,
           -1,
           4,
           3,
           -1,
           -1,
           -1,
           5,
           -1,
           -1,
           6,
           12,
           -1,
           -1,
           7,
           -1,
           -1,
           -1,
           8,
           -1,
           -1,
           0,
           -1,
           -1,
           -1,
           -1,
           -1,
           4,
           -1,
           -1,
           -1,
           3,
           -1,
           9,
           3,
           -1,
           -1,
           -1,
           5,
           -1,
           4,
           0,
           18,
           3,
           -1,
           -1,
           10,
           10,
           -1,
           -1,
           -1,
           -1,
           -1,
           -1,
           8,
           -1,
           -1,
           13,
           -1,
           -1,
           9,
           0,
           11,
           -1,
           0,
           -1,
           -1,
           0,
           7,
           13,
           -1,
           -1,
           -1,
           -1,
           16,
           2,
           -1,
           -1,
           -1,
           -1,
           18,
           -1,
           -1,
           -1,
           0,
           -1,
           -1,
           -1,
           -1,
           -1,
           10,
           12,
           1,
           -1,
           9,
           13,
           -1,
           0,
           -1,
           -1,
           -1,
           3,
           3,
           3,
           2,
           11,
           -1,
           -1,
           -1,
           -1,
           -1,
           9,
           13,
           -1,
           14,
           -1,
           15,
           -1,
           3,
           4,
           3,
           -1,
           -1,
           -1,
           -1,
           -1,
           -1,
           -1,
           -1,
           -1,
           -1,
           0,
           -1,
           -1,
           12,
           -1,
           -1,
           -1,
           0,
           0,
           -1,
           -1,
           -1,
           -1,
           8,
           -1,
           -1,
           -1,
           -1,
           -1,
           -1,
           -1,
           16,
           -1,
           -1,
           -1,
           17,
           3,
           0,
           -1,
           18,
           6,
           11,
           -1,
           13,
           1,
           -1,
           11,
           3,
           -1,
           -1,
           7,
           -1,
           -1,
           -1,
           0,
           -1,
           -1,
           10,
           13,
           -1,
           -1,
           -1,
           -1,
           9,
           18,
           -1,
           -1,
           -1,
           -1,
           -1,
           -1,
           17,
           -1,
           -1,
           -1,
           0,
           9,
           -1,
           -1,
           0,
           7,
           0,
           -1,
           -1,
           -1,
           17,
           13,
           14,
           -1,
           19,
           -1,
           15,
           -1,
           15,
           13,
           6,
           20,
           -1,
           0,
           13,
           21,
           3,
           13,
           12,
           2,
           -1,
           -1,
           -1,
           3,
           -1,
           21,
           13,
           9,
           -1,
           3,
           23,
           -1,
           -1,
           -1,
           -1,
           -1,
           0,
           -1,
           20,
           9,
           -1,
           -1,
           -1,
           -1,
           -1,
           22,
           -1,
           4,
           -1,
           -1,
           3,
           -1,
           13,
           -1,
           -1,
           13,
           -1,
           22,
           -1,
           -1,
           3,
           -1,
           -1,
           13,
           -1,
           -1,
           13,
           -1,
           -1,
           16,
           -1,
           11,
           -1,
           -1,
           3,
           -1,
           -1,
           -1,
           -1,
           0,
           -1,
           -1,
           -1,
           10,
           -1,
           -1,
           -1,
           0,
           -1,
           3,
           -1,
           -1,
           -1,
           -1,
           -1,
           -1,
           13,
           -1,
           -1,
           -1,
           -1,
           -1,
           -1,
           -1,
           20,
           -1,
           -1,
           0,
           -1,
           1,
           19,
           19,
           -1,
           -1,
           -1,
           -1,
           -1,
           0,
           -1,
           -1,
           11,
           -1,
           3,
           3,
           -1,
           -1,
           -1,
           3,
           -1,
           -1,
           24,
           -1,
           23,
           -1,
           11,
           -1,
           -1,
           3,
           -1,
           4,
           6,
           19,
           13,
           13,
           0,
           -1,
           -1,
           -1,
           -1,
           -1,
           -1,
           -1,
           3,
           -1,
           -1,
           -1,
           -1,
           -1,
           15,
           -1,
           -1,
           -1,
           -1,
           10,
           -1,
           -1,
           -1,
           -1,
           -1,
           -1,
           -1,
           -1,
           -1,
           -1,
           -1,
           24,
           -1,
           -1,
           -1,
           22,
           -1,
           -1,
           -1,
           -1,
           -1,
           -1,
           -1,
           3,
           -1,
           -1,
           -1,
           -1,
           -1,
           4,
           -1,
           3,
           -1,
           -1,
           -1,
           19,
           -1,
           -1,
           -1,
           -1,
           -1,
           -1,
           -1,
           3,
           -1,
           16,
           -1,
           3,
           23,
           14,
           -1,
           -1,
           3,
           3,
           -1,
           -1,
           3,
           13,
           -1,
           -1,
           -1,
           -1,
           0,
           -1,
           -1,
           13,
           -1,
           -1,
           13,
           3,
           24,
           -1,
           0,
           -1,
           -1,
           0,
           -1,
           -1,
           -1,
           21,
           -1,
           -1,
           3,
           -1,
           -1,
           0,
           4,
           -1,
           -1,
           9,
           4,
           2,
           -1,
           6,
           -1,
           2,
           -1,
           -1,
           -1,
           -1,
           13,
           -1,
           -1,
           5,
           8,
           -1,
           0,
           -1,
           -1,
           -1,
           -1
          ],
          "colorscale": [
           [
            0,
            "#440154"
           ],
           [
            0.1111111111111111,
            "#482878"
           ],
           [
            0.2222222222222222,
            "#3e4989"
           ],
           [
            0.3333333333333333,
            "#31688e"
           ],
           [
            0.4444444444444444,
            "#26828e"
           ],
           [
            0.5555555555555556,
            "#1f9e89"
           ],
           [
            0.6666666666666666,
            "#35b779"
           ],
           [
            0.7777777777777778,
            "#6ece58"
           ],
           [
            0.8888888888888888,
            "#b5de2b"
           ],
           [
            1,
            "#fde725"
           ]
          ],
          "opacity": 0.8,
          "size": 5
         },
         "mode": "markers",
         "text": [
          "Строительство сквера с мостом на Кирова отстало от графика уже на месяц, а подрядчик рубит деревья без разрешения",
          "Два человека погибли на пожаре в частном доме в Артёме",
          "Почти в сотне подсобных хозяйств Уссурийского округа уничтожат птиц из-за вспышки птичьего гриппа",
          "Штормовой ветер частично разрушил здание Дальневосточного морского заповедника",
          "Собственную региональную ипотеку могут запустить в Приморье",
          "Жительницу Владивостока отправили на 7 лет в колонию из-за гибели грудного ребёнка",
          "Водитель машины скорой помощи ответит в суде за аварию в Приморье, стоившую здоровья медику",
          "Необычным коричневым небом завершился во Владивостоке «ураганный» вторник",
          "Зарегулированность и отсутствие культуры потребления: во Владивостоке обсудили развитие добычи водорослей",
          "«Парковочная» разметка возле гостиницы на Инструментальном заводе вводит водителей в заблуждение — остановка на ней запрещена",
          "Новый автобусный павильон на Сафонова установили на конечной, где пассажиров не берут (ВИДЕО)",
          "Приморские власти рассматривают место нового мусорного полигона в охранной зоне «Земли леопарда»",
          "В Приморье отклонили более половины заявок на привлечение в следующем году иностранных работников",
          "Косплей, экологический диктант и открытие горнолыжки: анонсы событий во Владивостоке на выходные",
          "Бывший депутат из Иркутска и его сообщник получили условные сроки в Приморье за контрабанду желёз кабарги",
          "Две машины и автобус столкнулись в Надеждинском районе",
          "В селе Вольно-Надеждинское и посёлке Западный частично пропало электричество из-за аварии",
          "Первое декабрьское повышение цен на топливо зафиксировано во Владивостоке",
          "Повесившего соседскую овчарку приморца приговорили к 3 годам принудительных работ",
          "Во Владивостоке задержали руководителя незаконно работавшего в пороховом погребе кафе «Шахризода»",
          "Четыре года колонии получил 19-летний телефонный мошенник в Приморье за обман четырёх пенсионерок",
          "Полиция опровергла факт нападения тигра на подростка во Врангеле",
          "Большегруз сбил на пешеходном переходе в Приморье одиннадцатилетнюю девочку (ОБНОВЛЕНО)",
          "Рыбаки просят Правительство РФ продлить сроки налоговых льгот для резидентов свободного порта Владивосток",
          "Четыре года условно получил житель Владивостока за стрельбу с балкона по соседям из пневматического пистолета",
          "Работы по реконструкции парка Минного городка должны стартовать в декабре",
          "Напавший с ножом на полицейского приморец отправился в СИЗО",
          "Тепловоз сбил женщину на станции Первая Речка",
          "На улице Авроровской во Владивостоке зажглись долгожданные фонари",
          "Тестовое открытие горнолыжного курорта в Арсеньеве перенесли на конец февраля",
          "Прокуратура заинтересовалась протекающей кровлей котельной в Сибирцево, из-за которой на оборудование льёт дождь",
          "Застройка рынка на Спортивной по КРТ «захватит» рынок на Школьной – его тоже снесут",
          "Пенсионерка угодила в кипяток во время слива теплотрассы во Владивостоке и получила ожоги",
          "Прокуратура заинтересовалась прорывом на сетях водоснабжения около детского сада на проспекте 100-летия Владивостока",
          "Сильный ветер снёс несколько этажей обшивки с многоэтажки во Владивостоке",
          "До пяти лет лишения свободы грозит двум приморцам за вылов краба",
          "«Не спим уже вторые сутки»: сотни участников со всего Дальнего Востока собрались на косплей-фестивале во Владивостоке",
          "Во Владивостоке начинает действовать запрет выхода на лёд",
          "Клиенты билайн стали передавать через мессенджеры в 39 раз больше информации",
          "Восемь населённых пунктов на юге Приморья остались без света из-за непогоды",
          "На Чуркине сгорел заброшенный дом",
          "Жителей Владивостока предупредили о новой схеме обмана с предложением записаться к врачу",
          "В Приморье водителя оштрафовали за курение в кабине пассажирского автобуса",
          "Дождь и пробки 8 баллов: утро понедельника Владивосток встретил непогодой",
          "Отопительный сезон в Дунае начался вместе с осадками в виде сажи и копоти",
          "Хабаровчанин за ночь угнал в Уссурийске две машины, на одной из которых врезался в припаркованное авто",
          "ДТП с участием тигра произошло в Фокино, пострадавший хищник может быть опасен",
          "Владивосток или Москва: в какой из Молодёжных столиц проще быть мамой",
          "От гостиничного номера до «спартанских условий»: как живут студенты в общежитиях Молодёжной столицы",
          "Сокращать шестидневную рабочую неделю перед Новым годом не планируют",
          "Девятилетнюю девочку сбили на пешеходном переходе в Приморье",
          "На пустой дороге на Вилкова произошло ДТП с четырьмя автомобилями — один из них перевернулся",
          "ВК «Динамо» из Владивостока взял реванш у «Северянки», победив в пятисетовом матче Высшей лиги «А»",
          "Под Уссурийском водитель под веществами сбил насмерть женщину-пешехода",
          "Прокуратура в Приморье обжалует слишком, по её мнению, мягкий приговор за незаконный оборот частей тигра и боеприпасов",
          "В январе минимальный взнос за капитальный ремонт в Приморье вырастет на 35%",
          "Администрация Владивостока рассчитывает расплатиться с долгами своей «управляйки» МУПВ «Центральный» за полгода",
          "За нападение с ножом на полицейского жителю Тавричанки грозит до 20 лет",
          "19-летнего курьера из Владивостока приговорили к 10 годам колонии за помощь телефонным мошенникам",
          "Подтвердились выходы тигра к посёлкам Андреевка и Безверхово (ВИДЕО)",
          "Во Владивостоке загорелся супермаркет «Светофор» на Чапаева",
          "Полиция задержала подростков, напавших с битой на охранника магазина во Владивостоке",
          "Школьницу сбили насмерть на пешеходном переходе в Находке, уголовное дело в отношении водителя передано в суд",
          "Мужчина в Партизанске выстрелами из пневматического пистолета повредил окно здания администрации",
          "Протекающий балкон Дворца детского творчества во Владивостоке планируется отремонтировать в следующем году",
          "27 спасений Мишурова позволили «Адмиралу» всухую разгромить минское «Динамо» в завершении домашней серии КХЛ",
          "«Вернули должок»: ХК «Адмирал» взял реванш у «Сочи» и праздновал 15-ю победу в сезоне 2024/25",
          "Во Владивостоке ремонтируют подпорную стену на Спиридонова, сильно пострадавшую от ливней",
          "Во Владивостоке девочка обварилась кипятком из самогонного аппарата",
          "Застройщик дарит премиальную кухню в настоящем бизнес-классе во Владивостоке",
          "Впервые в истории приморский лыжник поднялся на пьедестал почёта Кубка России – Данил Нелипа выиграл бронзу",
          "Большегруз опрокинулся на трассе Раздольное – Хасан",
          "Трёх водителей большегрузов из Китая оштрафовали на миллион рублей",
          "В Приморье погиб 14-летний ребёнок, провалившись под тонкий лёд озера",
          "В небоскрёбе «Аквамарин» во Владивостоке могут открыть пункт выдачи заказов премиум-универмага ЦУМ",
          "Родителей приглашают обсудить проблемы детей с уполномоченным по правам ребёнка в Приморском крае",
          "Золотой и низководный мосты могут закрыть во Владивостоке для транспорта из-за сильного ветра",
          "В 2025 году стоимость патента для иностранцев вырастет на 2,5 тыс. рублей",
          "Оставленный на электроплите газовый баллон разорвался в квартире в Зарубино, пострадавших нет",
          "Приморское «Динамо» разгромило одноклубников из Грозного в выездном матче Суперлиги",
          "Четырёхквартирный дом загорелся в посёлке Ольга, погиб человек",
          "С прибытием во Владивосток задерживается рейс из Москвы, с вылетом – рейсы в Иркутск, Новосибирск и Дальнегорск",
          "Топливо во Владивостоке подорожало в пятый раз с начала осени",
          "Дальнегорск, Лесозаводск и Партизанск лишатся статуса городского округа до конца года",
          "В завалах сгоревших складов в Уссурийске нашли тело человека",
          "Без перемен: три года спустя на судне Rise Shine под Находкой сушат полотенца и рисуют граффити",
          "100 человек эвакуировали из ДВФУ из-за загоревшихся коробок",
          "Прокуратура заинтересовалась отключением отопления на четырёх улицах Ленинского района Владивостока",
          "В центре Владивостока дерево упало на крыши пяти машин",
          "Шестилетняя девочка в Богуславке отравилась уксусом, налитым в бутылочку из-под «детской» воды",
          "У озера на Сафонова к Новому году поставят ёлку",
          "Экс-главу Дирекции общественных пространств Владивостока приговорили к 11 годам колонии",
          "Памятник Сталину открыли в Находке",
          "«Он крепкий, нормально всё»: мост на Русском острове, у которого лопнуло три из пяти балок, до сих пор не починили",
          "Истощённого леопарда под Уссурийском ищут с воздуха, но пока безрезультатно",
          "Контракт на сладкие подарки от администрации Владивостока заключили с поставщиком автозапчастей и организатором концертов",
          "Новым замглавы администрации Владивостока по вопросам топливно-энергетического комплекса назначен Роман Чернявский",
          "Олег Кожемяко связал мусорные проблемы Приморского края с наплывом туристов",
          "Жительница Шкотово перевела более 1,2 млн рублей брачному аферисту",
          "В Артёме подростки с дубинками напали на автобус",
          "Насолить капусты и пересадить комнатный цветок: День матери отпраздновали во Владивостоке",
          "Сегодня на Некрасовском путепроводе во Владивостоке снова меняют леера, возможны пробки",
          "Землетрясение магнитудой 5,1 произошло почти в 23 км от посёлка Восток на севере Приморья",
          "Природные пожары охватили почти 80 га в Приморье",
          "Мужчина, расстрелявший Toyota Prius из окна гостинки во Владивостоке, предстанет перед судом",
          "Уголовное дело возбуждено после того, как на Пидане чуть не замёрзли двое туристов (ОБНОВЛЕНО)",
          "Потерявшегося пенсионера, который почти сутки провёл в лесу, нашли в Кировском районе",
          "Суд запретил эксплуатацию ТЦ «Гранд» на Русской из-за недостроенной башни",
          "Экс-министр земельных и имущественных отношений Виталий Лунёв отправится на скамью подсудимых за взятку",
          "Приморский «Адмирал» всухую проиграл ярославскому «Локомотиву» в домашнем матче КХЛ",
          "Пожар произошёл в котельной в Лазовском округе, пострадавших нет",
          "За пять лет с дальневосточной ипотекой квартиры в новостройках в Приморье обогнали вторичку по стоимости и спросу",
          "Аварийный балкон на Южно-Уральской подпёрли столбами, чтобы он не обрушился",
          "Приморское «Динамо» проиграло «Мурому» на старте пятого тура волейбольной Высшей лиги «А» (ФОТО)",
          "Работодателям Владивостока рекомендовали отпустить людей домой после 14:00 из-за непогоды, в школах сокращают уроки",
          "Юань от 15 рублей, доллар – от 107: по какому курсу сегодня продают валюту во Владивостоке",
          "На Патрокле сгорели гаражный бокс и внедорожник — ещё один джип подгорел",
          "Фонари на обновлённой аллее на Сахалинской подключат только в следующем году (ФОТО)",
          "Фанатам Вивьенн Вествуд и осознанного потребления: в секонде Prosto проходит винтажка с брендовыми редкими вещами (ФОТО)",
          "Пыльные бури, лесные пожары и извержения вулканов влияют на качество воздуха в Приморье — учёные",
          "Виновника пьяного ДТП с погибшим в Уссурийске приговорили к 6,6 года колонии и 2 млн компенсации",
          "Во Владивостоке скорая помощь столкнулась со встречным автомобилем, когда объезжала пробку",
          "Гражданин Китая осуждён на 2 года и 4 месяца колонии за аварию с туристическим автобусом с двумя погибшими в Приморье",
          "Первый этой осенью крупный пожар потушили у границ нацпарка «Земля леопарда»",
          "«Аэрофлот» возьмёт в «мокрый» лизинг самолёты для рейсов из Москвы во Владивосток",
          "США ввели санкции против Газпромбанка и Примсоцбанка, карты UnionPay могут перестать работать за рубежом",
          "Проекты КРТ на Спортивной и в Снеговой Пади одобрены градсоветом",
          "В Приморском крае хотят установить День многодетной семьи, пока такие семьи ждут инфраструктуру к своим участкам",
          "На Русской столкнулись Toyota Vitz и ребёнок на арендованном электросамокате",
          "Жителя Владивостока оштрафуют за стрельбу из игрушечного автомата",
          "БК «Динамо» уступил «Темп-СУМЗ» в первом матче 1/8 финала Кубка России по баскетболу",
          "Штормовое предупреждение объявлено в Приморье на 26-27 ноября",
          "Дома для переселенцев из аварийного жилья во Владивостоке за месяц до сдачи готовы чуть больше чем наполовину",
          "Жители острова Путятина снова боятся «оторваться» от материка",
          "В Снеговой Пади разогнали незаконный авторынок (ВИДЕО)",
          "Ставки таможенных сборов проиндексируют со следующего года",
          "В Мирном три автомобиля вылетели со скользкой дороги и свалились в кювет (ВИДЕО)",
          "На Русском острове Toyota Fielder врезалась в стоявший на светофоре пассажирский автобус (ФОТО)",
          "Тигр попал под машину на трассе в Приморье, угрозы его здоровью нет",
          "Водитель во Владивостоке погиб, вылетев с дороги на Рокадной",
          "В Лесозаводске похитили более 2 млн рублей на контракте по установке мусорных контейнеров",
          "В карьере на Соловей-Ключе незаконно добывали скалу — ущерб оценили в 350 млн рублей",
          "На сопке Холодильник снова убрали часть свалки и снова поставили бетонные блоки (ФОТО)",
          "Батарейную и Пограничную заасфальтировали после ремонта ливневой канализации – качество работ вызывает сомнения (ФОТО)",
          "Пенсионерка попала под электричку на Океанской",
          "Повзрослеть и пойти работать: фестиваль рабочих профессий проходит во Владивостоке (ФОТО)",
          "Во Владивостоке водителю скорой помощи повредил глаза выпивший муж пациентки",
          "К реконструкции центральной площади Владивостока могут привлечь частные средства",
          "ЗАТО Фокино осталось без воды из-за аварии (ОБНОВЛЕНО)",
          "Суд на месяц приостановил горные работы на руднике «Николаевский» в Приморье",
          "Ночью загорелся торговый центр «Седанка Сити»",
          "Сломавшийся автобус перекрыл дорогу на «Школьной»",
          "Выпавший из контейнеровоза груз на 40 минут остановил движение в сторону Зари (ВИДЕО)",
          "В Находке без отопления остались почти 90 домов и 6 социальных объектов из-за остановки котельной",
          "Конфликт соседей на Калинина закончился снятием побоев и заявлениями друг на друга – МВД заявляет, что полиция выезжала на место",
          "Медики спасли жизнь двухлетней девочки в Находке, проглотившей бусину",
          "За незаконный отстрел двух пятнистых оленей в Надеждинском районе у охотника забрали внедорожник",
          "Пожар во Владивостоке унёс жизнь 77-летнего мужчины",
          "Возле Тысячекоечной больницы во Владивостоке снова загорелся автомобиль",
          "Прокуратура Приморья добивается возвращения в муниципальную собственность более 7 га на побережье Японского моря",
          "Исторический дом второго директора Восточного института на Гоголя продали за 27,6 млн рублей (ФОТО)",
          "Ждали 30 лет: через реку Партизанскую в Приморье открыли постоянный мост",
          "На реке в Волчанце уже неделю ищут пропавшего рыбака",
          "В Приморье ещё нигде нет льда, на который можно выйти без риска провалиться – минГОЧС",
          "Смертельное ДТП произошло на объездной трассе, утром в сторону Седанки собралась пробка (ОБНОВЛЕНО)",
          "С визой, без и транзитом: в Генконсульстве КНР напомнили о возможностях путешествий в Китай и через него из Владивостока",
          "Долг по зарплате на сумму более 21 млн рублей помогла вернуть морякам трёхмесячная проверка профсоюза",
          "На набережной у «Олимпийца» открыли место отдыха с книжным шкафом и навесом (ФОТО)",
          "Во Владивостоке прохожий жестоко избил инвалида – личность нападавшего установлена",
          "Газопровод до границы с Китаем проложат в Лесозаводском ГО",
          "На перекрёстке Кирова и Енисейской изменили направление главной дороги",
          "На трассе Осиновка – Рудная Пристань организовали объезд аварийного моста",
          "Рабочего, бросившего штырь в корреспондента на Спортивном рынке, будут судить за хулиганство",
          "Трёхмесячная девочка погибла во Владивостоке из-за беспечности матери, женщину лишили родительских прав",
          "Участок на Патрокле передали под строительство храма вопреки общественному мнению",
          "В Приморье медведь напал на мужчину, который вышел из машины ночью в лесу (ФОТО 18+; ОБНОВЛЕНО)",
          "В Находке ищут водителя, который насмерть сбил человека и скрылся с места аварии",
          "Пожароопасный сезон завершился на большей части Приморья",
          "Более 11 кубометров брошенных орудий лова и бытового мусора собрали на озере Ханка",
          "Двум подросткам, напавшим на охранника во Владивостоке, изберут меру пресечения",
          "Горнолыжный курорт в Арсеньеве пообещали открыть к новому году в тестовом режиме",
          "Открыта продажа билетов на рейсы из Москвы во Владивосток через Красноярск",
          "В порту Владивостока из-за долгов отключили электричество судну с четырьмя моряками на борту (ВИДЕО)",
          "Из-за усиления ветра во Владивостоке рекомендуют отпустить людей с работы пораньше",
          "Правительство РФ направит почти 450 млрд рублей на субсидирование процентной ставки по льготным ипотекам",
          "В Приморье началось голосование по проекту «Молодёжный бюджет» – во Владивостоке представлено 87 проектов школьников",
          "Самолёт из Новосибирска задерживается с прибытием во Владивосток",
          "Водитель внедорожника пострадал после аварии с пассажирским автобусом в Находке",
          "Знак самого южного города востока России появился в Находке",
          "Администрация Владивостока возродила идею достроить модульную парковку на Светланской, но желающих не нашлось",
          "Холодную воду отключат сегодня на трёх улицах в центре Владивостока",
          "Суд назначил компенсацию от 30 до 100 тысяч рублей отравившимся в кафе в Дальнереченске",
          "В аэропорту Владивостока эвакуировали 350 человек — пожарная сигнализация снова сработала ложно",
          "Светофор возле стадиона «Динамо» сломали до ввода в эксплуатацию",
          "Ландшафтный пожар площадью 29 гектаров ликвидировали в Тернейском округе на севере Приморья",
          "Туристический киоск «Цифрового Приморья» на Русском острове давно не работает, и теперь его доламывают вандалы (ФОТО)",
          "Полицейские в Артёме вернули родителям пятилетнюю девочку, которая убежала от мамы в магазине",
          "Гол, передача и буллит Сошникова принесли «Адмиралу» победу над СКА во Владивостоке",
          "Ближайшей ночью в Приморье снова пойдёт снег",
          "Почти 4 тонны краба с рыбозавода в Хасанском округе оказалось испорчено",
          "Цифровую пасеку для подготовки пчеловодов открыли в Приморском крае",
          "Спорт по паспорту: во Владивостоке администрация школы № 33 закрыла стадион на замок и не пускает местных жителей",
          "Первая партия ветвей датской ели, из которой делают рождественские венки, поступила в Приморье",
          "Приморское «Динамо» дало бой лидеру волейбольной Высшей лиги «А», но уступило в четырёх партиях (ФОТО)",
          "Двух подростков задержали в Артёме после нападения на автобус",
          "Два сервиса, созданных по концессии «Цифровым Приморьем», оказались невостребованными",
          "Число официальных ёлочных базаров во Владивостоке увеличилось до 13",
          "Туда-обратно за 11 тысяч: из Владивостока открыли прямой рейс в древнюю столицу Китая – город Сиань",
          "Исторический Владивосток воссоздали в павильонах кинопарка «Москино» для съёмок сериала «Арсеньев»",
          "Победители чемпионата ДФО по пляжному волейболу не получили миллион рублей призовых из-за финансовых трудностей партнёров",
          "Приморцы стали почти вдвое чаще жаловаться в Банк России на мошенников",
          "Медведя, напавшего на жителя Приморья в Тернейском районе, спугнул автомобильный клаксон (ПОДРОБНОСТИ)",
          "Бездомных животных в Приморье будут стерилизовать на средства гранта",
          "В Приморье будут судить китайца за попытку провезти сплав ртути и золота в ручке чемодана",
          "32 водителя автобусов привлекли к ответственности в Приморье в рамках рейдов ГАИ",
          "Автобус сгорел в автопарке на Борисенко во Владивостоке",
          "Волейболистки приморского «Динамо» не оставили шансов «Локо-2» в матче 6-го тура Высшей лиги «А»",
          "Двухлетнее обслуживание Золотого и низководного мостов обойдётся в 719,4 млн рублей",
          "Матчевая встреча по боксу сборных команд Хабаровска и Владивостока собрала более 450 зрителей",
          "На пожаре в доме на Пологой погиб мужчина",
          "В Первомайском районе Владивостока 36 домов остались без электричества",
          "В горевшем доме на Первой Речке никто не пострадал",
          "Брошенный фургон с киргизскими номерами стоит на Калинина больше месяца",
          "Ёлки-палки: в ДВФУ срубили главную пихту, на её месте построят 50-метровый флагшток-гигант",
          "Бордюр не стена – подвинули: на Окатовой во Владивостоке грузовики снова едут к торговому центру по тротуару",
          "Привлечь медведя к машине с людьми в Тернейском районе могла свалка у реки",
          "Зима во Владивостоке начнётся без снега",
          "Два вместо одного: на остров Путятина будет ходить ещё и самоходный плашкоут «Восток-111»",
          "В Уссурийске возбудили уголовное дело о контрабанде в Китай лесоматериалов стоимостью 5 млн рублей",
          "Новогодний городок вырастет на центральной площади Владивостока через три недели (ФОТО)",
          "Строительство парка развлечений на Русском острове откладывается из-за высоких ставок по кредитам",
          "Ввоз автомобилей из Японии во Владивосток подорожал на 10% с ростом курса валют",
          "Дефицитный бюджет края на 2025 год приняли в первом чтении депутаты Приморья",
          "В морском порту Владивостока автоматизировали технологию выгрузки с борта судна уже выпущенных таможней товаров",
          "Городские службы во Владивостоке в понедельник перейдут в режим повышенной готовности из-за штормового предупреждения",
          "Приморье может начать производить свои туалеты, а не закупать их по 5 млн рублей",
          "Завтра начнётся монтаж лееров на улице Выселковой во Владивостоке",
          "Сливочное масло в Приморье подорожало ещё на 5% с начала ноября",
          "Три человека пострадали на пожаре из-за горящего мусора в гостинке на Красного Знамени (ФОТО)",
          "Сегодня во Владивостоке до -7 °C",
          "Светофоры на «Изумруде» временно перевели в ручное управление (ВИДЕО)",
          "Четыре человека пострадали в столкновении двух машин на скользкой дороге в Находке",
          "На выходных осадков во Владивостоке не ожидается",
          "Дело об административном правонарушении возбуждено после пожара в котельной в Лазовском округе",
          "Куницы с целлофановым пакетом попали на видео в приморском нацпарке, рядом с которым могут построить мусорный полигон",
          "Более 100 килограммов марихуаны изъяли в окрестностях села Комиссаровка у трёх местных жителей",
          "Холодную воду отключат в домах на 26 улицах Артёма 30 октября",
          "Объём средств приморцев на счетах в банках превысил 630 млрд рублей",
          "Двух детей сбил нетрезвый водитель в Партизанске, пострадавших госпитализировали",
          "Интернет-магазин «Зелёный остров» в честь чёрной пятницы объявляет скидки до 80%",
          "Сломанный светофор на Красного Знамени второй день создаёт пробки и аварийные ситуации (ВИДЕО)",
          "Штормовой ветер во Владивостоке повалил заборы, деревья и грозил перекрыть мосты (ФОТО; ВИДЕО)",
          "Боролись до конца: волейболистки «Динамо» дали бой «Мурому» в выездном матче (ФОТО)",
          "В центре Владивостока Toyota Chaser врезался в здание и перекрыл тротуар (ВИДЕО)",
          "Женщина и десятилетний ребёнок погибли при столкновении Nissan March с большегрузом в Приморье",
          "Почти 4 млн рублей штрафа заплатят перевозчики Владивостока за октябрь — в том числе за отсутствие трети автобусов на маршрутах",
          "Суд отменил решение о деприватизации и сносе базы «Лесная поляна» во Владивостоке",
          "На Русском острове девушку на пешеходном переходе сбила машина",
          "Строительство индивидуальных домов в Приморье выросло на 28% по сравнению с прошлым годом",
          "Рыболовецкое судно без экипажа село на мель в Находке (ВИДЕО)",
          "В Приморье обнаружили первую в России дикую колонию редких летучих мышей",
          "У причала на Калинина загорелся сухогруз",
          "Во Владивостоке на выходных потерпел крушение вертолёт с туристами",
          "Выселковую разделили леерами – автомобилисты теперь пытаются разворачиваться возле Снеговой Пади (ВИДЕО)",
          "Волейболистки «Динамо» всухую уступили лидеру чемпионата Высшей лиги «А» питерской «Корабелке»",
          "У парня, погибшего после падения микроавтобуса с Орлиной сопки, не было прав — машина была не его",
          "Газовый баллон взорвался в квартире в Вольно-Надеждинском, люди не пострадали",
          "«90% продавцов здесь»: как живёт автомобильный рынок после разгона «Зелёного угла» во Владивостоке в ожидании повышения сборов",
          "Полиция ищет человека, стрелявшего из окна на Сафонова (ВИДЕО)",
          "Женщину, попавшую под электричку во Владивостоке, спустя почти два месяца выписали из больницы",
          "Нарядные праздничные «Люстры» зажгутся во Владивостоке (ФОТО)",
          "По делу об убийстве граждан Китая в Чугуевской тайге суд присяжных оправдал двух приморцев – они провели в СИЗО восемь лет на двоих",
          "В Хабаровском крае поймали тигрицу, которая убила человека (ФОТО)",
          "Прокуратура проверяет информацию о пожаре на полигоне в посёлке Пластун",
          "Для мальчика из Фокино с редким генетическим заболеванием купили препарат за 3 млн долларов",
          "Mitsubishi Pajero опрокинулся в районе села Душкино, погибли два человека (ОБНОВЛЕНО)",
          "«Неделя Молодёжной столицы» во Владивостоке стала лучшим молодёжным туристическим событием 2024 года в России",
          "Суббота во Владивостоке будет ветреной, в воскресенье немного потеплеет",
          "Администрации Владивостока дали денег на реконструкцию улицы Мордовцева",
          "В Находке водитель сбил 4-летнего велосипедиста, сдавая задним ходом",
          "Ветер во Владивостоке в ближайшие часы усилится до 30 м/с, а вечером начнётся дождь",
          "Участками для многодетных в Приморье, к которым 8 лет не могут подвести инфраструктуру, заинтересовался глава СКР",
          "Новогоднюю иллюминацию начали монтировать во Владивостоке – колокольчики повесили вверх ногами и будут перевешивать (ФОТО)",
          "На Второреченской развязке во Владивостоке отключились светофоры",
          "В Нагорном парке строят «парящую» смотровую площадку – главный элемент третьей очереди",
          "Пьяного автоугонщика задерживали со стрельбой в Артёме (ВИДЕО)",
          "Штраф за отсутствие полиса ОСАГО хотят увеличить с 800 до 5 тысяч рублей",
          "У берегов Камчатки подобрали еле живого мужчину в лодке с телами его брата и племянника",
          "Новый циклон в начале следующей недели принесёт снег в Приморье",
          "На перевернувшемся у берегов Сахалина судне было четыре моряка из Приморья",
          "Пригородные электрички и аэроэкспресс во Владивостоке на несколько дней изменят расписание из-за ремонта на путях",
          "На Пограничной ветер уронил столб со светофором, ещё один едва не уложил проезжавший мимо внедорожник (ВИДЕО)",
          "Строительство второго этапа экотропы началось на Кравцовских водопадах, её увеличат на 125 метров",
          "Жительница Тавричанки устроила питомник в аварийном доме и съехала, только когда продала всех кошек зоозащитникам",
          "Движение по мосту на трассе Осиновка – Рудная Пристань перекрыли из-за риска обрушения",
          "Замена лееров продолжается на проспекте 100-летия Владивостока, здесь пробки",
          "«Аврора» и власти Камчатки хотят включить авиамаршрут с полуострова во Владивосток в список субсидируемых",
          "Канализацию для Уссурийска за 220 млн рублей в срок не построят",
          "Рыбака, который перевернулся на лодке, спасли на реке Уссури",
          "В Приморье пешехода сбил один автомобиль и от удара его откинуло под другой",
          "Приморский край получил первый федеральный транш в 462,7 млн на начало реконструкции парка Минного городка",
          "Трёх детей изъяли у матери после того, как один из них несколько дней просил о помощи из запертой квартиры во Владивостоке",
          "Бывшего депутата ЗСПК объявили в федеральный розыск",
          "На Светланской, Тигровой и Пограничной начали подключать светофоры, которые поставили год назад (ФОТО)",
          "Житель Владивостока пытался потушить в ванной матрас, загоревшийся от сигареты",
          "Направление главной дороги изменится во Владивостоке на съезде с объездной трассы в сторону «Дальхимпрома»",
          "Дети из школы Вольно-Надеждинского, где в мае рухнула пристройка, всё ещё учатся в других местах – Информцентр СК РФ",
          "Подпорную стену рядом с историческими домами восстановили на Светланской во Владивостоке",
          "«Адмирал» феерично прервал серию поражений в КХЛ, устроив камбэк в матче с «Амуром»",
          "Дед Мороз на Land Cruiser Prado и RAV-4 нахватал штрафов на 24 тысячи рублей",
          "Глава СКР заинтересовался плохими дорогами Кировского района, из-за которых люди пешком ходят к федеральной трассе",
          "ДВФУ оцепили из-за пейнтбольной гранаты, которую нашли у отца студентки",
          "Под Находкой выгорело 7 гектаров леса",
          "ДТП с автобусом блокировало дорогу по Выселковой в сторону Рудневского моста (ОБНОВЛЕНО)",
          "Четыре человека пострадали в аварии на низководном мосту",
          "Из-за отключения электричества на Борисенко не работают светофоры",
          "В «DNS Сити» создают двор-парк на 1,5 га – место для прогулок, отдыха и общения (ВИДЕО)",
          "О создательнице конфет «Птичье молоко» и первой в мире женщине-капитане расскажут на выставке в День матери",
          "На Океанской мужчину сбила электричка",
          "Ольге Романовой продлили срок полномочий на посту уполномоченного по правам ребёнка в Приморье",
          "В Дальнереченске 12-летняя школьница отравилась вейпом",
          "Ночью в городе ожидаются дождь и мокрый снег",
          "Приморский ЦСМ приостановил до весны приём заявок на выездные поверки счётчиков",
          "Энергетики Приморья устранили аварии на сетях и продолжают отрабатывать точечные заявки",
          "Разрушенный августовскими ливнями коллектор восстановили на Фадеева во Владивостоке",
          "Массовые проверки соблюдения правил перевозки детей пройдут в Приморье 5 декабря",
          "Слабое землетрясение произошло в Японском море в 180 км от Владивостока",
          "С исторического дома на углу Светланской и Пограничной во Владивостоке обваливается карниз – тротуар огородили",
          "Хакатон, баскетбол и раздельный сбор: анонсы событий во Владивостоке на субботу и воскресенье",
          "На Выселковой начали устанавливать сплошные леера от Китай-города до Снеговой Пади",
          "На «Заре» задержали мужчину, стрелявшего из газового пистолета",
          "Фальшивок пока нет, но и настоящей не везде расплатишься: новая купюра 5000 рублей добралась до Владивостока",
          "Нарушители пожарной безопасности в Приморье заплатят более 14 млн рублей штрафов за природные возгорания",
          "Вольно-Надеждинское, Новый и Прохладное остались ночью без электричества, детсады не работают",
          "Минимальная ставка Сбера по базовым ипотечным программам составит 28,1%",
          "На центральную площадь Владивостока завезли песок для строительства катка",
          "На центральной площади Владивостока построят отдельную горку для малышей",
          "KERAMA MARAZZI во Владивостоке сделает скидку 25% на все товары в «Чёрную пятницу»",
          "Что делать, если в сильный ветер на вашу машину упало дерево, столб или рекламный щит",
          "Скорая помощь и Toyota Crown не поделили дорогу в запаркованном дворе",
          "Дальневосточные учёные обнаружили у камчатских крабов вирус, который может плохо повлиять на их промысловую численность",
          "Конвойная машина сбила 15-летнюю девочку, перебегавшую дорогу в Уссурийске",
          "Депутаты единогласно упразднили городские округа в Лесозаводске, Дальнегорске и Партизанске",
          "Россельхознадзор в Приморье «забраковал» 17,6 тонны южнокорейских мандаринов, заражённых вредителем",
          "Трёхлетнего мальчика без присмотра взрослых обнаружили на остановке в посёлке Врангель",
          "Самолёт из Пекина не смог сесть во Владивостоке и вернулся в Китай — пассажирам следующего рейса придётся ждать его 9 часов",
          "На кухне кафе на Пограничной случился пожар",
          "Lexus LX 570 чуть не сбил пешеходов на переходе в центре Владивостока, ему грозит штраф до 3500 рублей",
          "Утром во Владивостоке произошло несколько массовых ДТП из-за гололёда на объездной трассе и Русском мосту (ВИДЕО)",
          "Для жителей Приморья определили допустимое количество животных в квартире",
          "Три муниципалитета Приморья частично остались без света из-за аварии на ЛЭП",
          "В Уссурийске у иностранца изъяли 10 килограммов грибов мацутакэ",
          "Daihatsu Terios вынесло на встречку на скользкой дороге в Черниговском округе, два человека пострадали и один погиб",
          "Врачи в Приморье спасли жизнь подростку, которого пытался зарезать знакомый",
          "На озере в парке Минного городка поселилась цапля, которую не нужно спасать",
          "Два пустых вагона сошли с рельсов на станции Находка",
          "В Уссурийске задержали мужчину, который стрелял с балкона из аэрозольного пистолета",
          "Новые автобусные маршруты на Русском острове запустят с 1 декабря",
          "Часть Снеговой Пади осталась без электричества – отключились все светофоры",
          "Из Владивостока в Москву через Красноярск будет летать среднемагистральный «Боинг», а время в пути составит 11,5 часа",
          "От ВПЭС – к ДРСК: во Владивостоке заговорили о смене ответственных за электрические сети",
          "Отделочные элементы потолка обрушились в аудитории Агропромышленного колледжа в Уссурийске",
          "Mitsubishi Pajero перевернулся в Артёме, его водитель скрылся с места аварии",
          "Шары, ёлки и гирлянды: центр Владивостока украшают к Новому году (ФОТО)",
          "Сотрудники охотнадзора ищут в окрестностях посёлка Врангель тигра, который не боится людей",
          "Игорную зону «Приморье» хотят переформатировать в зону семейного отдыха",
          "Бесплатный каток на Авангарде откроют 25 декабря",
          "Снежный покров на севере Приморья достиг 3 сантиметров",
          "В понедельник во Владивостоке ожидаются дождь и резкое понижение температуры",
          "Лесной пожар площадью 30 гектаров потушили в Партизанском округе",
          "Главу Судебного департамента Приморья уволили за неосвоение средств и работу судей в бывшей «конюшне»",
          "В Большом Камне возбудили дело о похищении человека – он выпрыгнул из багажника авто на ходу",
          "В Большом Камне потушили грузовичок с ацетиленовыми баллонами",
          "Заболеваемость ОРВИ во Владивостоке почти на 11% выше эпидпорога",
          "Рестораны KFC во Владивостоке начали менять вывески на Rostic’s",
          "Находкинские врачи спасли туристку, которая потеряла почти половину объёма крови после падения со скалы",
          "Жителей Приморья предупредили о мошенниках, которые прикидываются сотрудниками мобильных операторов",
          "Полиция задержала в Находке водителя, который на прошлой неделе сбил пешехода насмерть и скрылся",
          "Парковку на Корабельной Набережной заасфальтировали, но до конца года её не откроют – нужно утвердить тарифы (ФОТО)",
          "Во Владивостоке восстановили «умный» пешеходный переход на Некрасовской",
          "На Пидане спасли женщину, которая не могла спуститься с горы из-за переохлаждения",
          "На озере Сафонова девочка прыгала на льду и по пояс ушла в воду (ВИДЕО)",
          "Школьник из Надеждинского района сжёг себе штанину и наврал, что его толкнули в костёр",
          "Таможенные сборы за выпуск автомобилей в России вырастут от 20 до 38%",
          "«Привет! Это ты на фотке?»: о новой схеме мошенничества предупреждают приморцев",
          "Застрявший в Японии лайнер с россиянами прибыл в Шанхай",
          "Часть Артёма и Суражевка останутся завтра без холодной воды",
          "Гимнастка Таисия Сердюкова из Владивостока выиграла две медали на соревнованиях в Ульяновске",
          "Хоккейный клуб «Адмирал» уступил на выезде омскому «Авангарду», потерпев пятое поражение подряд",
          "На Русском острове во Владивостоке установят новые ограждения велодорожки",
          "Шестидневная рабочая неделя, новые автобусы на Русском и экзамены для иностранцев: что изменится в декабре",
          "Суд отказал прокуратуре в иске на миллиард к совладельцам Спортивного рынка",
          "Авария на водонасосной станции оставила без воды часть посёлка Краскино",
          "Мобильный оператор T2 запустил тариф с безлимитным интернетом в выходные",
          "Во Владивостоке в суд передают дело о махинациях с землёй на Кунгасном и Нерчинской, где вместо гаража выросла многоэтажка",
          "Врачи в Находке под местным наркозом сделали операцию на сонной артерии 75-летней женщине и спасли её от инсульта",
          "Агентство по миграционной политике и Совет по межнациональному согласию планируется создать в Приморье",
          "Таможенницу из Владивостока приговорили к 3 годам за взятку в 72 тысячи рублей",
          "Школьник из Владивостока завоевал «золото» на Китайской национальной олимпиаде по математике",
          "Во Владивостоке исполнили решение суда о заборе и беседках на Маяке от 2015 года",
          "Поезд Деда Мороза прибыл в Приморье",
          "На центральной площади Владивостока к новогодним праздникам установят 39-метровую горку",
          "Суд отменил сделку о продаже земли в районе Соловей-Ключа, которую передали из муниципальной собственности без аукциона",
          "Лучшие для сёрферов волны за 2024 год пришли во Владивосток после шторма (ФОТО; ВИДЕО)",
          "Половина «люстр» из новогодней иллюминации оказалась нерабочей – электрики выясняют, в чём дело (ФОТО)",
          "Егор Анисимов и Егор Николаев из Владивостока стали лауреатами премии «Шеф-повар года»",
          "Спасатели эвакуировали ребёнка с туристского маршрута на гору Чандолаз в Приморье",
          "Школьник из Владивостока защищает честь России на Китайской национальной олимпиаде по математике",
          "Во Владивостоке завершено расследование дела банды, грабившей игорные заведения",
          "Птичий грипп обнаружили в фермерском хозяйстве в Кроуновке",
          "Экс-губернатора Приморья Сергея Дарькина наградили орденом преподобного Сергия Радонежского I степени",
          "Два участка в центре Арсеньева включат в ТОР для строительства жилого комплекса",
          "Toyota Land Cruiser упала с косогора на Honda Shuttle в районе Юмашева (ОБНОВЛЕНО 13:33)",
          "Вчерашний сильный ветер оставил без света 17 населённых пунктов Чугуевского округа",
          "Газораспределительную станцию во Владивостоке должны запустить в декабре",
          "Во Владивостоке присяжные признали адвоката виновным в убийстве и расчленении зятя",
          "«Начать с Узбекистана»: глава Приморья призвал проводить «отбор» мигрантов ещё за границей",
          "В здании бывшего фарфорового завода во Владивостоке горел ресторан",
          "Тигра, напавшего на собаку в районе посёлка Врангель, прогнали обратно в лес",
          "Ушла из жизни актриса Светлана Светличная",
          "В Славянке девушка-водитель спровоцировала ДТП с автомобилем полиции",
          "Олимпиада «Ближе к Дальнему» откроется 19 ноября",
          "Проезды к пунктам пропуска в Приморье хотят сделать платными, чтобы заключить концессии на их реконструкцию (ОБНОВЛЕНО)",
          "Жители Часовитина массово выступили против строительства ещё одного дома, гостиницы и паркинга в своём районе",
          "Установка новогодней ёлки началась на центральной площади Владивостока (ФОТО)",
          "Трассу в объезд Уссурийска перекрывали из-за гололёда до полуночи",
          "Дорогу к пункту пропуска Пограничный планируют реконструировать с привлечением инвесторов",
          "Нежным рассветом началась суббота во Владивостоке",
          "Участок находкинской трассы до Петровки рассчитывают достроить в 2026 году",
          "Дымовую трубу Владивостокской ТЭЦ-1 с воскресенья будут красить, для безопасности рядом с ней просят не парковаться",
          "В Приморье прошёл снег — проезд есть ко всем населённым пунктам",
          "Участниками всероссийских инженерных соревнований во Владивостоке стали школьники, студенты и их подводные роботы (ФОТО; ВИДЕО)",
          "Виновник ДТП с двумя погибшими предстанет перед судом в Приморье",
          "Во Владивостоке задержали мужчину, который разлил бензин и угрожал уничтожить баллоны с газом во дворе дома",
          "На объезде аварийного моста на трассе Осиновка – Рудная Пристань застрял грузовик (ВИДЕО)",
          "Непогода нарушила электроснабжение в Хасанском округе, Надеждинском районе и в Фокино (ОБНОВЛЕНО)",
          "Нетрезвый водитель врезался в стоящий на обочине грузовик в Приморье, погибли два человека",
          "Администрация Владивостока в декабре запустит ещё два новых маршрута на Русском острове (СХЕМА)",
          "Жители Путятина снова столкнулись с транспортной проблемой – судно на воздушной подушке не вмещает всех желающих",
          "Анну Алеко перед приговором по делу о взятке лишили депутатских полномочий по её просьбе (ОБНОВЛЕНО)",
          "Жители Калинина продали часть своих гаражей застройщику многоэтажки и готовы судиться за освободившуюся землю",
          "Mazda Demio врезалась в стену в районе улицы Командорской во Владивостоке, пострадали два человека",
          "Водителя, бросившего после ДТП машину во Владивостоке, привлекли к административной ответственности",
          "Расследование уголовного дела о разбойном нападении спецназа ФСИН на ночной клуб во Владивостоке завершено",
          "Массовое ДТП с участием дорожной техники произошло на трассе Седанка – Патрокл (ФОТО)",
          "Условный срок получил водитель грузовика в Приморье, с которого на Mercedes упал лист ЛДСП и убил трёхлетнюю девочку",
          "Сильный дождь и ветер до 34 м/с ожидаются во Владивостоке — в школах введено свободное посещение",
          "В Приморье на одного безработного приходится восемь открытых вакансий",
          "Котлован будущего магазина на Борисенко «засасывает» разрушающуюся дорогу и «выплёвывает» грунт на проезжую часть",
          "Россиянин и гражданин Китая предстанут перед судом в Приморье за контрабанду культурных ценностей",
          "9 эксклюзивных участков предлагают на первой линии моря в готовом посёлке класса премиум Regatta на Де-Фризе",
          "Во Дворце культуры угольщиков в Артёме потушили возгорание на крыше",
          "Песнь похолодания и потепления: глава ВНИРО озвучил причины провальной лососёвой путины в ДФО",
          "Рвы и блоки не спасли: свалка бытового и строительного мусора на сопке Холодильник во Владивостоке выросла в размерах (ВИДЕО; ФОТО)",
          "Снега вечером во Владивостоке не ожидается — Примгидромет",
          "Владивосток занял третье место в народном голосовании за звание культурной столицы – 2026",
          "Водоснабжение в Краскино восстановлено",
          "Снега во Владивостоке в ближайшие дни не ожидается",
          "Автомобиль Toyota Premio столкнулся с тремя машинами и опрокинулся на Русской (ФОТО)",
          "Дополнительный поезд будет курсировать перед Новым годом между Хабаровском и Находкой",
          "Право аренды земли под разрушающимся ТЦ «Приморье» перешло от сети алкомаркетов к владельцу минимаркета",
          "На объездной трассе во Владивостоке сгорел Mercedes (ВИДЕО)",
          "Микроавтобус рухнул со скалы на Орлиной сопке во Владивостоке – взрослый погиб, подросток в больнице",
          "Во Владивостоке скончалась женщина, упавшая в кипяток на Калинина из-за аварии на теплотрассе",
          "Ещё 17 гектаров леса выгорело в Приморье",
          "БАДы из моря: как учёные и предприниматели во Владивостоке производят добавки к пище",
          "Массовый сбор одежды во Владивостоке поставили «на стоп»",
          "В бухте Валентин Приморского края обнаружили редкого зеркального солнечника – гостя из субтропических морей",
          "На улице Сахалинской во Владивостоке устанавливают светофор около детского сада",
          "Со следующего года владельцев собак в Приморье начнут штрафовать за отсутствие чипа",
          "В Приморье спасли рыбака на лодке с отказавшим мотором",
          "Массовое ДТП с участием нескольких машин и автобуса собирает пробку в районе Постышева во Владивостоке",
          "Дональд Трамп стал избранным президентом США",
          "Мигрантов-нелегалов выявили на стройке и на объекте общепита",
          "В доме на Луговой потушили забитый с 1-го по 9-й этаж мусоропровод",
          "В Приморье ищут тигра, сбежавшего с места ДТП (ОБНОВЛЕНО)",
          "Замглавы отдела судебных приставов Находки ради хорошего мнения начальства распорядился закрыть 174 исполнительных производства (ОБНОВЛЕНО)",
          "Парня, пропавшего после падения с Золотого моста, не нашли — поиски продолжаются",
          "БК «Динамо» потерпел второе поражение в сезоне, уступив фарм-клубу «Зенита» в Санкт-Петербурге (ФОТО)",
          "Во Врангеле будут круглосуточно отслеживать тигра, который гуляет рядом с посёлком",
          "Впервые за более чем 40 лет получено документальное подтверждение присутствия леопарда в Ольгинском округе",
          "На Батарейной частично заасфальтировали дорогу в один слой – доделать ремонт обещают на выходных (ФОТО)",
          "Приморье может потерять до 2 млн туристов из-за нехватки отелей – Корпорация развития края",
          "Северокореец пытался вывезти из Владивостока мускус кабарги в банке от сгущёнки",
          "Нового для науки дальневосточного леопарда снял немецкий фотограф в Приморье",
          "В администрации Владивостока надеются сдать дома для переселенцев из аварийного жилья в следующем году",
          "Более 374 тысяч граждан Китая посетили Приморье и ещё четыре субъекта ДФО в этом году",
          "Звезда Сихотэ-Алинского заповедника тигрица Северина, ставшая многодетной мамой, показала потомство на камеру (ВИДЕО)",
          "Долг по зарплате перед работниками «Дальполиметалла» на сумму более 46 млн рублей погашен после вмешательства прокуратуры",
          "Сегодня во Владивостоке до -2 °C",
          "Пилот профессионал, вертолёт можно восстановить: в авиакомпании высказались о падении борта с туристами под Владивостоком",
          "Трутневу показали стройку «приморского Сколково» на Русском и пообещали закончить её в следующем году",
          "В Тавричанке прибывший на вызов полицейский получил два ножевых ранения (ВИДЕО)",
          "Что делать, если вы провалились под лёд, и как помочь утопающему (ПАМЯТКА)",
          "Ребёнок во Владивостоке больше года не получает надлежащего лечения после ДТП",
          "На стоянке на Красного Знамени от пожара пострадало два автомобиля",
          "Пятерых работников рыбодобывающей компании во Владивостоке осудили за избиение моряков",
          "Девушка, которую сбила машина на тротуаре около остановки «Краевая больница», выписалась из больницы",
          "Бывшему замглавы Надеждинского района назначили условный срок за превышение полномочий при сносе аварийного дома",
          "Шесть новых остановочных павильонов установят во Владивостоке в декабре"
         ],
         "type": "scatter3d",
         "x": [
          -0.036111252141392804,
          0.05057092313015422,
          -0.06489820829841556,
          -0.07727720858199003,
          -0.1031904205153549,
          0.10263839833561224,
          0.3400817950366755,
          -0.09981817958888099,
          -0.07438665317900399,
          -0.01062977962316574,
          0.002434193110825597,
          -0.09370780524472352,
          -0.04683593013343308,
          -0.09588665943043427,
          0.03176631413793843,
          0.3759291443494346,
          0.00537847253824237,
          -0.07794470234852695,
          0.04349506946170659,
          0.00632019073198963,
          0.046974047551716316,
          0.04220633397839445,
          0.3765996998430252,
          -0.05790500116082382,
          0.08610421715712817,
          -0.1483997068437984,
          0.12824286793121642,
          0.08613320359887466,
          -0.06568130818453191,
          -0.1385249382446135,
          -0.012662783044650338,
          -0.09954197293380994,
          0.051712121516107115,
          0.00572898249930078,
          -0.05008222276514933,
          0.09098556136082885,
          -0.08984406060282102,
          -0.06716865019335484,
          -0.07410863724498393,
          0.003424672779280599,
          -0.054619702122213884,
          -0.053790577953297294,
          0.196590912221907,
          -0.030444232458563543,
          -0.03880034008533111,
          0.17260178302379336,
          0.10944441486370562,
          -0.08298468702114377,
          -0.07028035510248465,
          -0.11527936112020853,
          0.3622941994817941,
          0.17715686775722303,
          -0.13922777262158287,
          0.33614637055088775,
          0.07795936625786035,
          -0.09250151606119762,
          -0.06350953490764172,
          0.15826994489818139,
          0.07276738082423487,
          -0.0407938013198488,
          -0.025640535019067594,
          0.1582121877668409,
          0.3940651253997502,
          0.08071810159024863,
          -0.07394797133301857,
          -0.138827076343654,
          -0.12391525341090291,
          -0.08174554899990215,
          0.00745329834138516,
          -0.08828035433418001,
          -0.08797018119345247,
          0.3008035257955672,
          0.16647171960767043,
          -0.0372572848348268,
          -0.08729129759453112,
          -0.053018987659868996,
          -0.04102037917886203,
          -0.08517283708546862,
          0.02137910381060578,
          -0.12186697983259398,
          0.006584034878416112,
          -0.0891544061339105,
          -0.07454015552059338,
          -0.07670153031062378,
          0.009705397622307349,
          -0.03779103751001372,
          -0.042431175941082644,
          -0.021214163495525934,
          -0.013863116626074985,
          0.02575048318206713,
          -0.08123681428199538,
          -0.031714157626221755,
          -0.0540596184747705,
          -0.0508979297004192,
          -0.0671630305068734,
          -0.09178694268489594,
          -0.07807804975927084,
          -0.09824309138128492,
          0.02795853655366262,
          0.11090379733721102,
          -0.061757123407936175,
          0.01230234706649071,
          -0.023866556750539197,
          -0.07738689601229856,
          0.13340144739821125,
          0.0720303400321041,
          0.07775593793285318,
          -0.041468590581901936,
          0.015631130265600472,
          -0.12662577128118094,
          0.03141188043781658,
          -0.10497767018812473,
          -0.022668812904172317,
          -0.15012878565626647,
          -0.08119572209974155,
          -0.08874442823064874,
          -0.024590631584422252,
          -0.092832243069826,
          -0.08429750513087096,
          -0.06754753339981787,
          0.3961136276234775,
          0.3242743537120415,
          0.31264227672671746,
          -0.08783594615954285,
          -0.09894584508700494,
          -0.06357173507183418,
          -0.12748013530464894,
          -0.10305804017747744,
          0.11186243222345572,
          0.1614411841531939,
          -0.14003264541172,
          -0.15308803802610496,
          -0.10816268546859283,
          -0.061281237252927036,
          -0.03194940083582948,
          -0.07829129515851199,
          0.1360131932530539,
          0.26599454101614767,
          0.2722868123528289,
          0.39698432589334703,
          0.007874289427106574,
          -0.009149350514224573,
          -0.04407528991781788,
          -0.062264657675445145,
          0.08588454094274209,
          -0.08558595671166637,
          0.17857368169179919,
          -0.13897347865061851,
          -0.013156593060325563,
          0.03095621526171189,
          -0.019390878840201894,
          0.07596327499005308,
          0.1040208640926534,
          0.010870339643500855,
          0.1574785181577073,
          -0.0037831011787277974,
          0.08145734238572638,
          0.06592547158054253,
          0.028071087785933337,
          -0.04953410715432526,
          -0.07631039871190524,
          -0.07162021296330308,
          -0.01981322918371205,
          -0.05987276076663623,
          0.2773620943590488,
          -0.08838101211569992,
          -0.03263955307692881,
          -0.10703104289250248,
          0.05508180749401503,
          -0.06367585777899429,
          0.06010730341776999,
          -0.03580146854793673,
          0.02003581597945855,
          0.1119309203825153,
          -0.06940862422950725,
          0.046763474890968354,
          0.4070395633510811,
          -0.09001488450555294,
          -0.0734276199364778,
          0.0953837000962084,
          -0.14482810508032304,
          -0.11219711869921986,
          -0.03579014552631159,
          -0.1256936120769548,
          -0.10232244827370558,
          -0.10394385189156498,
          -0.08513349650465385,
          0.46738740859433126,
          -0.05985927634383595,
          -0.06861196081100022,
          -0.05819271631263788,
          0.0019490758391801672,
          -0.028349254840044923,
          0.0035468945463220146,
          -0.04827210465427596,
          -0.0719572940858854,
          0.1389957750786152,
          -0.13003056589766793,
          -0.13571548071832887,
          -0.04239083580715338,
          -0.09062412544533908,
          -0.0701673195015292,
          -0.06390526975701896,
          -0.1360438631399017,
          0.14579109029869375,
          -0.04735958945136498,
          -0.09954812890689264,
          -0.09532163618901633,
          -0.08193808581574025,
          -0.06543356514125201,
          -0.060510453905307626,
          -0.01304111153421295,
          -0.07319562688351605,
          0.028208206250614695,
          0.22643489585096988,
          0.026845707518284575,
          -0.1446420214011791,
          -0.061622101324556595,
          -0.08891314829597968,
          0.019086923447011524,
          -0.04857423954766304,
          -0.032807961131445136,
          0.02415220485475056,
          -0.09409250394512149,
          -0.02536887604056774,
          0.025731371105942986,
          -0.13730547157947945,
          -0.09610463208001563,
          0.05886047798347001,
          -0.14875542290295418,
          -0.11470897877868422,
          -0.08437145049483342,
          -0.12013247260722514,
          -0.050524042066327726,
          -0.12156890170455487,
          -0.10435864680737401,
          -0.025332200746699084,
          -0.0681855975312096,
          -0.010749763525715208,
          -0.11246438496592513,
          0.08738703260559265,
          0.5177788532239593,
          -0.16230038296627097,
          0.04922047509524307,
          -0.06846081605980275,
          0.07266759909348645,
          -0.048616392265091325,
          -0.054734278289742505,
          0.3815596452838268,
          -0.07912078421092948,
          0.03987164903391098,
          -0.036854789430681746,
          -0.14304134706533964,
          0.19349868816974375,
          0.3306758105139371,
          -0.07327779364897997,
          -0.0520905032057572,
          0.16117966165664885,
          -0.08381071599423993,
          0.06814441637726876,
          -0.06359022462836376,
          0.011562208766854317,
          0.032067486023828785,
          0.0632103629917379,
          -0.13873238355257414,
          0.1633007713758896,
          -0.008035870685102545,
          -0.058476856306379124,
          0.1087394385883248,
          0.06807392068128447,
          -0.08035373331156127,
          0.05847105801464361,
          0.02361190854457372,
          -0.04414456706952861,
          -0.04030488458832291,
          0.4261886051918691,
          -0.1097004625507827,
          -0.1298320379982039,
          -0.04897964886761799,
          0.28076266729878013,
          -0.13157816372009723,
          -0.043263520538493735,
          -0.08574615088242415,
          0.04625424562463165,
          -0.11697231925453996,
          0.30155906033182556,
          0.03299402442997804,
          0.020155650586431626,
          -0.0827377253044303,
          -0.025277997003666834,
          -0.07154948075114141,
          -0.010145844988388547,
          -0.08527097731132788,
          -0.02879744371823691,
          -0.04033234106969374,
          0.018767904267294667,
          -0.09993598407596423,
          -0.07065928258026442,
          0.015973885150228937,
          0.3926967237980307,
          -0.1379257586533438,
          0.10625121887287958,
          -0.001650809352128295,
          -0.04029216928653055,
          0.01480507476077875,
          0.030806478003224867,
          -0.03283639537163664,
          -0.09856047575790575,
          -0.12336115004171132,
          -0.01669072711475854,
          0.03811253673903863,
          -0.006988562315647244,
          -0.07356314925311316,
          0.067998332227663,
          0.44550281731350244,
          -0.03587531751018405,
          -0.12272118646469665,
          -0.09239321265203215,
          0.1003295398823349,
          -0.053964152939153284,
          0.04852994548571641,
          -0.12782607408681146,
          -0.07481225861654534,
          -0.05389139727543824,
          -0.06735151244837524,
          0.19489519173155126,
          -0.039763216275916134,
          -0.046476724327074476,
          -0.10008003243033255,
          0.03316922126922878,
          0.14820466456393455,
          -0.08470928235686281,
          -0.006511678255733496,
          -0.03882408779590652,
          -0.09911425577806898,
          -0.12884880347191593,
          -0.11839008680453145,
          -0.08607819831385098,
          0.02729655720365814,
          0.20933890123286827,
          -0.06664111634993462,
          0.2600553590848102,
          -0.08502391492403896,
          -0.04611517600860258,
          0.13329809952805666,
          -0.08383779367632749,
          -0.049357967815154294,
          0.1946951610785481,
          0.192446087623048,
          -0.06525076665351769,
          -0.03385195871142037,
          0.01801070743429205,
          0.4576689156879312,
          0.0866874323805352,
          -0.06290979072794071,
          0.04472422834773902,
          0.0553537738283244,
          -0.07979326514444103,
          -0.01979727104993175,
          -0.0897641052646214,
          -0.090999107135916,
          -0.025090998455866865,
          0.4341337804026893,
          -0.062066432238545105,
          -0.029329737927713356,
          -0.1366894052544723,
          -0.10205553234023985,
          -0.10088349840439265,
          -0.1749029616415671,
          -0.038116123345678876,
          -0.002562616197301786,
          0.1562485307842163,
          -0.019378270916927273,
          -0.0478707645411215,
          -0.07926455991741321,
          0.011175979121285953,
          -0.050219150529348305,
          0.3623653584430513,
          -0.09230777030362936,
          -0.0015234811143114678,
          -0.00005503557449916951,
          -0.041470902029690046,
          0.06321136321267103,
          -0.06492493060475858,
          -0.0646165443338238,
          -0.04975632994561913,
          -0.04950429777919163,
          -0.06720525054482798,
          -0.11717713349256549,
          -0.04745719226264418,
          -0.09190329355949062,
          -0.029976134658567494,
          0.03267206819311248,
          -0.09463779134169137,
          -0.03217207039109435,
          -0.021627634049209914,
          -0.08125367650352483,
          0.05282891616471822,
          -0.07719210605419112,
          -0.07007502137052159,
          -0.08007752239568054,
          -0.09457811336726135,
          -0.019374540966566083,
          -0.09337468952352758,
          -0.061338443584831696,
          -0.08264025539690635,
          0.01547835909370249,
          -0.0919191588833572,
          0.04333250460742193,
          -0.06231811635091716,
          -0.07829355686609978,
          -0.0934541693757567,
          0.3600711057604407,
          -0.021255354853640274,
          -0.08349772960600155,
          0.06923928521472841,
          -0.06882251015914384,
          -0.05783206745008016,
          -0.004244750011762333,
          -0.053080557619046245,
          0.40889994946697705,
          -0.09396274258214653,
          -0.031306437680355584,
          -0.06831139073283618,
          -0.15622858546259816,
          -0.01378475279993922,
          -0.05752986160647162,
          -0.07715275836821656,
          -0.06756289486228073,
          -0.05823930671534804,
          -0.03203464095906875,
          -0.09075932399795734,
          0.2755546906372564,
          0.05352401269784526,
          -0.03346735751298953,
          -0.030906117916618504,
          0.38872674775102534,
          -0.07973403805014863,
          -0.07922329340212882,
          -0.05094291998244433,
          -0.05257549775215353,
          0.4424537009579831,
          0.44035917348234005,
          0.06513022427383194,
          0.16239525542551217,
          0.22278831658038148,
          -0.11353476533509341,
          -0.07057327622340942,
          -0.0395184810487056,
          0.018571206562276957,
          -0.10740130401620225,
          -0.02717844308267955,
          -0.08226537533113376,
          -0.05471749099281011,
          -0.1283274944627608,
          -0.07891336740768175,
          -0.040346336205785954,
          -0.13600525936604685,
          0.3984955608559701,
          -0.05849140106349357,
          -0.04264785721246565,
          0.060864424420737896,
          0.11295162076856452,
          0.10031313095052495,
          -0.07676662364874273,
          -0.07155086168669225,
          -0.08601501624110133,
          -0.06974208419477139,
          0.0715440105406958,
          -0.06330337522018972,
          -0.02097616220275729,
          0.27475903460413575,
          -0.07607719752032209,
          0.08570303460974696,
          0.017421667173866683,
          0.08338228782997564,
          0.06951363004164875,
          -0.07706757424475583,
          -0.12187748628646235,
          -0.017458084336408324,
          -0.07556657911510736,
          -0.06776210928563278,
          -0.09078083539915299,
          0.013811662952261319,
          -0.08066906176684108,
          -0.08504889150431681,
          -0.06911169618801077,
          -0.07228549534158837,
          0.03368013101487121,
          -0.13032439200423962,
          -0.012501162037873046,
          -0.12096497912084243,
          0.12593242407450797,
          -0.01014857935369287,
          0.09121821996398033,
          -0.016498567389616522,
          0.005002334771337656,
          0.1185169197358571,
          0.03753494296473939,
          -0.03883902755623711
         ],
         "y": [
          -0.06966321824949132,
          0.5652041895004877,
          0.011680311415552742,
          -0.01135514540432104,
          -0.05772632062487659,
          -0.06678577333396925,
          -0.06252745630586025,
          -0.006027702716764512,
          -0.04773230828354828,
          -0.013154042538924346,
          -0.03128947346132919,
          0.008153659723284091,
          -0.043466287498503314,
          -0.019832931005780357,
          -0.094428815546005,
          -0.01223868301131206,
          0.0059597168112838364,
          -0.025210914343278996,
          -0.04087301721664902,
          -0.019008130758794945,
          -0.11040540094367424,
          0.010774304924020818,
          -0.07213493351286132,
          -0.0478679699591953,
          -0.06193951222570259,
          -0.1143504079925923,
          -0.05485381785943181,
          0.083102013625804,
          -0.05577914944698823,
          -0.0939639026696884,
          0.01402549273289702,
          -0.04109797380910215,
          0.012431302314011166,
          0.06086620812029895,
          -0.005612751372990109,
          -0.1149696239365534,
          -0.04923934802988754,
          -0.05346098059684392,
          -0.04078053842494253,
          0.016499346957965084,
          0.49700683696173165,
          -0.037798532442153615,
          -0.04204533533771263,
          -0.0152324708194955,
          0.018742275712969915,
          -0.024869451360419927,
          0.04200664611784476,
          -0.09351600227894027,
          -0.011981200009639193,
          -0.05968797169264629,
          -0.09132244847998496,
          0.0006686197067270254,
          -0.07221721861102919,
          -0.07186576321128164,
          -0.06905522433829218,
          -0.046837395382184434,
          -0.09922802673901389,
          -0.06120411397963909,
          -0.1122336279568557,
          0.01869097934466331,
          0.42294846487012416,
          -0.03890421861721024,
          -0.11996944313998555,
          -0.04977374841544548,
          -0.04465697914768563,
          -0.06411184874125152,
          -0.05322695050107055,
          -0.03074152022769556,
          -0.00808577353055953,
          0.007509021070376931,
          -0.026081648470867524,
          0.025733384847276553,
          -0.05591876258542898,
          0.035826002895006086,
          -0.05012833380696024,
          -0.02475197226663271,
          -0.02463280280005351,
          -0.08648251801149667,
          0.06037008212447052,
          -0.055488156130009014,
          0.50023865207474,
          -0.010614053044783243,
          -0.02523909019618214,
          -0.018257582430461827,
          0.31165065638747996,
          -0.046048411588540485,
          0.3368046350944088,
          0.01686261436549509,
          0.03252713852906233,
          0.0061605130513933135,
          -0.04504820562671228,
          -0.13734054652388142,
          -0.038338331886927465,
          -0.058131559589332374,
          0.018117574882460172,
          -0.07517499419107386,
          -0.07255636325793674,
          -0.05339536456890882,
          -0.10522709217553253,
          -0.025162271092273678,
          -0.02610013160581528,
          -0.04037002025830633,
          0.03704597802861192,
          0.5137106167192321,
          -0.10258094144070799,
          -0.00005309573738449689,
          0.03219412361785877,
          -0.02210381202953839,
          -0.09037255824177141,
          -0.060630104026278574,
          0.24867553281791072,
          -0.07402866034177008,
          -0.030426796467208674,
          -0.06291178871445316,
          -0.02281497140937612,
          -0.06123824349209882,
          0.5081677362293993,
          -0.04867619978855138,
          -0.025680275302928955,
          0.0733854811830864,
          -0.09975800452326315,
          0.008998022201065332,
          -0.10330989209320882,
          0.19280260763228987,
          -0.06587833082289622,
          -0.03681124597177394,
          -0.0522738074318916,
          -0.03994046025773588,
          -0.044620632023057764,
          -0.023124989103622103,
          -0.06320563672227407,
          0.00779704428151073,
          -0.08636036690620327,
          -0.055111657250314416,
          -0.008192548879182478,
          -0.08362911153310262,
          0.023919301023518098,
          -0.007348939687027996,
          0.0012927300658749107,
          0.0003512116288191005,
          -0.09861152716260728,
          -0.08339265144469829,
          -0.014091208753546329,
          -0.05144307570082934,
          0.01684934066688103,
          -0.037084689713677114,
          0.000039987929302898016,
          -0.09050972276692575,
          -0.008103808078773391,
          -0.04747077710172842,
          0.46345505665904724,
          -0.03470146440653908,
          0.003393303229870146,
          0.0020842043814445236,
          0.020563420504121594,
          -0.004620818479804937,
          -0.05574820700399916,
          0.6024219594671795,
          0.46658143316000544,
          0.05407529369438057,
          -0.016079133921101416,
          -0.04159300732505964,
          0.047104420340616515,
          -0.014488318586860779,
          0.02793678659374313,
          -0.05153454329967526,
          -0.06200910994444858,
          -0.05848475052078789,
          -0.01878047363164672,
          -0.04048451387707807,
          -0.033206541886020305,
          -0.01731632960018009,
          -0.03549850467646846,
          -0.08007250015830171,
          -0.04188262852578849,
          0.05435812880095736,
          0.017139335097516653,
          0.12370304905142536,
          -0.003159514559473662,
          -0.048473747753063574,
          -0.09932841649540546,
          -0.05450613847743671,
          -0.04184817295368809,
          -0.010058114018216135,
          -0.06124431508501759,
          -0.08215367304715174,
          -0.009719369540967799,
          -0.01901182465234036,
          -0.026723202404386626,
          -0.06348705484503653,
          0.010241423234344823,
          -0.036695485453622216,
          0.2239745754995884,
          -0.04207705249460728,
          0.31744150988997755,
          -0.05651016836355613,
          -0.03774484276777377,
          -0.061718486990165855,
          0.03321713086686513,
          -0.005201772738604116,
          -0.0567338479900427,
          -0.03814501234283272,
          -0.028429204150042273,
          -0.06361237565573183,
          -0.050612686945500765,
          -0.058798449808411056,
          -0.06973235271599797,
          -0.044526125247535915,
          -0.0476137616227612,
          -0.04175397293155898,
          -0.04776338940058737,
          0.012296416613000734,
          -0.009360533141909311,
          -0.06431147557300063,
          -0.04789656482897122,
          0.4112366289420111,
          -0.06967608351925737,
          -0.07276205799922247,
          -0.047977912210882386,
          0.5513775959839852,
          0.016169221859096597,
          0.4861085732353691,
          -0.016991598442469034,
          0.015087538168100371,
          -0.03525434445911887,
          0.05623390024995738,
          -0.001975516150217975,
          -0.04784026226849792,
          -0.058643027313166986,
          -0.003117841451270368,
          -0.09926584475669063,
          -0.08333693828017645,
          -0.13531305074528713,
          -0.04114437057588566,
          -0.003074752888272616,
          -0.07283326414781792,
          -0.026250624495033178,
          -0.028926001141365933,
          0.5284055972975389,
          0.009521574156580082,
          -0.010045133407006803,
          -0.044386263268005016,
          0.02251197021207803,
          0.1922975613173986,
          0.026960653194682032,
          -0.06538941717503985,
          -0.002273762057304834,
          -0.07101290856106783,
          -0.05142946159653653,
          -0.03236015056047202,
          0.010008307909627163,
          0.00011736603856446336,
          -0.06649259131275603,
          0.021986917024534085,
          0.021129029332427312,
          -0.04704062832203643,
          -0.05687702509408705,
          0.03709692997219632,
          0.028422619672130365,
          0.013259335935650275,
          -0.00974927340897289,
          0.43928194680619337,
          -0.005554469688058917,
          -0.04521489874994944,
          -0.06201697264577087,
          0.020143719273049393,
          0.058921159572523654,
          -0.05422993290660028,
          0.0427642424800861,
          -0.010468014812173588,
          -0.026799387264911694,
          -0.07746999857955121,
          0.020582350147109164,
          0.12178525582400997,
          -0.03223951003432683,
          -0.008265051595011164,
          -0.07316474568409498,
          0.027039242346276755,
          -0.07724265416759792,
          -0.05054017699578159,
          -0.00457395615898731,
          -0.0722274204805146,
          -0.02464512334365217,
          -0.006212216322718861,
          -0.07206580996446468,
          -0.05899753579773966,
          -0.05993380649558729,
          -0.0006598835405312179,
          -0.0003218447120917838,
          0.011170467933115259,
          0.00008152968762604711,
          -0.02065421322665634,
          -0.007888169795496594,
          -0.0024218738538941014,
          -0.058667293220677576,
          -0.04073426329346378,
          -0.05592495906536441,
          -0.05278958174124025,
          0.014862141242883977,
          -0.03747142215943961,
          -0.12375193173303013,
          0.0233226054846855,
          -0.10127893041385513,
          -0.05918746439547337,
          0.38343198398541906,
          -0.03659244605797214,
          -0.04802471583068941,
          -0.008531712855100028,
          -0.04657535216835462,
          -0.050048174201942186,
          -0.0466062414857625,
          0.01380765126068843,
          0.43137511016068897,
          -0.02497860347841766,
          -0.07514046673570417,
          -0.0019877106257719574,
          -0.04791717231913263,
          -0.022723579033915958,
          0.09121231292903972,
          -0.046273235844261906,
          0.004491669100490382,
          -0.00008355554848386741,
          -0.03082105866736403,
          -0.001817415228641591,
          -0.018889707372130093,
          -0.05409917940050268,
          0.014737605439741452,
          -0.01996163459161824,
          -0.02869262878992916,
          -0.04955782335634669,
          0.018354693057532595,
          -0.05267871576910441,
          0.2710417039650042,
          0.020998468577491023,
          -0.06804236339960265,
          -0.022533596975075534,
          -0.026282541157567948,
          -0.03261179076845432,
          -0.024273366021087817,
          -0.02801404147359222,
          -0.014045188116964964,
          0.012993196888316343,
          -0.018898055639248658,
          -0.011029848928037135,
          -0.039504740270334994,
          -0.023834916787180648,
          0.3318992002678401,
          -0.0680164788882194,
          0.006146861304322396,
          0.04015497647032262,
          0.04571281466390925,
          -0.04872702689510728,
          -0.007107153649308196,
          -0.0251591761122887,
          -0.0149678679481574,
          0.03455274545491015,
          -0.007966355937046208,
          -0.05523230131215016,
          -0.006362380928426254,
          -0.017518082198215965,
          -0.03180824135761815,
          0.021902047215904077,
          -0.0058200564492073385,
          -0.016090171141623925,
          0.01930723406494242,
          -0.07115469583975033,
          -0.03221322139402035,
          0.010414742195607707,
          0.005404434535841419,
          0.3767678279336938,
          -0.0355056075750289,
          0.003608040181823082,
          0.38748159562028295,
          -0.017373102826806583,
          -0.034634177440791586,
          0.008324586816787901,
          -0.016883258659346135,
          -0.05158629279184362,
          -0.07339841430383061,
          -0.04611565696827971,
          0.06181282803310479,
          -0.019793019938013467,
          -0.0014466181416569381,
          -0.10666091286112118,
          -0.035209210576504724,
          -0.01663317133240588,
          -0.005623041356610953,
          -0.025087424680419093,
          -0.04522297763097439,
          -0.04068799676026353,
          -0.09342943070442898,
          -0.10728530648771402,
          0.009794568453572537,
          -0.03778699599010653,
          -0.07412528832299706,
          0.013039707048505577,
          -0.011416974325785765,
          -0.13374211573782954,
          -0.04655298267945881,
          -0.09899497232235441,
          -0.030748615848181757,
          -0.012769518959385667,
          -0.04394738875535859,
          -0.026783879727280607,
          -0.006375899943289961,
          -0.039403134533874944,
          0.06454906305880073,
          -0.04425276424752014,
          -0.06699034057224705,
          0.00021662847255694782,
          -0.02456801242701632,
          -0.032318039228572244,
          -0.014753730046578385,
          0.027874592613613566,
          -0.013826377061904144,
          -0.05620168117862433,
          -0.04269131129171221,
          0.3823407844736298,
          0.03613925591017436,
          -0.02787323869169195,
          -0.03713845167491397,
          -0.05813414499616659,
          -0.08290466257544435,
          -0.04429506067910704,
          -0.02849894655817735,
          -0.03212866817196629,
          -0.09176908933285222,
          -0.022920847918685327,
          -0.11265138718104388,
          -0.013567295545585063,
          0.0374151568213552,
          -0.04571942921946533,
          -0.046956730087861144,
          0.029537142600061753,
          -0.026330844298566813,
          0.005884765153463979,
          0.004810730159925223,
          -0.05270270848596265,
          -0.042060031994152196,
          -0.07269039849442147,
          -0.04693511401642172,
          -0.036739009232523094,
          -0.02240171143580507,
          -0.09579809299926,
          0.010700588070273295,
          -0.08334557645289827,
          -0.014892239234764288,
          -0.031020924493820743,
          -0.026511694797445032,
          -0.06848606527167266,
          -0.040383852342183404,
          0.4723940757383198,
          -0.044275934692956376,
          -0.0010784904744054532,
          -0.001687314639386192,
          -0.05171907343877174,
          0.005613012135946372,
          0.0153832111431649,
          0.012909447282296033,
          -0.027927409120825242,
          -0.05223001603390746,
          0.4333388852132614,
          0.01555412477402141,
          -0.037153340719315975,
          0.4314326168568047,
          -0.05664077184317002,
          -0.03337454467937395,
          -0.0284796493676673,
          -0.04096792749852852,
          -0.03415989041126972,
          0.06753664858546604,
          -0.0019123458650367753,
          -0.0371933768797905,
          -0.06506562488440869,
          0.4090737460585412,
          0.02669924666262083,
          -0.08817764502723428,
          -0.009708182659037876,
          -0.057918099607060076,
          0.036041824753005366,
          0.010530799025152658,
          -0.027957477881740668,
          -0.05980588325218456,
          -0.06296080688853634,
          0.003981005615143461,
          -0.03635262442339739,
          -0.024865823551973705,
          -0.03624495708266106,
          -0.06083776350869777,
          0.02035593722331073,
          -0.00164709324733976,
          -0.06409110920949766,
          -0.035373929932492956,
          0.034894106063544754,
          -0.06086230522306907,
          0.3845482152983348,
          -0.07800965764710772,
          -0.0018104079009409759,
          -0.05460186731079357,
          -0.013073899333986219
         ],
         "z": [
          -0.06185664230627371,
          -0.08435393434275949,
          -0.01828593548117768,
          0.011070554920813996,
          -0.08356226872309415,
          -0.14578628877224545,
          -0.05712564161945025,
          0.18566843833797056,
          -0.03919446451391864,
          0.033169297387702044,
          0.09324396149352421,
          -0.07776793556767717,
          -0.05830079436717495,
          0.013039056740567646,
          -0.16283091769229255,
          0.1877373513287123,
          0.062487932013785503,
          0.002254585417563737,
          -0.09999475789755437,
          -0.08653156338074972,
          -0.17905130748784726,
          0.028570752406174977,
          0.0008239859306466995,
          -0.049390213035945124,
          -0.18610915903338324,
          -0.0717011112746217,
          -0.16246264404826377,
          0.032250601851983036,
          0.0015292189447161624,
          -0.006633047960800276,
          0.024742537812598085,
          -0.06741823055067164,
          0.005176217738785585,
          0.07440626495817934,
          0.08372076401342374,
          -0.271814873931045,
          0.014061898575119873,
          -0.026508093193501222,
          -0.003908302726035991,
          0.03781502628375079,
          -0.05621278795052996,
          -0.01296452321062933,
          -0.03907164550431266,
          0.24909048366254755,
          0.028778088649210883,
          -0.006340042029572081,
          0.07801058407813566,
          -0.08040675469342021,
          -0.013338649911484628,
          0.010389079656500006,
          -0.06869051392995142,
          0.13012010418273356,
          0.026148355578981732,
          -0.05460559228488865,
          -0.18406060302203298,
          -0.10673237334136597,
          -0.11813783762114353,
          -0.18023282833463714,
          -0.1934261680082985,
          -0.005697722245337291,
          -0.034344489117366095,
          -0.08476857221079592,
          -0.08602754344361478,
          -0.12209293549851039,
          -0.05713365670037768,
          0.019909546851052964,
          0.018327341602448206,
          0.025122841724424128,
          -0.023634983810991824,
          -0.04385628262346897,
          0.03192694981461299,
          0.12230252478154101,
          -0.03557847504249436,
          0.004054878962750182,
          -0.01485363142653485,
          -0.04847235405693907,
          0.23039992085066865,
          -0.11449689969637568,
          -0.014876539501416952,
          0.019167288368599572,
          -0.05522147969909163,
          0.059458005788316885,
          -0.007925175575578976,
          -0.057209276319735436,
          -0.08476380862407948,
          -0.06386579654077103,
          -0.049856490363382786,
          0.09574101091817276,
          0.1021633755053754,
          -0.043915928303839134,
          -0.021437961156525222,
          -0.22740479958681833,
          0.001579983446285756,
          0.1014258490021877,
          -0.012311456531313098,
          -0.0393696670877032,
          -0.08915190679248043,
          -0.04363285019546851,
          -0.20489387587032476,
          -0.032316114040211306,
          -0.03665487816012349,
          0.1220062736408775,
          0.03318577245737457,
          -0.12245982079306016,
          -0.2152949621894782,
          -0.11737707773068992,
          0.09759655630941574,
          -0.08368729689487071,
          -0.20539722483979875,
          0.025531459249349915,
          -0.04445680969498021,
          -0.11948189430766108,
          -0.0504428963587649,
          0.03522959564100559,
          0.26965525727841844,
          -0.04901671350791674,
          -0.07045125248607863,
          0.006396390813642826,
          -0.01158898486265309,
          -0.01656318605290206,
          -0.10950078400920576,
          0.15074052284526085,
          -0.10364869655774085,
          -0.07925966576586606,
          0.02280183571441011,
          -0.017889719534652456,
          -0.053476650822092346,
          -0.014301253644235993,
          -0.05099274091611835,
          -0.1024565842061456,
          0.020407491344466972,
          0.47487512956210404,
          -0.08539967622515543,
          -0.015201365668356772,
          -0.03582910831212088,
          -0.1392669754515487,
          0.1642680184619736,
          0.15180997163528615,
          0.08348081401059447,
          0.12306728690587154,
          -0.20294294213297254,
          -0.2483493485044349,
          0.02244703680461256,
          0.04654770879870927,
          0.03143624787928797,
          -0.03205179142253444,
          0.0034980416244306724,
          -0.07351446870828612,
          0.03458094132332352,
          -0.054279868252908633,
          -0.06348330455745708,
          0.1268174410444143,
          0.1191114862793828,
          -0.0370586598493353,
          -0.03992274309575978,
          -0.002530610115310574,
          -0.17767303761449224,
          -0.08423134719775459,
          -0.029092204062807474,
          -0.09431527955708696,
          -0.09325073507617249,
          0.030663023912132627,
          0.020729087536544743,
          -0.007763730692649779,
          0.18819528234137564,
          0.0013074672791943364,
          -0.0878571584207174,
          -0.03549237015563281,
          -0.006286160911100126,
          -0.012070405012082475,
          0.1074038714624886,
          0.07884462071570002,
          -0.08773419867590608,
          -0.13524160359857973,
          -0.0251022314523313,
          0.04089982437097786,
          0.05572959060094847,
          -0.07875544599539845,
          -0.04529108164648464,
          -0.11280063527214028,
          -0.035637194297920054,
          0.061441288355443935,
          -0.060395011107184114,
          0.3615186651111313,
          -0.10297541933743024,
          -0.03680777467968847,
          0.0532620291271497,
          0.1107283979925181,
          0.025993308434247006,
          -0.03832058933629428,
          0.054524266868678596,
          -0.07555926696430953,
          -0.0002140288495920534,
          0.0897607428279354,
          -0.06365268837794054,
          0.018231612803072388,
          -0.06268494198769194,
          0.0077902720907619405,
          0.331987205438614,
          -0.01972344374164187,
          -0.03702577293969006,
          0.008017631475839712,
          -0.008203518981149039,
          0.012393766477095931,
          -0.07599701748368536,
          -0.05846187285977016,
          -0.009723846847707785,
          0.017327551334901152,
          -0.012705415811681012,
          0.0015996450587904098,
          -0.08337816563056397,
          0.04817648390114968,
          -0.0416728477796621,
          -0.13841717700667017,
          0.05168616512852305,
          0.0027774763049054764,
          0.027331973458948965,
          0.04380853370068288,
          -0.021407961718533226,
          -0.08686979436157918,
          0.050919900398335334,
          -0.059348844112442366,
          0.03833918258745884,
          -0.007365831972717519,
          0.004361011701598333,
          0.03943695667964011,
          0.31589839556640986,
          0.030605512513379108,
          -0.16359482859203459,
          0.03343470989884977,
          -0.07690778020479608,
          -0.05586411247784268,
          -0.17001098936405523,
          -0.032817702682943706,
          0.284809781823438,
          -0.024199001276654353,
          0.09050365652600528,
          -0.02903941067573843,
          -0.08948702895794149,
          0.3762296844384077,
          0.16587332207724495,
          0.08904193548237485,
          0.4294613988094326,
          -0.07814679749641043,
          -0.025870627311651295,
          -0.14134210407145154,
          0.016971974786894724,
          -0.08757209487118679,
          -0.024727108070965752,
          -0.017780097850044516,
          0.12955388712154028,
          0.3014087879136376,
          0.019517956529822654,
          0.12755718740749628,
          0.12651347172216756,
          0.06081033555579966,
          -0.09471424884989557,
          0.07980153281198346,
          -0.09447879783022069,
          -0.004890911255186263,
          -0.034594516642046075,
          -0.06602892564224265,
          -0.01527954541857778,
          0.15831074647074142,
          0.017677752446724527,
          -0.02040011233738225,
          -0.000996122763787319,
          0.016661829422493904,
          -0.04655390855615538,
          0.04275989563194014,
          0.08582087454157895,
          -0.16045490249529665,
          0.048926881412583015,
          -0.052658819224211485,
          -0.03895410767740389,
          0.13495015215579848,
          -0.009574924128191283,
          0.34590781111872154,
          0.04136149816009839,
          0.011772861253677325,
          0.3716912443039155,
          -0.09243605666557109,
          0.07209026041215086,
          0.12737887085310334,
          -0.01241193008956361,
          0.009430982090841282,
          -0.05530662791882662,
          0.000054496467563600916,
          0.37059767018841855,
          0.012124328169591537,
          0.04794607462586368,
          0.12685883670627085,
          -0.00550876006360546,
          -0.04127099936292247,
          0.06735405938092083,
          0.14228793227674572,
          -0.0059185813852613645,
          -0.0372397690400413,
          -0.013253045903018679,
          0.06655394849826161,
          -0.09061864459292507,
          -0.09183116962720658,
          -0.16710001220495757,
          0.057158846997673644,
          -0.08307243463002136,
          0.10572379133264338,
          -0.05478501696948968,
          0.005658443434163028,
          0.02323826628775242,
          -0.022931371352446644,
          -0.010478235152061501,
          0.014241321351361925,
          -0.1642996787007051,
          0.14115482130938684,
          0.044560891622862274,
          0.07947211081684045,
          -0.04265602530828847,
          0.018327707621888425,
          0.024410148101205092,
          -0.06548882392081486,
          -0.035067889265869456,
          0.39374384248712835,
          0.0007023011006588416,
          0.0096448679946428,
          0.05157237822777039,
          0.008658136718293435,
          0.030659234551916062,
          0.033380091771702786,
          0.010759912237988032,
          0.14976026210234972,
          -0.038060779264932974,
          -0.030319215230690717,
          -0.14285318089496282,
          0.06233043804836146,
          -0.09832013380720704,
          0.028643339129824766,
          0.00442464274124926,
          -0.020689608280722763,
          -0.015512725021675007,
          -0.0029510940056283004,
          0.03475447953310585,
          0.05562676205700441,
          -0.06013089058551815,
          0.0010851845362190601,
          -0.11788188103421793,
          0.05739636596157028,
          -0.051141944688058855,
          0.01961125833628582,
          0.16173767208229586,
          -0.07765309044416378,
          0.024681540794971483,
          -0.09905678316966236,
          0.16652797791241514,
          -0.06295675167956362,
          0.019261003022668616,
          0.024730271658549494,
          -0.04164391632887208,
          0.057206528525549666,
          0.08406311807057579,
          0.059343438490917284,
          -0.017945740428782136,
          -0.012263428958803644,
          0.15750177188133418,
          0.036729913260467546,
          0.0018257417261038562,
          -0.08503217869479773,
          0.03911275712365321,
          0.25936479819990704,
          0.48367638069214636,
          -0.08837879803441322,
          -0.10513780646303111,
          -0.1044127627448745,
          -0.025298624477112994,
          -0.020627229267505324,
          -0.027628486588186656,
          0.00457581770066168,
          -0.012573293333068017,
          0.009944663221891303,
          0.00966392632314585,
          0.0313413360907409,
          0.049797095678971885,
          0.03236850824761912,
          -0.05750571610661436,
          -0.12330769890646877,
          -0.00792095270946427,
          -0.006441880936101736,
          0.036219701284387215,
          0.009115902747793676,
          0.02228693988653704,
          0.026247949186922852,
          -0.08071106258282727,
          -0.1911414776587879,
          -0.010459439089153184,
          -0.0029896342371552513,
          -0.2066551656107291,
          0.0111477434076012,
          -0.030224963016289273,
          -0.24148800621614563,
          0.004412005168105383,
          -0.06632849442327855,
          0.007648758816181325,
          -0.0099718401822176,
          -0.13880761258549296,
          0.06912724058594069,
          0.05632666870914887,
          -0.018113845329758505,
          -0.0359954346863997,
          -0.0025898625885051826,
          -0.13564110458743583,
          -0.009386997843073628,
          -0.02368360425301213,
          -0.06958306637074355,
          0.013863359401971162,
          0.07893603005062745,
          -0.0134738517050432,
          -0.18446625990060447,
          -0.054810855010825534,
          -0.06957073824063528,
          0.0028419310507475865,
          -0.017872409698155175,
          0.12012522763123297,
          -0.024272782076862523,
          -0.04164177297493628,
          -0.02664947016022422,
          -0.005596408236755581,
          0.07038476697316765,
          -0.01794280541251123,
          0.06588580514406124,
          -0.030607984036835335,
          0.03683685976207579,
          0.15462169656554095,
          0.01801875763840678,
          -0.0777877999923379,
          -0.025699638022503277,
          0.10745486921871046,
          0.040289253001507444,
          0.13193716452058799,
          0.06014509716546194,
          0.06917592462742056,
          -0.12972910579661978,
          -0.07226981107037837,
          0.04509915314532101,
          0.08091253456132823,
          -0.17371243921907817,
          0.16902213439024533,
          -0.09467216965081199,
          0.2849919511449987,
          -0.03761527503166125,
          0.03697272544777563,
          -0.18198659640972062,
          -0.013760778519578161,
          -0.08304468427545336,
          -0.019476124339606094,
          0.0017392785357649865,
          0.40339615930184053,
          -0.005638579610829971,
          0.0289827034489338,
          0.3278627349514772,
          0.16653692552329113,
          0.007990433606282142,
          -0.06003760736293623,
          0.022814708070558718,
          0.059177719204174785,
          -0.09201738829374992,
          -0.06852198711569449,
          -0.04100433895752814,
          -0.01750216314269258,
          0.00023277289285466844,
          0.10326243940500095,
          -0.06335006774858101,
          -0.0007764236567548865,
          0.237320540409278,
          0.0019899208098288265,
          -0.09808776746848002,
          -0.06832548030876363,
          0.05887585989512007,
          -0.175854538999677,
          0.036082238724173946,
          0.01805344559305769,
          0.03738275615876043,
          -0.03621346331073199,
          0.07527102849115873,
          -0.10288719012978603,
          -0.17305473995304807,
          -0.009774006601192702,
          -0.044564936244643,
          -0.028269776905224676,
          -0.010833533070528931,
          -0.1170137740407772,
          0.4181242908589222,
          0.0010233610267687432,
          -0.051902246882709446,
          -0.13293579418297824,
          0.055471191187176104,
          -0.07061717506422018,
          -0.05033176731550802,
          -0.09671537004185707,
          0.04000055832619015,
          -0.16972672645083073,
          0.04143589480796669
         ]
        }
       ],
       "frames": [
        {
         "layout": {
          "scene": {
           "camera": {
            "eye": {
             "x": 2,
             "y": 0,
             "z": 1.5
            }
           }
          }
         }
        },
        {
         "layout": {
          "scene": {
           "camera": {
            "eye": {
             "x": 1.969615506024416,
             "y": 0.34729635533386066,
             "z": 1.5
            }
           }
          }
         }
        },
        {
         "layout": {
          "scene": {
           "camera": {
            "eye": {
             "x": 1.8793852415718169,
             "y": 0.6840402866513374,
             "z": 1.5
            }
           }
          }
         }
        },
        {
         "layout": {
          "scene": {
           "camera": {
            "eye": {
             "x": 1.7320508075688774,
             "y": 0.9999999999999999,
             "z": 1.5
            }
           }
          }
         }
        },
        {
         "layout": {
          "scene": {
           "camera": {
            "eye": {
             "x": 1.532088886237956,
             "y": 1.2855752193730785,
             "z": 1.5
            }
           }
          }
         }
        },
        {
         "layout": {
          "scene": {
           "camera": {
            "eye": {
             "x": 1.2855752193730787,
             "y": 1.532088886237956,
             "z": 1.5
            }
           }
          }
         }
        },
        {
         "layout": {
          "scene": {
           "camera": {
            "eye": {
             "x": 1.0000000000000002,
             "y": 1.7320508075688772,
             "z": 1.5
            }
           }
          }
         }
        },
        {
         "layout": {
          "scene": {
           "camera": {
            "eye": {
             "x": 0.6840402866513376,
             "y": 1.8793852415718166,
             "z": 1.5
            }
           }
          }
         }
        },
        {
         "layout": {
          "scene": {
           "camera": {
            "eye": {
             "x": 0.34729635533386083,
             "y": 1.969615506024416,
             "z": 1.5
            }
           }
          }
         }
        },
        {
         "layout": {
          "scene": {
           "camera": {
            "eye": {
             "x": 1.2246467991473532e-16,
             "y": 2,
             "z": 1.5
            }
           }
          }
         }
        },
        {
         "layout": {
          "scene": {
           "camera": {
            "eye": {
             "x": -0.3472963553338606,
             "y": 1.969615506024416,
             "z": 1.5
            }
           }
          }
         }
        },
        {
         "layout": {
          "scene": {
           "camera": {
            "eye": {
             "x": -0.6840402866513374,
             "y": 1.8793852415718169,
             "z": 1.5
            }
           }
          }
         }
        },
        {
         "layout": {
          "scene": {
           "camera": {
            "eye": {
             "x": -0.9999999999999996,
             "y": 1.7320508075688774,
             "z": 1.5
            }
           }
          }
         }
        },
        {
         "layout": {
          "scene": {
           "camera": {
            "eye": {
             "x": -1.2855752193730787,
             "y": 1.532088886237956,
             "z": 1.5
            }
           }
          }
         }
        },
        {
         "layout": {
          "scene": {
           "camera": {
            "eye": {
             "x": -1.5320888862379558,
             "y": 1.285575219373079,
             "z": 1.5
            }
           }
          }
         }
        },
        {
         "layout": {
          "scene": {
           "camera": {
            "eye": {
             "x": -1.7320508075688774,
             "y": 0.9999999999999999,
             "z": 1.5
            }
           }
          }
         }
        },
        {
         "layout": {
          "scene": {
           "camera": {
            "eye": {
             "x": -1.8793852415718166,
             "y": 0.6840402866513378,
             "z": 1.5
            }
           }
          }
         }
        },
        {
         "layout": {
          "scene": {
           "camera": {
            "eye": {
             "x": -1.969615506024416,
             "y": 0.34729635533386055,
             "z": 1.5
            }
           }
          }
         }
        },
        {
         "layout": {
          "scene": {
           "camera": {
            "eye": {
             "x": -2,
             "y": 2.4492935982947064e-16,
             "z": 1.5
            }
           }
          }
         }
        },
        {
         "layout": {
          "scene": {
           "camera": {
            "eye": {
             "x": -1.969615506024416,
             "y": -0.34729635533386094,
             "z": 1.5
            }
           }
          }
         }
        },
        {
         "layout": {
          "scene": {
           "camera": {
            "eye": {
             "x": -1.8793852415718169,
             "y": -0.6840402866513373,
             "z": 1.5
            }
           }
          }
         }
        },
        {
         "layout": {
          "scene": {
           "camera": {
            "eye": {
             "x": -1.7320508075688772,
             "y": -1.0000000000000002,
             "z": 1.5
            }
           }
          }
         }
        },
        {
         "layout": {
          "scene": {
           "camera": {
            "eye": {
             "x": -1.532088886237956,
             "y": -1.2855752193730785,
             "z": 1.5
            }
           }
          }
         }
        },
        {
         "layout": {
          "scene": {
           "camera": {
            "eye": {
             "x": -1.285575219373079,
             "y": -1.5320888862379558,
             "z": 1.5
            }
           }
          }
         }
        },
        {
         "layout": {
          "scene": {
           "camera": {
            "eye": {
             "x": -1.0000000000000009,
             "y": -1.732050807568877,
             "z": 1.5
            }
           }
          }
         }
        },
        {
         "layout": {
          "scene": {
           "camera": {
            "eye": {
             "x": -0.6840402866513371,
             "y": -1.8793852415718169,
             "z": 1.5
            }
           }
          }
         }
        },
        {
         "layout": {
          "scene": {
           "camera": {
            "eye": {
             "x": -0.34729635533386066,
             "y": -1.969615506024416,
             "z": 1.5
            }
           }
          }
         }
        },
        {
         "layout": {
          "scene": {
           "camera": {
            "eye": {
             "x": -3.6739403974420594e-16,
             "y": -2,
             "z": 1.5
            }
           }
          }
         }
        },
        {
         "layout": {
          "scene": {
           "camera": {
            "eye": {
             "x": 0.34729635533385994,
             "y": -1.9696155060244163,
             "z": 1.5
            }
           }
          }
         }
        },
        {
         "layout": {
          "scene": {
           "camera": {
            "eye": {
             "x": 0.684040286651338,
             "y": -1.8793852415718166,
             "z": 1.5
            }
           }
          }
         }
        },
        {
         "layout": {
          "scene": {
           "camera": {
            "eye": {
             "x": 1.0000000000000002,
             "y": -1.7320508075688772,
             "z": 1.5
            }
           }
          }
         }
        },
        {
         "layout": {
          "scene": {
           "camera": {
            "eye": {
             "x": 1.2855752193730785,
             "y": -1.5320888862379562,
             "z": 1.5
            }
           }
          }
         }
        },
        {
         "layout": {
          "scene": {
           "camera": {
            "eye": {
             "x": 1.5320888862379556,
             "y": -1.2855752193730792,
             "z": 1.5
            }
           }
          }
         }
        },
        {
         "layout": {
          "scene": {
           "camera": {
            "eye": {
             "x": 1.7320508075688767,
             "y": -1.0000000000000009,
             "z": 1.5
            }
           }
          }
         }
        },
        {
         "layout": {
          "scene": {
           "camera": {
            "eye": {
             "x": 1.8793852415718169,
             "y": -0.6840402866513372,
             "z": 1.5
            }
           }
          }
         }
        },
        {
         "layout": {
          "scene": {
           "camera": {
            "eye": {
             "x": 1.969615506024416,
             "y": -0.3472963553338608,
             "z": 1.5
            }
           }
          }
         }
        }
       ],
       "layout": {
        "margin": {
         "b": 0,
         "l": 0,
         "r": 0,
         "t": 50
        },
        "scene": {
         "xaxis": {
          "title": {
           "text": "PC1"
          }
         },
         "yaxis": {
          "title": {
           "text": "PC2"
          }
         },
         "zaxis": {
          "title": {
           "text": "PC3"
          }
         }
        },
        "template": {
         "data": {
          "bar": [
           {
            "error_x": {
             "color": "#2a3f5f"
            },
            "error_y": {
             "color": "#2a3f5f"
            },
            "marker": {
             "line": {
              "color": "#E5ECF6",
              "width": 0.5
             },
             "pattern": {
              "fillmode": "overlay",
              "size": 10,
              "solidity": 0.2
             }
            },
            "type": "bar"
           }
          ],
          "barpolar": [
           {
            "marker": {
             "line": {
              "color": "#E5ECF6",
              "width": 0.5
             },
             "pattern": {
              "fillmode": "overlay",
              "size": 10,
              "solidity": 0.2
             }
            },
            "type": "barpolar"
           }
          ],
          "carpet": [
           {
            "aaxis": {
             "endlinecolor": "#2a3f5f",
             "gridcolor": "white",
             "linecolor": "white",
             "minorgridcolor": "white",
             "startlinecolor": "#2a3f5f"
            },
            "baxis": {
             "endlinecolor": "#2a3f5f",
             "gridcolor": "white",
             "linecolor": "white",
             "minorgridcolor": "white",
             "startlinecolor": "#2a3f5f"
            },
            "type": "carpet"
           }
          ],
          "choropleth": [
           {
            "colorbar": {
             "outlinewidth": 0,
             "ticks": ""
            },
            "type": "choropleth"
           }
          ],
          "contour": [
           {
            "colorbar": {
             "outlinewidth": 0,
             "ticks": ""
            },
            "colorscale": [
             [
              0,
              "#0d0887"
             ],
             [
              0.1111111111111111,
              "#46039f"
             ],
             [
              0.2222222222222222,
              "#7201a8"
             ],
             [
              0.3333333333333333,
              "#9c179e"
             ],
             [
              0.4444444444444444,
              "#bd3786"
             ],
             [
              0.5555555555555556,
              "#d8576b"
             ],
             [
              0.6666666666666666,
              "#ed7953"
             ],
             [
              0.7777777777777778,
              "#fb9f3a"
             ],
             [
              0.8888888888888888,
              "#fdca26"
             ],
             [
              1,
              "#f0f921"
             ]
            ],
            "type": "contour"
           }
          ],
          "contourcarpet": [
           {
            "colorbar": {
             "outlinewidth": 0,
             "ticks": ""
            },
            "type": "contourcarpet"
           }
          ],
          "heatmap": [
           {
            "colorbar": {
             "outlinewidth": 0,
             "ticks": ""
            },
            "colorscale": [
             [
              0,
              "#0d0887"
             ],
             [
              0.1111111111111111,
              "#46039f"
             ],
             [
              0.2222222222222222,
              "#7201a8"
             ],
             [
              0.3333333333333333,
              "#9c179e"
             ],
             [
              0.4444444444444444,
              "#bd3786"
             ],
             [
              0.5555555555555556,
              "#d8576b"
             ],
             [
              0.6666666666666666,
              "#ed7953"
             ],
             [
              0.7777777777777778,
              "#fb9f3a"
             ],
             [
              0.8888888888888888,
              "#fdca26"
             ],
             [
              1,
              "#f0f921"
             ]
            ],
            "type": "heatmap"
           }
          ],
          "heatmapgl": [
           {
            "colorbar": {
             "outlinewidth": 0,
             "ticks": ""
            },
            "colorscale": [
             [
              0,
              "#0d0887"
             ],
             [
              0.1111111111111111,
              "#46039f"
             ],
             [
              0.2222222222222222,
              "#7201a8"
             ],
             [
              0.3333333333333333,
              "#9c179e"
             ],
             [
              0.4444444444444444,
              "#bd3786"
             ],
             [
              0.5555555555555556,
              "#d8576b"
             ],
             [
              0.6666666666666666,
              "#ed7953"
             ],
             [
              0.7777777777777778,
              "#fb9f3a"
             ],
             [
              0.8888888888888888,
              "#fdca26"
             ],
             [
              1,
              "#f0f921"
             ]
            ],
            "type": "heatmapgl"
           }
          ],
          "histogram": [
           {
            "marker": {
             "pattern": {
              "fillmode": "overlay",
              "size": 10,
              "solidity": 0.2
             }
            },
            "type": "histogram"
           }
          ],
          "histogram2d": [
           {
            "colorbar": {
             "outlinewidth": 0,
             "ticks": ""
            },
            "colorscale": [
             [
              0,
              "#0d0887"
             ],
             [
              0.1111111111111111,
              "#46039f"
             ],
             [
              0.2222222222222222,
              "#7201a8"
             ],
             [
              0.3333333333333333,
              "#9c179e"
             ],
             [
              0.4444444444444444,
              "#bd3786"
             ],
             [
              0.5555555555555556,
              "#d8576b"
             ],
             [
              0.6666666666666666,
              "#ed7953"
             ],
             [
              0.7777777777777778,
              "#fb9f3a"
             ],
             [
              0.8888888888888888,
              "#fdca26"
             ],
             [
              1,
              "#f0f921"
             ]
            ],
            "type": "histogram2d"
           }
          ],
          "histogram2dcontour": [
           {
            "colorbar": {
             "outlinewidth": 0,
             "ticks": ""
            },
            "colorscale": [
             [
              0,
              "#0d0887"
             ],
             [
              0.1111111111111111,
              "#46039f"
             ],
             [
              0.2222222222222222,
              "#7201a8"
             ],
             [
              0.3333333333333333,
              "#9c179e"
             ],
             [
              0.4444444444444444,
              "#bd3786"
             ],
             [
              0.5555555555555556,
              "#d8576b"
             ],
             [
              0.6666666666666666,
              "#ed7953"
             ],
             [
              0.7777777777777778,
              "#fb9f3a"
             ],
             [
              0.8888888888888888,
              "#fdca26"
             ],
             [
              1,
              "#f0f921"
             ]
            ],
            "type": "histogram2dcontour"
           }
          ],
          "mesh3d": [
           {
            "colorbar": {
             "outlinewidth": 0,
             "ticks": ""
            },
            "type": "mesh3d"
           }
          ],
          "parcoords": [
           {
            "line": {
             "colorbar": {
              "outlinewidth": 0,
              "ticks": ""
             }
            },
            "type": "parcoords"
           }
          ],
          "pie": [
           {
            "automargin": true,
            "type": "pie"
           }
          ],
          "scatter": [
           {
            "fillpattern": {
             "fillmode": "overlay",
             "size": 10,
             "solidity": 0.2
            },
            "type": "scatter"
           }
          ],
          "scatter3d": [
           {
            "line": {
             "colorbar": {
              "outlinewidth": 0,
              "ticks": ""
             }
            },
            "marker": {
             "colorbar": {
              "outlinewidth": 0,
              "ticks": ""
             }
            },
            "type": "scatter3d"
           }
          ],
          "scattercarpet": [
           {
            "marker": {
             "colorbar": {
              "outlinewidth": 0,
              "ticks": ""
             }
            },
            "type": "scattercarpet"
           }
          ],
          "scattergeo": [
           {
            "marker": {
             "colorbar": {
              "outlinewidth": 0,
              "ticks": ""
             }
            },
            "type": "scattergeo"
           }
          ],
          "scattergl": [
           {
            "marker": {
             "colorbar": {
              "outlinewidth": 0,
              "ticks": ""
             }
            },
            "type": "scattergl"
           }
          ],
          "scattermapbox": [
           {
            "marker": {
             "colorbar": {
              "outlinewidth": 0,
              "ticks": ""
             }
            },
            "type": "scattermapbox"
           }
          ],
          "scatterpolar": [
           {
            "marker": {
             "colorbar": {
              "outlinewidth": 0,
              "ticks": ""
             }
            },
            "type": "scatterpolar"
           }
          ],
          "scatterpolargl": [
           {
            "marker": {
             "colorbar": {
              "outlinewidth": 0,
              "ticks": ""
             }
            },
            "type": "scatterpolargl"
           }
          ],
          "scatterternary": [
           {
            "marker": {
             "colorbar": {
              "outlinewidth": 0,
              "ticks": ""
             }
            },
            "type": "scatterternary"
           }
          ],
          "surface": [
           {
            "colorbar": {
             "outlinewidth": 0,
             "ticks": ""
            },
            "colorscale": [
             [
              0,
              "#0d0887"
             ],
             [
              0.1111111111111111,
              "#46039f"
             ],
             [
              0.2222222222222222,
              "#7201a8"
             ],
             [
              0.3333333333333333,
              "#9c179e"
             ],
             [
              0.4444444444444444,
              "#bd3786"
             ],
             [
              0.5555555555555556,
              "#d8576b"
             ],
             [
              0.6666666666666666,
              "#ed7953"
             ],
             [
              0.7777777777777778,
              "#fb9f3a"
             ],
             [
              0.8888888888888888,
              "#fdca26"
             ],
             [
              1,
              "#f0f921"
             ]
            ],
            "type": "surface"
           }
          ],
          "table": [
           {
            "cells": {
             "fill": {
              "color": "#EBF0F8"
             },
             "line": {
              "color": "white"
             }
            },
            "header": {
             "fill": {
              "color": "#C8D4E3"
             },
             "line": {
              "color": "white"
             }
            },
            "type": "table"
           }
          ]
         },
         "layout": {
          "annotationdefaults": {
           "arrowcolor": "#2a3f5f",
           "arrowhead": 0,
           "arrowwidth": 1
          },
          "autotypenumbers": "strict",
          "coloraxis": {
           "colorbar": {
            "outlinewidth": 0,
            "ticks": ""
           }
          },
          "colorscale": {
           "diverging": [
            [
             0,
             "#8e0152"
            ],
            [
             0.1,
             "#c51b7d"
            ],
            [
             0.2,
             "#de77ae"
            ],
            [
             0.3,
             "#f1b6da"
            ],
            [
             0.4,
             "#fde0ef"
            ],
            [
             0.5,
             "#f7f7f7"
            ],
            [
             0.6,
             "#e6f5d0"
            ],
            [
             0.7,
             "#b8e186"
            ],
            [
             0.8,
             "#7fbc41"
            ],
            [
             0.9,
             "#4d9221"
            ],
            [
             1,
             "#276419"
            ]
           ],
           "sequential": [
            [
             0,
             "#0d0887"
            ],
            [
             0.1111111111111111,
             "#46039f"
            ],
            [
             0.2222222222222222,
             "#7201a8"
            ],
            [
             0.3333333333333333,
             "#9c179e"
            ],
            [
             0.4444444444444444,
             "#bd3786"
            ],
            [
             0.5555555555555556,
             "#d8576b"
            ],
            [
             0.6666666666666666,
             "#ed7953"
            ],
            [
             0.7777777777777778,
             "#fb9f3a"
            ],
            [
             0.8888888888888888,
             "#fdca26"
            ],
            [
             1,
             "#f0f921"
            ]
           ],
           "sequentialminus": [
            [
             0,
             "#0d0887"
            ],
            [
             0.1111111111111111,
             "#46039f"
            ],
            [
             0.2222222222222222,
             "#7201a8"
            ],
            [
             0.3333333333333333,
             "#9c179e"
            ],
            [
             0.4444444444444444,
             "#bd3786"
            ],
            [
             0.5555555555555556,
             "#d8576b"
            ],
            [
             0.6666666666666666,
             "#ed7953"
            ],
            [
             0.7777777777777778,
             "#fb9f3a"
            ],
            [
             0.8888888888888888,
             "#fdca26"
            ],
            [
             1,
             "#f0f921"
            ]
           ]
          },
          "colorway": [
           "#636efa",
           "#EF553B",
           "#00cc96",
           "#ab63fa",
           "#FFA15A",
           "#19d3f3",
           "#FF6692",
           "#B6E880",
           "#FF97FF",
           "#FECB52"
          ],
          "font": {
           "color": "#2a3f5f"
          },
          "geo": {
           "bgcolor": "white",
           "lakecolor": "white",
           "landcolor": "#E5ECF6",
           "showlakes": true,
           "showland": true,
           "subunitcolor": "white"
          },
          "hoverlabel": {
           "align": "left"
          },
          "hovermode": "closest",
          "mapbox": {
           "style": "light"
          },
          "paper_bgcolor": "white",
          "plot_bgcolor": "#E5ECF6",
          "polar": {
           "angularaxis": {
            "gridcolor": "white",
            "linecolor": "white",
            "ticks": ""
           },
           "bgcolor": "#E5ECF6",
           "radialaxis": {
            "gridcolor": "white",
            "linecolor": "white",
            "ticks": ""
           }
          },
          "scene": {
           "xaxis": {
            "backgroundcolor": "#E5ECF6",
            "gridcolor": "white",
            "gridwidth": 2,
            "linecolor": "white",
            "showbackground": true,
            "ticks": "",
            "zerolinecolor": "white"
           },
           "yaxis": {
            "backgroundcolor": "#E5ECF6",
            "gridcolor": "white",
            "gridwidth": 2,
            "linecolor": "white",
            "showbackground": true,
            "ticks": "",
            "zerolinecolor": "white"
           },
           "zaxis": {
            "backgroundcolor": "#E5ECF6",
            "gridcolor": "white",
            "gridwidth": 2,
            "linecolor": "white",
            "showbackground": true,
            "ticks": "",
            "zerolinecolor": "white"
           }
          },
          "shapedefaults": {
           "line": {
            "color": "#2a3f5f"
           }
          },
          "ternary": {
           "aaxis": {
            "gridcolor": "white",
            "linecolor": "white",
            "ticks": ""
           },
           "baxis": {
            "gridcolor": "white",
            "linecolor": "white",
            "ticks": ""
           },
           "bgcolor": "#E5ECF6",
           "caxis": {
            "gridcolor": "white",
            "linecolor": "white",
            "ticks": ""
           }
          },
          "title": {
           "x": 0.05
          },
          "xaxis": {
           "automargin": true,
           "gridcolor": "white",
           "linecolor": "white",
           "ticks": "",
           "title": {
            "standoff": 15
           },
           "zerolinecolor": "white",
           "zerolinewidth": 2
          },
          "yaxis": {
           "automargin": true,
           "gridcolor": "white",
           "linecolor": "white",
           "ticks": "",
           "title": {
            "standoff": 15
           },
           "zerolinecolor": "white",
           "zerolinewidth": 2
          }
         }
        },
        "title": {
         "text": "3D PCA визуализация статей"
        },
        "updatemenus": [
         {
          "buttons": [
           {
            "args": [
             null,
             {
              "frame": {
               "duration": 50,
               "redraw": true
              },
              "fromcurrent": true,
              "mode": "immediate",
              "transition": {
               "duration": 0
              }
             }
            ],
            "label": "Вращать",
            "method": "animate"
           }
          ],
          "showactive": false,
          "type": "buttons",
          "x": 1.05,
          "xanchor": "left",
          "y": 0.8,
          "yanchor": "top"
         }
        ]
       }
      }
     },
     "metadata": {},
     "output_type": "display_data"
    }
   ],
   "source": [
    "from sklearn.decomposition import PCA\n",
    "import plotly.graph_objects as go\n",
    "\n",
    "# Применяем PCA для уменьшения размерности до 3 компонент\n",
    "pca = PCA(n_components=3)\n",
    "X_pca = pca.fit_transform(X.toarray())\n",
    "\n",
    "# Создаем DataFrame для визуализации\n",
    "df_plot = pd.DataFrame({\n",
    "    'PC1': X_pca[:, 0],\n",
    "    'PC2': X_pca[:, 1],\n",
    "    'PC3': X_pca[:, 2],\n",
    "    'title': titles,\n",
    "    'label': labels\n",
    "})\n",
    "\n",
    "# Создаем 3D Scatter Plot\n",
    "fig = go.Figure(data=[go.Scatter3d(\n",
    "    x=df_plot['PC1'],\n",
    "    y=df_plot['PC2'],\n",
    "    z=df_plot['PC3'],\n",
    "    mode='markers',\n",
    "    marker=dict(\n",
    "        size=5,\n",
    "        color=df_plot['label'],\n",
    "        colorscale='Viridis',\n",
    "        opacity=0.8\n",
    "    ),\n",
    "    text=df_plot['title'],\n",
    "    hovertemplate='%{text}<extra></extra>'\n",
    ")])\n",
    "\n",
    "# Настраиваем внешний вид графика\n",
    "fig.update_layout(\n",
    "    title='3D PCA визуализация статей',\n",
    "    scene=dict(\n",
    "        xaxis_title='PC1',\n",
    "        yaxis_title='PC2',\n",
    "        zaxis_title='PC3'\n",
    "    ),\n",
    "    margin=dict(l=0, r=0, b=0, t=50)\n",
    ")\n",
    "\n",
    "# Генерируем кадры для анимации вращения графика\n",
    "frames = []\n",
    "for angle in range(0, 360, 10):\n",
    "    camera = dict(\n",
    "        eye=dict(x=2*np.cos(np.radians(angle)), y=2*np.sin(np.radians(angle)), z=1.5)\n",
    "    )\n",
    "    frames.append(go.Frame(layout=dict(scene_camera=camera)))\n",
    "\n",
    "# Добавляем кадры в график\n",
    "fig.frames = frames\n",
    "\n",
    "# Добавляем кнопки управления анимацией\n",
    "fig.update_layout(\n",
    "    updatemenus=[dict(\n",
    "        type='buttons',\n",
    "        showactive=False,\n",
    "        y=0.8,\n",
    "        x=1.05,\n",
    "        xanchor='left',\n",
    "        yanchor='top',\n",
    "        buttons=[dict(label='Вращать',\n",
    "                      method='animate',\n",
    "                      args=[None, dict(frame=dict(duration=50, redraw=True),\n",
    "                                       transition=dict(duration=0),\n",
    "                                       fromcurrent=True,\n",
    "                                       mode='immediate')])]\n",
    "    )]\n",
    ")\n",
    "\n",
    "# Отображаем график\n",
    "fig.show()\n"
   ]
  }
 ],
 "metadata": {
  "kernelspec": {
   "display_name": "Python 3",
   "language": "python",
   "name": "python3"
  },
  "language_info": {
   "codemirror_mode": {
    "name": "ipython",
    "version": 3
   },
   "file_extension": ".py",
   "mimetype": "text/x-python",
   "name": "python",
   "nbconvert_exporter": "python",
   "pygments_lexer": "ipython3",
   "version": "3.11.9"
  }
 },
 "nbformat": 4,
 "nbformat_minor": 2
}
